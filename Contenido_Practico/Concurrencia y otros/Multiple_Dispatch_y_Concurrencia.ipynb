{
  "nbformat": 4,
  "nbformat_minor": 0,
  "metadata": {
    "colab": {
      "name": "Multiple Dispatch y Concurrencia.ipynb",
      "provenance": [],
      "collapsed_sections": []
    },
    "kernelspec": {
      "display_name": "Julia 1.6",
      "language": "julia",
      "name": "julia-1.6"
    },
    "language_info": {
      "file_extension": ".jl",
      "mimetype": "application/julia",
      "name": "julia",
      "version": "1.6.0"
    }
  },
  "cells": [
    {
      "cell_type": "markdown",
      "metadata": {
        "id": "2d4-YqXbTprT"
      },
      "source": [
        "**Antes que nada correr esta celda para poder usar julia**"
      ]
    },
    {
      "cell_type": "code",
      "metadata": {
        "id": "PMGwZ7aFJL8Y"
      },
      "source": [
        "# Installation cell\n",
        "%%capture\n",
        "%%shell\n",
        "if ! command -v julia 3>&1 > /dev/null\n",
        "then\n",
        "    wget -q 'https://julialang-s3.julialang.org/bin/linux/x64/1.6/julia-1.6.1-linux-x86_64.tar.gz' \\\n",
        "        -O /tmp/julia.tar.gz\n",
        "    tar -x -f /tmp/julia.tar.gz -C /usr/local --strip-components 1\n",
        "    rm /tmp/julia.tar.gz\n",
        "fi\n",
        "julia -e 'using Pkg; pkg\"add IJulia; precompile;\"'\n",
        "echo 'Done'"
      ],
      "execution_count": null,
      "outputs": []
    },
    {
      "cell_type": "markdown",
      "metadata": {
        "id": "fNx0OEXZzvl5"
      },
      "source": [
        "#Multiple Dispatch"
      ]
    },
    {
      "cell_type": "markdown",
      "metadata": {
        "id": "08v1oBT-wkdB"
      },
      "source": [
        "Es un concepto muy importante en Julia. Ahora ¿Que pingo significa esto ura?. Ya te explico chango, la cosa es así.\n",
        "\n",
        "Nosotros cuando hablamos de un envio simple estamos hablando de un proceso en donde elegimos un método diferente o versión de una función dependiendo del tipo de entrada\n",
        "\n",
        "Y el envio multiple (*Multiple dispatch*) significa que miramos todos los tipos de entrada para todos los argumentos de la función para elegir que método o versión vamos a llamar"
      ]
    },
    {
      "cell_type": "code",
      "metadata": {
        "colab": {
          "base_uri": "https://localhost:8080/"
        },
        "id": "m4x1ALbDD3Td",
        "outputId": "f1ed5101-b37c-4d6c-a8a6-c747fae22824"
      },
      "source": [
        "#Defino un numero complejo\n",
        "cc = 3 +4im #Para definir un imaginario se pone im dsp del num"
      ],
      "execution_count": null,
      "outputs": [
        {
          "output_type": "execute_result",
          "data": {
            "text/plain": [
              "3 + 4im"
            ]
          },
          "metadata": {
            "tags": []
          },
          "execution_count": 1
        }
      ]
    },
    {
      "cell_type": "code",
      "metadata": {
        "colab": {
          "base_uri": "https://localhost:8080/",
          "height": 34
        },
        "id": "iGxqcxucE3lr",
        "outputId": "4bfe3058-1082-4dd7-f49c-f1a66ffe56f2"
      },
      "source": [
        "#Para poder ver que es lo que realmente hace Julia voy a usar un macro\n",
        "@which cc + cc"
      ],
      "execution_count": null,
      "outputs": [
        {
          "output_type": "execute_result",
          "data": {
            "text/html": [
              "+(z::<b>Complex</b>, w::<b>Complex</b>) in Base at <a href=\"https://github.com/JuliaLang/julia/tree/6aaedecc447e3d8226d5027fb13d0c3cbfbfea2a/base/complex.jl#L275\" target=\"_blank\">complex.jl:275</a>"
            ],
            "text/plain": [
              "+(z::Complex, w::Complex) in Base at complex.jl:275"
            ]
          },
          "metadata": {
            "tags": []
          },
          "execution_count": 4
        }
      ]
    },
    {
      "cell_type": "markdown",
      "metadata": {
        "id": "qL-MCIj9FsHd"
      },
      "source": [
        "Lo que me dice lo de arriba es que se usa un método que recibe dos numeros complejos y los suma.\n",
        "\n",
        "Ahora vamos a ver que pasa si sumamos un numero real"
      ]
    },
    {
      "cell_type": "code",
      "metadata": {
        "colab": {
          "base_uri": "https://localhost:8080/",
          "height": 34
        },
        "id": "Rnkqa5rMGA_L",
        "outputId": "c83e958e-8f41-4f12-c8f0-2f10401fcd03"
      },
      "source": [
        "@which cc + 4 "
      ],
      "execution_count": null,
      "outputs": [
        {
          "output_type": "execute_result",
          "data": {
            "text/html": [
              "+(z::<b>Complex</b>, x::<b>Real</b>) in Base at <a href=\"https://github.com/JuliaLang/julia/tree/6aaedecc447e3d8226d5027fb13d0c3cbfbfea2a/base/complex.jl#L313\" target=\"_blank\">complex.jl:313</a>"
            ],
            "text/plain": [
              "+(z::Complex, x::Real) in Base at complex.jl:313"
            ]
          },
          "metadata": {
            "tags": []
          },
          "execution_count": 5
        }
      ]
    },
    {
      "cell_type": "markdown",
      "metadata": {
        "id": "Pd-Ej0iUGEtV"
      },
      "source": [
        "Vemos que ahora llama a otro método, entonces esto quiere decir que entre todas las funciones definidas para la suma llama especificamente a aquellas que reciba ciertos parametros esperados"
      ]
    },
    {
      "cell_type": "code",
      "metadata": {
        "colab": {
          "base_uri": "https://localhost:8080/",
          "height": 34
        },
        "id": "VIfVAqTeGwkB",
        "outputId": "775d4385-84cd-4eaf-8659-73d179bd91f4"
      },
      "source": [
        "#Vuelvo a probar pero invirtiendo\n",
        "@which 4 + cc"
      ],
      "execution_count": null,
      "outputs": [
        {
          "output_type": "execute_result",
          "data": {
            "text/html": [
              "+(x::<b>Real</b>, z::<b>Complex</b>) in Base at <a href=\"https://github.com/JuliaLang/julia/tree/6aaedecc447e3d8226d5027fb13d0c3cbfbfea2a/base/complex.jl#L312\" target=\"_blank\">complex.jl:312</a>"
            ],
            "text/plain": [
              "+(x::Real, z::Complex) in Base at complex.jl:312"
            ]
          },
          "metadata": {
            "tags": []
          },
          "execution_count": 6
        }
      ]
    },
    {
      "cell_type": "code",
      "metadata": {
        "colab": {
          "base_uri": "https://localhost:8080/"
        },
        "id": "jZ8mk8iMG6uo",
        "outputId": "17a6c128-6c1d-4ecf-ba22-6ef007620503"
      },
      "source": [
        "#Quiero ver cuantos métodos de \"+\" hay\n",
        "+"
      ],
      "execution_count": null,
      "outputs": [
        {
          "output_type": "execute_result",
          "data": {
            "text/plain": [
              "+ (generic function with 190 methods)"
            ]
          },
          "metadata": {
            "tags": []
          },
          "execution_count": 21
        }
      ]
    },
    {
      "cell_type": "markdown",
      "metadata": {
        "id": "hxwOnEQvHHi7"
      },
      "source": [
        "**Nota importante**, cada vez que usamos este macro nos da un link a la implementación, tenganlo en cuenta"
      ]
    },
    {
      "cell_type": "markdown",
      "metadata": {
        "id": "i1xJUt27vR8M"
      },
      "source": [
        "# Multi Threading\n",
        "\n",
        "Este modelo de paralelismo tiene muchas propiedades maravillosas. Lo vemos como algo análogo a la recolección de basura: con GC, usted asigna objetos libremente sin preocuparse por cuándo y cómo se liberan. Con el paralelismo de tareas, genera tareas libremente (potencialmente millones de ellas) sin preocuparse por dónde se ejecutan."
      ]
    },
    {
      "cell_type": "code",
      "metadata": {
        "id": "0bJH83aM13wZ"
      },
      "source": [
        "import Distributed\n",
        "using Distributed"
      ],
      "execution_count": null,
      "outputs": []
    },
    {
      "cell_type": "code",
      "metadata": {
        "id": "OXMgAZ-M193A",
        "colab": {
          "base_uri": "https://localhost:8080/"
        },
        "outputId": "249c5d30-fb58-4f70-85e0-2e30be612c67"
      },
      "source": [
        "nprocs() # Para ver la cantidad de procesos"
      ],
      "execution_count": 4,
      "outputs": [
        {
          "output_type": "execute_result",
          "data": {
            "text/plain": [
              "1"
            ]
          },
          "metadata": {
            "tags": []
          },
          "execution_count": 4
        }
      ]
    },
    {
      "cell_type": "code",
      "metadata": {
        "colab": {
          "base_uri": "https://localhost:8080/"
        },
        "id": "FQVuraOl2Ofh",
        "outputId": "be3b81c1-16d4-4171-8c3d-ae95f3395be2"
      },
      "source": [
        "workers() # Para ver la cantidad de workers"
      ],
      "execution_count": 5,
      "outputs": [
        {
          "output_type": "execute_result",
          "data": {
            "text/plain": [
              "1-element Vector{Int64}:\n",
              " 1"
            ]
          },
          "metadata": {
            "tags": []
          },
          "execution_count": 5
        }
      ]
    },
    {
      "cell_type": "code",
      "metadata": {
        "colab": {
          "base_uri": "https://localhost:8080/"
        },
        "id": "24qp7yz52OsG",
        "outputId": "2f2becae-0e18-4dce-8cd4-5545e27b5886"
      },
      "source": [
        "addprocs(1) # Para agregar más procesos"
      ],
      "execution_count": 6,
      "outputs": [
        {
          "output_type": "execute_result",
          "data": {
            "text/plain": [
              "1-element Vector{Int64}:\n",
              " 2"
            ]
          },
          "metadata": {
            "tags": []
          },
          "execution_count": 6
        }
      ]
    },
    {
      "cell_type": "code",
      "metadata": {
        "colab": {
          "base_uri": "https://localhost:8080/"
        },
        "id": "cmSe4HPL2O9K",
        "outputId": "a756ad4a-68ad-40ba-ccc8-912dffe4e4ea"
      },
      "source": [
        "nprocs() # Para ver la cantidad de procesos"
      ],
      "execution_count": 7,
      "outputs": [
        {
          "output_type": "execute_result",
          "data": {
            "text/plain": [
              "2"
            ]
          },
          "metadata": {
            "tags": []
          },
          "execution_count": 7
        }
      ]
    },
    {
      "cell_type": "code",
      "metadata": {
        "colab": {
          "base_uri": "https://localhost:8080/"
        },
        "id": "Vt1exS092WKs",
        "outputId": "98490037-b22e-408d-f461-8e5ddb6de6bb"
      },
      "source": [
        "workers() "
      ],
      "execution_count": 8,
      "outputs": [
        {
          "output_type": "execute_result",
          "data": {
            "text/plain": [
              "1-element Vector{Int64}:\n",
              " 2"
            ]
          },
          "metadata": {
            "tags": []
          },
          "execution_count": 8
        }
      ]
    },
    {
      "cell_type": "code",
      "metadata": {
        "colab": {
          "base_uri": "https://localhost:8080/"
        },
        "id": "5MNwQoqa2aMW",
        "outputId": "e70f1abf-c117-4f95-fe7d-8731863e5b4c"
      },
      "source": [
        "rmprocs(2) # Para sacar procesos"
      ],
      "execution_count": 9,
      "outputs": [
        {
          "output_type": "execute_result",
          "data": {
            "text/plain": [
              "Task (done) @0x00007f4c38d08a90"
            ]
          },
          "metadata": {
            "tags": []
          },
          "execution_count": 9
        }
      ]
    },
    {
      "cell_type": "code",
      "metadata": {
        "colab": {
          "base_uri": "https://localhost:8080/"
        },
        "id": "En0jAXCI2b48",
        "outputId": "30b9c7a7-9b86-4d2c-d315-54b9f09fafaa"
      },
      "source": [
        "nprocs() "
      ],
      "execution_count": 10,
      "outputs": [
        {
          "output_type": "execute_result",
          "data": {
            "text/plain": [
              "1"
            ]
          },
          "metadata": {
            "tags": []
          },
          "execution_count": 10
        }
      ]
    },
    {
      "cell_type": "code",
      "metadata": {
        "colab": {
          "base_uri": "https://localhost:8080/"
        },
        "id": "4TVxeMSX2dQ_",
        "outputId": "3c30342f-e8cc-47a7-a705-ba761c902199"
      },
      "source": [
        "workers()"
      ],
      "execution_count": 11,
      "outputs": [
        {
          "output_type": "execute_result",
          "data": {
            "text/plain": [
              "1-element Vector{Int64}:\n",
              " 1"
            ]
          },
          "metadata": {
            "tags": []
          },
          "execution_count": 11
        }
      ]
    },
    {
      "cell_type": "markdown",
      "metadata": {
        "id": "ShGZK5fv3WVi"
      },
      "source": [
        "---"
      ]
    },
    {
      "cell_type": "code",
      "metadata": {
        "colab": {
          "base_uri": "https://localhost:8080/"
        },
        "id": "-1ZDPBkQ3XZD",
        "outputId": "d8d3f4b4-1f91-4bef-873e-00584fb63182"
      },
      "source": [
        "function F(n)\n",
        "    if n < 2\n",
        "        return n\n",
        "    else\n",
        "        return F(n-1)+F(n-2)\n",
        "    end\n",
        "end"
      ],
      "execution_count": 12,
      "outputs": [
        {
          "output_type": "execute_result",
          "data": {
            "text/plain": [
              "F (generic function with 1 method)"
            ]
          },
          "metadata": {
            "tags": []
          },
          "execution_count": 12
        }
      ]
    },
    {
      "cell_type": "code",
      "metadata": {
        "colab": {
          "base_uri": "https://localhost:8080/"
        },
        "id": "4QSoZhCa6Wv1",
        "outputId": "5de75f33-b682-4ce9-f2c2-5eea87d74d62"
      },
      "source": [
        "F(30)"
      ],
      "execution_count": 25,
      "outputs": [
        {
          "output_type": "execute_result",
          "data": {
            "text/plain": [
              "832040"
            ]
          },
          "metadata": {
            "tags": []
          },
          "execution_count": 25
        }
      ]
    },
    {
      "cell_type": "code",
      "metadata": {
        "colab": {
          "base_uri": "https://localhost:8080/"
        },
        "id": "tGL9WF-36LTw",
        "outputId": "5528a8e4-be2b-416b-d23d-9dca8f0d9b43"
      },
      "source": [
        "@time F(30);"
      ],
      "execution_count": 26,
      "outputs": [
        {
          "output_type": "stream",
          "text": [
            "  0.005672 seconds\n"
          ],
          "name": "stdout"
        }
      ]
    },
    {
      "cell_type": "code",
      "metadata": {
        "id": "36Z8i0jd7w8x"
      },
      "source": [
        "import Base.Threads.@spawn"
      ],
      "execution_count": 22,
      "outputs": []
    },
    {
      "cell_type": "code",
      "metadata": {
        "colab": {
          "base_uri": "https://localhost:8080/"
        },
        "id": "aejBozaO73P9",
        "outputId": "d4daddcf-3503-4a8f-cfba-3ed0d3553309"
      },
      "source": [
        "function fib(n::Int)\n",
        "    if n < 2\n",
        "        return n\n",
        "    end\n",
        "    t = @spawn fib(n - 2)\n",
        "    return fib(n - 1) + fetch(t)\n",
        "end"
      ],
      "execution_count": 23,
      "outputs": [
        {
          "output_type": "execute_result",
          "data": {
            "text/plain": [
              "fib (generic function with 1 method)"
            ]
          },
          "metadata": {
            "tags": []
          },
          "execution_count": 23
        }
      ]
    },
    {
      "cell_type": "code",
      "metadata": {
        "colab": {
          "base_uri": "https://localhost:8080/"
        },
        "id": "RkqZzF7n76jc",
        "outputId": "01ad5a82-da5d-44de-e01e-85457ed86501"
      },
      "source": [
        "fib(3)"
      ],
      "execution_count": 29,
      "outputs": [
        {
          "output_type": "execute_result",
          "data": {
            "text/plain": [
              "2"
            ]
          },
          "metadata": {
            "tags": []
          },
          "execution_count": 29
        }
      ]
    },
    {
      "cell_type": "code",
      "metadata": {
        "colab": {
          "base_uri": "https://localhost:8080/"
        },
        "id": "aucgdbj5F19S",
        "outputId": "d8a50a15-1055-40b3-d62a-4627488bc43a"
      },
      "source": [
        "@macroexpand @spawn fib(n - 2)"
      ],
      "execution_count": 33,
      "outputs": [
        {
          "output_type": "execute_result",
          "data": {
            "text/plain": [
              "quote\n",
              "    #= threadingconstructs.jl:172 =#\n",
              "    let\n",
              "        #= threadingconstructs.jl:173 =#\n",
              "        local var\"#61#task\" = Base.Threads.Task((()->begin\n",
              "                            #= threadingconstructs.jl:169 =#\n",
              "                            fib(n - 2)\n",
              "                        end))\n",
              "        #= threadingconstructs.jl:174 =#\n",
              "        (var\"#61#task\").sticky = false\n",
              "        #= threadingconstructs.jl:175 =#\n",
              "        if $(Expr(:islocal, Symbol(\"##sync#41\")))\n",
              "            #= threadingconstructs.jl:176 =#\n",
              "            Base.Threads.put!(var\"##sync#41\", var\"#61#task\")\n",
              "        end\n",
              "        #= threadingconstructs.jl:178 =#\n",
              "        Base.Threads.schedule(var\"#61#task\")\n",
              "        #= threadingconstructs.jl:179 =#\n",
              "        var\"#61#task\"\n",
              "    end\n",
              "end"
            ]
          },
          "metadata": {
            "tags": []
          },
          "execution_count": 33
        }
      ]
    },
    {
      "cell_type": "markdown",
      "metadata": {
        "id": "kCWSgraZFSab"
      },
      "source": [
        "## Datos mientras estudio concurrencia (borrar para la entrega final)\n"
      ]
    },
    {
      "cell_type": "markdown",
      "metadata": {
        "id": "87160gdKFU4N"
      },
      "source": [
        "Task es una corutina es un hilo ligero que se comunica entre múltiples tareas a través del canal.\n",
        "\n",
        "Es un tipo de dato que nos permite usar una unidad de trabajo computacional que podamos ejecutar cuando queramos y que se ejecute en su propia tarea (Se corre asinconicamente)\n",
        "\n",
        "El canal puede verse como una tubería, legible en un extremo y grabable en un extremo.\n",
        "\n",
        "- Se pueden pasar diferentes tareas **put!** Escribir simultáneamente en el mismo canal\n",
        "- También se pueden pasar diferentes tareas **take!** Obtener datos simultáneamente del mismo canal"
      ]
    },
    {
      "cell_type": "markdown",
      "metadata": {
        "id": "z3CSHI7_IYj_"
      },
      "source": [
        "**Definición del canal**\n",
        "\n",
        "Channel(func::Function, ctype=Any, csize=0, taskref=nothing)\n",
        "\n",
        "Crea un **Channel** con un búfer interno que puede contener un máximo de *size* objetos de tipo *T*. \n",
        "\n",
        "**put!** invoca un bloque de canal completo hasta que se elimina un elemento con **take!**."
      ]
    },
    {
      "cell_type": "code",
      "metadata": {
        "colab": {
          "base_uri": "https://localhost:8080/"
        },
        "id": "sbyYEXUXFbiz",
        "outputId": "1364377c-6dba-4199-c112-10557de6722f"
      },
      "source": [
        "c1 = Channel(32)\n",
        "c2 = Channel{Float64}(32)\n",
        "put!(c1, 1)\n",
        "put!(c2, 2)\n",
        "take!(c2)"
      ],
      "execution_count": 34,
      "outputs": [
        {
          "output_type": "execute_result",
          "data": {
            "text/plain": [
              "2.0"
            ]
          },
          "metadata": {
            "tags": []
          },
          "execution_count": 34
        }
      ]
    },
    {
      "cell_type": "markdown",
      "metadata": {
        "id": "RvHWSMioIsf5"
      },
      "source": [
        "**Despues de cerrar el canal no se puede escribir más**"
      ]
    },
    {
      "cell_type": "code",
      "metadata": {
        "id": "My6LwfCVItns"
      },
      "source": [
        "close(c1)\n",
        "#put!(c1, 3) # debería romepr"
      ],
      "execution_count": 36,
      "outputs": []
    }
  ]
}