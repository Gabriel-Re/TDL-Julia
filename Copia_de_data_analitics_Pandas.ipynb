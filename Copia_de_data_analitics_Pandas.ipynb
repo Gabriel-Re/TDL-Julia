{
  "nbformat": 4,
  "nbformat_minor": 0,
  "metadata": {
    "colab": {
      "name": "Copia_de_data_analitics_Pandas",
      "provenance": [],
      "collapsed_sections": []
    },
    "kernelspec": {
      "display_name": "Julia 1.6",
      "language": "julia",
      "name": "julia-1.6"
    },
    "language_info": {
      "file_extension": ".jl",
      "mimetype": "application/julia",
      "name": "julia",
      "version": "1.6.0"
    }
  },
  "cells": [
    {
      "cell_type": "markdown",
      "metadata": {
        "id": "2d4-YqXbTprT"
      },
      "source": [
        "**Antes que nada correr esta celda para poder usar julia**"
      ]
    },
    {
      "cell_type": "code",
      "metadata": {
        "id": "PMGwZ7aFJL8Y",
        "colab": {
          "base_uri": "https://localhost:8080/",
          "height": 88
        },
        "outputId": "b05aceb5-868e-499d-f184-63c307d66585"
      },
      "source": [
        "# Installation cell\n",
        "%%capture\n",
        "%%shell\n",
        "if ! command -v julia 3>&1 > /dev/null\n",
        "then\n",
        "    wget -q 'https://julialang-s3.julialang.org/bin/linux/x64/1.6/julia-1.6.1-linux-x86_64.tar.gz' \\\n",
        "        -O /tmp/julia.tar.gz\n",
        "    tar -x -f /tmp/julia.tar.gz -C /usr/local --strip-components 1\n",
        "    rm /tmp/julia.tar.gz\n",
        "fi\n",
        "julia -e 'using Pkg; pkg\"add IJulia; precompile;\"'\n",
        "echo 'Done'"
      ],
      "execution_count": 1,
      "outputs": [
        {
          "output_type": "display_data",
          "data": {
            "text/latex": "Unrecognized magic \\texttt{\\%\\%capture}.\n\nJulia does not use the IPython \\texttt{\\%magic} syntax.   To interact with the IJulia kernel, use \\texttt{IJulia.somefunction(...)}, for example.  Julia macros, string macros, and functions can be used to accomplish most of the other functionalities of IPython magics.\n\n",
            "text/markdown": "Unrecognized magic `%%capture`.\n\nJulia does not use the IPython `%magic` syntax.   To interact with the IJulia kernel, use `IJulia.somefunction(...)`, for example.  Julia macros, string macros, and functions can be used to accomplish most of the other functionalities of IPython magics.\n",
            "text/plain": [
              "  Unrecognized magic \u001b[36m%%capture\u001b[39m.\n",
              "\n",
              "  Julia does not use the IPython \u001b[36m%magic\u001b[39m syntax. To interact with the IJulia\n",
              "  kernel, use \u001b[36mIJulia.somefunction(...)\u001b[39m, for example. Julia macros, string\n",
              "  macros, and functions can be used to accomplish most of the other\n",
              "  functionalities of IPython magics."
            ]
          },
          "metadata": {
            "tags": []
          }
        }
      ]
    },
    {
      "cell_type": "markdown",
      "metadata": {
        "id": "XdMpcQduyaQc"
      },
      "source": [
        "Despues de ejecutar la celda de arriba, Vamos a la barra de opciones de google colab y tocamos en **Editar** y despues en **Configuración del cuaderno** que está abajo de todo casi. Seleccionamos *Julia 1.6* en Tipo de Entorno de Ejecución. Y si queremos cambiamos el acelerador por hardware (default en GPU, les recomiendo que lo saquen). \n",
        "\n",
        "<br/>Editar y configuración\n",
        "\n",
        "> ![Colab Img](https://i.imgur.com/7XLVAMN.png)\n",
        "\n",
        "<br/>Esta es la configuración que deberian tener:\n",
        "\n",
        "> ![Colab Img](https://i.imgur.com/UasidBO.png)\n",
        "\n",
        "<br/>No se olviden de guardar.\n",
        "<br/>**Arrancamos nomas, recuerden que siempre que se reinicie el entorno o lo que sea ejecuten esto**.\n",
        "\n",
        "\n",
        "\n",
        "\n"
      ]
    },
    {
      "cell_type": "markdown",
      "metadata": {
        "id": "75E3SrtCBOiw"
      },
      "source": [
        ""
      ]
    },
    {
      "cell_type": "code",
      "metadata": {
        "colab": {
          "base_uri": "https://localhost:8080/"
        },
        "id": "iIxu4TjlJnBG",
        "outputId": "9810fa5c-3df1-457a-8a8f-8a95b66be462"
      },
      "source": [
        "VERSION #Para ver la version de julia"
      ],
      "execution_count": 2,
      "outputs": [
        {
          "output_type": "execute_result",
          "data": {
            "text/plain": [
              "v\"1.6.1\""
            ]
          },
          "metadata": {
            "tags": []
          },
          "execution_count": 2
        }
      ]
    },
    {
      "cell_type": "markdown",
      "metadata": {
        "id": "bZ4N3lKG_enX"
      },
      "source": [
        "Data"
      ]
    },
    {
      "cell_type": "markdown",
      "metadata": {
        "id": "RkM-upqw_gue"
      },
      "source": [
        ""
      ]
    },
    {
      "cell_type": "code",
      "metadata": {
        "id": "2lNfADNw_kZs",
        "colab": {
          "base_uri": "https://localhost:8080/"
        },
        "outputId": "18d80ee8-6fc4-45b5-a922-ed2adb2a564d"
      },
      "source": [
        "println(\"Prueba\")"
      ],
      "execution_count": 3,
      "outputs": [
        {
          "output_type": "stream",
          "text": [
            "Prueba\n"
          ],
          "name": "stdout"
        }
      ]
    },
    {
      "cell_type": "code",
      "metadata": {
        "id": "WlBh9aQnDk4p"
      },
      "source": [
        "import Pkg\n",
        "Pkg.add(\"CSV\")\n",
        "using CSV"
      ],
      "execution_count": 4,
      "outputs": []
    },
    {
      "cell_type": "markdown",
      "metadata": {
        "id": "g5GT9g6CEPCp"
      },
      "source": [
        "Leer un CSV\n"
      ]
    },
    {
      "cell_type": "code",
      "metadata": {
        "colab": {
          "base_uri": "https://localhost:8080/"
        },
        "id": "MdwXzoe8D5tn",
        "outputId": "89f3c844-1d89-42c8-d0b0-a9bcfd74545e"
      },
      "source": [
        "csv_reader = CSV.File(\"Spotify-2000.csv\")\n",
        "println(typeof(csv_reader))"
      ],
      "execution_count": 9,
      "outputs": [
        {
          "output_type": "stream",
          "text": [
            "CSV.File{false}\n"
          ],
          "name": "stdout"
        }
      ]
    },
    {
      "cell_type": "code",
      "metadata": {
        "id": "XHg0VgdxC-Eq"
      },
      "source": [
        "using Pkg\n",
        "Pkg.add(\"Pandas\")\n",
        "using Pandas"
      ],
      "execution_count": 10,
      "outputs": []
    },
    {
      "cell_type": "code",
      "metadata": {
        "colab": {
          "base_uri": "https://localhost:8080/",
          "height": 289
        },
        "id": "zkwPGUkrGQxN",
        "outputId": "58543ebf-86bd-4813-9d77-29bd9e65bbbc"
      },
      "source": [
        "df2 = read_csv(\"Spotify-2000.csv\")\n",
        "head(df2)"
      ],
      "execution_count": 11,
      "outputs": [
        {
          "output_type": "execute_result",
          "data": {
            "text/html": [
              "<table border=\"1\" class=\"dataframe\">\n",
              "  <thead>\n",
              "    <tr style=\"text-align: right;\">\n",
              "      <th></th>\n",
              "      <th>Index</th>\n",
              "      <th>Title</th>\n",
              "      <th>Artist</th>\n",
              "      <th>Top Genre</th>\n",
              "      <th>Year</th>\n",
              "      <th>Beats Per Minute (BPM)</th>\n",
              "      <th>Energy</th>\n",
              "      <th>Danceability</th>\n",
              "      <th>Loudness (dB)</th>\n",
              "      <th>Liveness</th>\n",
              "      <th>Valence</th>\n",
              "      <th>Length (Duration)</th>\n",
              "      <th>Acousticness</th>\n",
              "      <th>Speechiness</th>\n",
              "      <th>Popularity</th>\n",
              "    </tr>\n",
              "  </thead>\n",
              "  <tbody>\n",
              "    <tr>\n",
              "      <th>0</th>\n",
              "      <td>1</td>\n",
              "      <td>Sunrise</td>\n",
              "      <td>Norah Jones</td>\n",
              "      <td>adult standards</td>\n",
              "      <td>2004</td>\n",
              "      <td>157</td>\n",
              "      <td>30</td>\n",
              "      <td>53</td>\n",
              "      <td>-14</td>\n",
              "      <td>11</td>\n",
              "      <td>68</td>\n",
              "      <td>201</td>\n",
              "      <td>94</td>\n",
              "      <td>3</td>\n",
              "      <td>71</td>\n",
              "    </tr>\n",
              "    <tr>\n",
              "      <th>1</th>\n",
              "      <td>2</td>\n",
              "      <td>Black Night</td>\n",
              "      <td>Deep Purple</td>\n",
              "      <td>album rock</td>\n",
              "      <td>2000</td>\n",
              "      <td>135</td>\n",
              "      <td>79</td>\n",
              "      <td>50</td>\n",
              "      <td>-11</td>\n",
              "      <td>17</td>\n",
              "      <td>81</td>\n",
              "      <td>207</td>\n",
              "      <td>17</td>\n",
              "      <td>7</td>\n",
              "      <td>39</td>\n",
              "    </tr>\n",
              "    <tr>\n",
              "      <th>2</th>\n",
              "      <td>3</td>\n",
              "      <td>Clint Eastwood</td>\n",
              "      <td>Gorillaz</td>\n",
              "      <td>alternative hip hop</td>\n",
              "      <td>2001</td>\n",
              "      <td>168</td>\n",
              "      <td>69</td>\n",
              "      <td>66</td>\n",
              "      <td>-9</td>\n",
              "      <td>7</td>\n",
              "      <td>52</td>\n",
              "      <td>341</td>\n",
              "      <td>2</td>\n",
              "      <td>17</td>\n",
              "      <td>69</td>\n",
              "    </tr>\n",
              "    <tr>\n",
              "      <th>3</th>\n",
              "      <td>4</td>\n",
              "      <td>The Pretender</td>\n",
              "      <td>Foo Fighters</td>\n",
              "      <td>alternative metal</td>\n",
              "      <td>2007</td>\n",
              "      <td>173</td>\n",
              "      <td>96</td>\n",
              "      <td>43</td>\n",
              "      <td>-4</td>\n",
              "      <td>3</td>\n",
              "      <td>37</td>\n",
              "      <td>269</td>\n",
              "      <td>0</td>\n",
              "      <td>4</td>\n",
              "      <td>76</td>\n",
              "    </tr>\n",
              "    <tr>\n",
              "      <th>4</th>\n",
              "      <td>5</td>\n",
              "      <td>Waitin' On A Sunny Day</td>\n",
              "      <td>Bruce Springsteen</td>\n",
              "      <td>classic rock</td>\n",
              "      <td>2002</td>\n",
              "      <td>106</td>\n",
              "      <td>82</td>\n",
              "      <td>58</td>\n",
              "      <td>-5</td>\n",
              "      <td>10</td>\n",
              "      <td>87</td>\n",
              "      <td>256</td>\n",
              "      <td>1</td>\n",
              "      <td>3</td>\n",
              "      <td>59</td>\n",
              "    </tr>\n",
              "  </tbody>\n",
              "</table>\n"
            ],
            "text/plain": [
              "   Index                   Title  ... Speechiness Popularity\n",
              "0      1                 Sunrise  ...           3         71\n",
              "1      2             Black Night  ...           7         39\n",
              "2      3          Clint Eastwood  ...          17         69\n",
              "3      4           The Pretender  ...           4         76\n",
              "4      5  Waitin' On A Sunny Day  ...           3         59\n",
              "\n",
              "[5 rows x 15 columns]\n"
            ]
          },
          "metadata": {
            "tags": []
          },
          "execution_count": 11
        }
      ]
    },
    {
      "cell_type": "code",
      "metadata": {
        "id": "FByelZMnMLnY"
      },
      "source": [
        ""
      ],
      "execution_count": 12,
      "outputs": []
    }
  ]
}