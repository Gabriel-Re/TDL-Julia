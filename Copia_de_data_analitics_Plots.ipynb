{
  "nbformat": 4,
  "nbformat_minor": 0,
  "metadata": {
    "colab": {
      "name": "Copia_de_data_analitics_Plots",
      "provenance": [],
      "collapsed_sections": [
        "MT7fAVLqWxdQ"
      ]
    },
    "kernelspec": {
      "display_name": "Julia 1.6",
      "language": "julia",
      "name": "julia-1.6"
    },
    "language_info": {
      "file_extension": ".jl",
      "mimetype": "application/julia",
      "name": "julia",
      "version": "1.6.0"
    }
  },
  "cells": [
    {
      "cell_type": "markdown",
      "metadata": {
        "id": "2d4-YqXbTprT"
      },
      "source": [
        "**Antes que nada correr esta celda para poder usar julia**"
      ]
    },
    {
      "cell_type": "code",
      "metadata": {
        "id": "PMGwZ7aFJL8Y",
        "colab": {
          "base_uri": "https://localhost:8080/",
          "height": 88
        },
        "outputId": "8bbef034-6082-4823-9aa9-c8298c3470c3"
      },
      "source": [
        "# Installation cell\n",
        "%%capture\n",
        "%%shell\n",
        "if ! command -v julia 3>&1 > /dev/null\n",
        "then\n",
        "    wget -q 'https://julialang-s3.julialang.org/bin/linux/x64/1.6/julia-1.6.1-linux-x86_64.tar.gz' \\\n",
        "        -O /tmp/julia.tar.gz\n",
        "    tar -x -f /tmp/julia.tar.gz -C /usr/local --strip-components 1\n",
        "    rm /tmp/julia.tar.gz\n",
        "fi\n",
        "julia -e 'using Pkg; pkg\"add IJulia; precompile;\"'\n",
        "echo 'Done'"
      ],
      "execution_count": 1,
      "outputs": [
        {
          "output_type": "display_data",
          "data": {
            "text/latex": "Unrecognized magic \\texttt{\\%\\%capture}.\n\nJulia does not use the IPython \\texttt{\\%magic} syntax.   To interact with the IJulia kernel, use \\texttt{IJulia.somefunction(...)}, for example.  Julia macros, string macros, and functions can be used to accomplish most of the other functionalities of IPython magics.\n\n",
            "text/markdown": "Unrecognized magic `%%capture`.\n\nJulia does not use the IPython `%magic` syntax.   To interact with the IJulia kernel, use `IJulia.somefunction(...)`, for example.  Julia macros, string macros, and functions can be used to accomplish most of the other functionalities of IPython magics.\n",
            "text/plain": [
              "  Unrecognized magic \u001b[36m%%capture\u001b[39m.\n",
              "\n",
              "  Julia does not use the IPython \u001b[36m%magic\u001b[39m syntax. To interact with the IJulia\n",
              "  kernel, use \u001b[36mIJulia.somefunction(...)\u001b[39m, for example. Julia macros, string\n",
              "  macros, and functions can be used to accomplish most of the other\n",
              "  functionalities of IPython magics."
            ]
          },
          "metadata": {
            "tags": []
          }
        }
      ]
    },
    {
      "cell_type": "markdown",
      "metadata": {
        "id": "XdMpcQduyaQc"
      },
      "source": [
        "Despues de ejecutar la celda de arriba, Vamos a la barra de opciones de google colab y tocamos en **Editar** y despues en **Configuración del cuaderno** que está abajo de todo casi. Seleccionamos *Julia 1.6* en Tipo de Entorno de Ejecución. Y si queremos cambiamos el acelerador por hardware (default en GPU, les recomiendo que lo saquen). \n",
        "\n",
        "<br/>Editar y configuración\n",
        "\n",
        "> ![Colab Img](https://i.imgur.com/7XLVAMN.png)\n",
        "\n",
        "<br/>Esta es la configuración que deberian tener:\n",
        "\n",
        "> ![Colab Img](https://i.imgur.com/UasidBO.png)\n",
        "\n",
        "<br/>No se olviden de guardar.\n",
        "<br/>**Arrancamos nomas, recuerden que siempre que se reinicie el entorno o lo que sea ejecuten esto**.\n",
        "\n",
        "\n",
        "\n",
        "\n"
      ]
    },
    {
      "cell_type": "markdown",
      "metadata": {
        "id": "75E3SrtCBOiw"
      },
      "source": [
        ""
      ]
    },
    {
      "cell_type": "code",
      "metadata": {
        "colab": {
          "base_uri": "https://localhost:8080/"
        },
        "id": "iIxu4TjlJnBG",
        "outputId": "3f97c954-1564-4242-e728-111bcd2041af"
      },
      "source": [
        "VERSION #Para ver la version de julia"
      ],
      "execution_count": 2,
      "outputs": [
        {
          "output_type": "execute_result",
          "data": {
            "text/plain": [
              "v\"1.6.1\""
            ]
          },
          "metadata": {
            "tags": []
          },
          "execution_count": 2
        }
      ]
    },
    {
      "cell_type": "markdown",
      "metadata": {
        "id": "bZ4N3lKG_enX"
      },
      "source": [
        "Data"
      ]
    },
    {
      "cell_type": "markdown",
      "metadata": {
        "id": "RkM-upqw_gue"
      },
      "source": [
        ""
      ]
    },
    {
      "cell_type": "code",
      "metadata": {
        "id": "2lNfADNw_kZs",
        "colab": {
          "base_uri": "https://localhost:8080/"
        },
        "outputId": "221003b7-a67a-49a1-c9bd-49a47a8ddf08"
      },
      "source": [
        "println(\"Prueba\")"
      ],
      "execution_count": 3,
      "outputs": [
        {
          "output_type": "stream",
          "text": [
            "Prueba\n"
          ],
          "name": "stdout"
        }
      ]
    },
    {
      "cell_type": "code",
      "metadata": {
        "id": "WlBh9aQnDk4p"
      },
      "source": [
        "import Pkg\n",
        "Pkg.add(\"CSV\")\n",
        "using CSV"
      ],
      "execution_count": 4,
      "outputs": []
    },
    {
      "cell_type": "markdown",
      "metadata": {
        "id": "g5GT9g6CEPCp"
      },
      "source": [
        "Leer un CSV\n"
      ]
    },
    {
      "cell_type": "code",
      "metadata": {
        "colab": {
          "base_uri": "https://localhost:8080/"
        },
        "id": "MdwXzoe8D5tn",
        "outputId": "18f41ad4-e06e-44bc-9eb5-79f910be1a35"
      },
      "source": [
        "csv_reader = CSV.File(\"Spotify-2000.csv\")\n",
        "println(typeof(csv_reader))"
      ],
      "execution_count": 5,
      "outputs": [
        {
          "output_type": "stream",
          "text": [
            "CSV.File{false}\n"
          ],
          "name": "stdout"
        }
      ]
    },
    {
      "cell_type": "code",
      "metadata": {
        "id": "fmFiK2yOElLR"
      },
      "source": [
        "using Pkg\n",
        "Pkg.add(\"DataFrames\")\n",
        "using DataFrames"
      ],
      "execution_count": 6,
      "outputs": []
    },
    {
      "cell_type": "code",
      "metadata": {
        "id": "fCrwtALDBxhN",
        "colab": {
          "base_uri": "https://localhost:8080/",
          "height": 741
        },
        "outputId": "1679f6fe-2c8b-473f-fed3-3e30d557cdc2"
      },
      "source": [
        "df = DataFrame(CSV.File(\"Spotify-2000.csv\"))\n"
      ],
      "execution_count": 7,
      "outputs": [
        {
          "output_type": "execute_result",
          "data": {
            "text/latex": "\\begin{tabular}{r|ccccc}\n\t& Index & Title & Artist & Top Genre & \\\\\n\t\\hline\n\t& Int64 & String & String & String & \\\\\n\t\\hline\n\t1 & 1 & Sunrise & Norah Jones & adult standards & $\\dots$ \\\\\n\t2 & 2 & Black Night & Deep Purple & album rock & $\\dots$ \\\\\n\t3 & 3 & Clint Eastwood & Gorillaz & alternative hip hop & $\\dots$ \\\\\n\t4 & 4 & The Pretender & Foo Fighters & alternative metal & $\\dots$ \\\\\n\t5 & 5 & Waitin' On A Sunny Day & Bruce Springsteen & classic rock & $\\dots$ \\\\\n\t6 & 6 & The Road Ahead (Miles Of The Unknown) & City To City & alternative pop rock & $\\dots$ \\\\\n\t7 & 7 & She Will Be Loved & Maroon 5 & pop & $\\dots$ \\\\\n\t8 & 8 & Knights of Cydonia & Muse & modern rock & $\\dots$ \\\\\n\t9 & 9 & Mr. Brightside & The Killers & modern rock & $\\dots$ \\\\\n\t10 & 10 & Without Me & Eminem & detroit hip hop & $\\dots$ \\\\\n\t11 & 11 & Love Me Tender & Elvis Presley & adult standards & $\\dots$ \\\\\n\t12 & 12 & Seven Nation Army & The White Stripes & alternative rock & $\\dots$ \\\\\n\t13 & 13 & Als Het Golft & De Dijk & dutch indie & $\\dots$ \\\\\n\t14 & 14 & I'm going home & Ten Years After & album rock & $\\dots$ \\\\\n\t15 & 15 & Fluorescent Adolescent & Arctic Monkeys & garage rock & $\\dots$ \\\\\n\t16 & 16 & Zonder Jou & Paul de Leeuw & dutch cabaret & $\\dots$ \\\\\n\t17 & 17 & Speed of Sound & Coldplay & permanent wave & $\\dots$ \\\\\n\t18 & 18 & Uninvited & Alanis Morissette & alternative rock & $\\dots$ \\\\\n\t19 & 19 & Music & John Miles & classic uk pop & $\\dots$ \\\\\n\t20 & 20 & Cry Me a River & Justin Timberlake & dance pop & $\\dots$ \\\\\n\t21 & 21 & Fix You & Coldplay & permanent wave & $\\dots$ \\\\\n\t22 & 22 & The Cave & Mumford \\& Sons & modern folk rock & $\\dots$ \\\\\n\t23 & 23 & Als De Morgen Is Gekomen & Jan Smit & dutch pop & $\\dots$ \\\\\n\t24 & 24 & Somebody Told Me & The Killers & modern rock & $\\dots$ \\\\\n\t25 & 25 & Dichterbij Dan Ooit & BLØF & dutch pop & $\\dots$ \\\\\n\t26 & 26 & Miracle & Ilse DeLange & dutch americana & $\\dots$ \\\\\n\t27 & 27 & Smokers Outside the Hospital Doors & Editors & alternative dance & $\\dots$ \\\\\n\t28 & 28 & Cleanin' Out My Closet & Eminem & detroit hip hop & $\\dots$ \\\\\n\t29 & 29 & Der Weg & Herbert Grönemeyer & german pop & $\\dots$ \\\\\n\t30 & 30 & 7 Seconds (feat. Neneh Cherry) & Youssou N'Dour & afropop & $\\dots$ \\\\\n\t$\\dots$ & $\\dots$ & $\\dots$ & $\\dots$ & $\\dots$ &  \\\\\n\\end{tabular}\n",
            "text/html": [
              "<table class=\"data-frame\"><thead><tr><th></th><th>Index</th><th>Title</th><th>Artist</th><th>Top Genre</th></tr><tr><th></th><th>Int64</th><th>String</th><th>String</th><th>String</th></tr></thead><tbody><p>1,994 rows × 15 columns (omitted printing of 11 columns)</p><tr><th>1</th><td>1</td><td>Sunrise</td><td>Norah Jones</td><td>adult standards</td></tr><tr><th>2</th><td>2</td><td>Black Night</td><td>Deep Purple</td><td>album rock</td></tr><tr><th>3</th><td>3</td><td>Clint Eastwood</td><td>Gorillaz</td><td>alternative hip hop</td></tr><tr><th>4</th><td>4</td><td>The Pretender</td><td>Foo Fighters</td><td>alternative metal</td></tr><tr><th>5</th><td>5</td><td>Waitin' On A Sunny Day</td><td>Bruce Springsteen</td><td>classic rock</td></tr><tr><th>6</th><td>6</td><td>The Road Ahead (Miles Of The Unknown)</td><td>City To City</td><td>alternative pop rock</td></tr><tr><th>7</th><td>7</td><td>She Will Be Loved</td><td>Maroon 5</td><td>pop</td></tr><tr><th>8</th><td>8</td><td>Knights of Cydonia</td><td>Muse</td><td>modern rock</td></tr><tr><th>9</th><td>9</td><td>Mr. Brightside</td><td>The Killers</td><td>modern rock</td></tr><tr><th>10</th><td>10</td><td>Without Me</td><td>Eminem</td><td>detroit hip hop</td></tr><tr><th>11</th><td>11</td><td>Love Me Tender</td><td>Elvis Presley</td><td>adult standards</td></tr><tr><th>12</th><td>12</td><td>Seven Nation Army</td><td>The White Stripes</td><td>alternative rock</td></tr><tr><th>13</th><td>13</td><td>Als Het Golft</td><td>De Dijk</td><td>dutch indie</td></tr><tr><th>14</th><td>14</td><td>I'm going home</td><td>Ten Years After</td><td>album rock</td></tr><tr><th>15</th><td>15</td><td>Fluorescent Adolescent</td><td>Arctic Monkeys</td><td>garage rock</td></tr><tr><th>16</th><td>16</td><td>Zonder Jou</td><td>Paul de Leeuw</td><td>dutch cabaret</td></tr><tr><th>17</th><td>17</td><td>Speed of Sound</td><td>Coldplay</td><td>permanent wave</td></tr><tr><th>18</th><td>18</td><td>Uninvited</td><td>Alanis Morissette</td><td>alternative rock</td></tr><tr><th>19</th><td>19</td><td>Music</td><td>John Miles</td><td>classic uk pop</td></tr><tr><th>20</th><td>20</td><td>Cry Me a River</td><td>Justin Timberlake</td><td>dance pop</td></tr><tr><th>21</th><td>21</td><td>Fix You</td><td>Coldplay</td><td>permanent wave</td></tr><tr><th>22</th><td>22</td><td>The Cave</td><td>Mumford &amp; Sons</td><td>modern folk rock</td></tr><tr><th>23</th><td>23</td><td>Als De Morgen Is Gekomen</td><td>Jan Smit</td><td>dutch pop</td></tr><tr><th>24</th><td>24</td><td>Somebody Told Me</td><td>The Killers</td><td>modern rock</td></tr><tr><th>25</th><td>25</td><td>Dichterbij Dan Ooit</td><td>BLØF</td><td>dutch pop</td></tr><tr><th>26</th><td>26</td><td>Miracle</td><td>Ilse DeLange</td><td>dutch americana</td></tr><tr><th>27</th><td>27</td><td>Smokers Outside the Hospital Doors</td><td>Editors</td><td>alternative dance</td></tr><tr><th>28</th><td>28</td><td>Cleanin' Out My Closet</td><td>Eminem</td><td>detroit hip hop</td></tr><tr><th>29</th><td>29</td><td>Der Weg</td><td>Herbert Grönemeyer</td><td>german pop</td></tr><tr><th>30</th><td>30</td><td>7 Seconds (feat. Neneh Cherry)</td><td>Youssou N'Dour</td><td>afropop</td></tr><tr><th>&vellip;</th><td>&vellip;</td><td>&vellip;</td><td>&vellip;</td><td>&vellip;</td></tr></tbody></table>"
            ],
            "text/plain": [
              "\u001b[1m1994×15 DataFrame\u001b[0m\n",
              "\u001b[1m  Row \u001b[0m│\u001b[1m Index \u001b[0m\u001b[1m Title                             \u001b[0m\u001b[1m Artist                   \u001b[0m\u001b[1m To\u001b[0m ⋯\n",
              "\u001b[1m      \u001b[0m│\u001b[90m Int64 \u001b[0m\u001b[90m String                            \u001b[0m\u001b[90m String                   \u001b[0m\u001b[90m St\u001b[0m ⋯\n",
              "──────┼─────────────────────────────────────────────────────────────────────────\n",
              "    1 │     1  Sunrise                            Norah Jones               ad ⋯\n",
              "    2 │     2  Black Night                        Deep Purple               al\n",
              "    3 │     3  Clint Eastwood                     Gorillaz                  al\n",
              "    4 │     4  The Pretender                      Foo Fighters              al\n",
              "    5 │     5  Waitin' On A Sunny Day             Bruce Springsteen         cl ⋯\n",
              "    6 │     6  The Road Ahead (Miles Of The Unk…  City To City              al\n",
              "    7 │     7  She Will Be Loved                  Maroon 5                  po\n",
              "    8 │     8  Knights of Cydonia                 Muse                      mo\n",
              "    9 │     9  Mr. Brightside                     The Killers               mo ⋯\n",
              "   10 │    10  Without Me                         Eminem                    de\n",
              "   11 │    11  Love Me Tender                     Elvis Presley             ad\n",
              "  ⋮   │   ⋮                    ⋮                             ⋮                 ⋱\n",
              " 1985 │  1985  Suite: Judy Blue Eyes - Remaster…  Crosby, Stills & Nash     al\n",
              " 1986 │  1986  Blue Suede Shoes                   Elvis Presley             ad ⋯\n",
              " 1987 │  1987  Jailhouse Rock                     Elvis Presley             ad\n",
              " 1988 │  1988  My Baby Just Cares for Me - 2013…  Nina Simone               ad\n",
              " 1989 │  1989  Summertime                         Louis Armstrong           ad\n",
              " 1990 │  1990  Heartbreak Hotel                   Elvis Presley             ad ⋯\n",
              " 1991 │  1991  Hound Dog                          Elvis Presley             ad\n",
              " 1992 │  1992  Johnny B. Goode                    Chuck Berry               bl\n",
              " 1993 │  1993  Take Five                          The Dave Brubeck Quartet  be\n",
              " 1994 │  1994  Blueberry Hill                     Fats Domino               ad ⋯\n",
              "\u001b[36m                                                12 columns and 1973 rows omitted\u001b[0m"
            ]
          },
          "metadata": {
            "tags": []
          },
          "execution_count": 7
        }
      ]
    },
    {
      "cell_type": "code",
      "metadata": {
        "id": "dTYNVXqjI4qJ"
      },
      "source": [
        "using Pkg\n",
        "Pkg.add(\"Plots\")\n",
        "using Plots"
      ],
      "execution_count": 8,
      "outputs": []
    },
    {
      "cell_type": "code",
      "metadata": {
        "id": "WG8r_jbSK4S_",
        "colab": {
          "base_uri": "https://localhost:8080/",
          "height": 420
        },
        "outputId": "ef826633-355d-4e83-ba3a-eadb9bf48114"
      },
      "source": [
        "x = 1:10; y = rand(10); # These are the plotting data\n",
        "plot(x, y)"
      ],
      "execution_count": 9,
      "outputs": [
        {
          "output_type": "execute_result",
          "data": {
            "image/svg+xml": "<?xml version=\"1.0\" encoding=\"utf-8\"?>\n<svg xmlns=\"http://www.w3.org/2000/svg\" xmlns:xlink=\"http://www.w3.org/1999/xlink\" width=\"600\" height=\"400\" viewBox=\"0 0 2400 1600\">\n<defs>\n  <clipPath id=\"clip830\">\n    <rect x=\"0\" y=\"0\" width=\"2400\" height=\"1600\"/>\n  </clipPath>\n</defs>\n<path clip-path=\"url(#clip830)\" d=\"\nM0 1600 L2400 1600 L2400 0 L0 0  Z\n  \" fill=\"#ffffff\" fill-rule=\"evenodd\" fill-opacity=\"1\"/>\n<defs>\n  <clipPath id=\"clip831\">\n    <rect x=\"480\" y=\"0\" width=\"1681\" height=\"1600\"/>\n  </clipPath>\n</defs>\n<path clip-path=\"url(#clip830)\" d=\"\nM156.598 1486.45 L2352.76 1486.45 L2352.76 47.2441 L156.598 47.2441  Z\n  \" fill=\"#ffffff\" fill-rule=\"evenodd\" fill-opacity=\"1\"/>\n<defs>\n  <clipPath id=\"clip832\">\n    <rect x=\"156\" y=\"47\" width=\"2197\" height=\"1440\"/>\n  </clipPath>\n</defs>\n<polyline clip-path=\"url(#clip832)\" style=\"stroke:#000000; stroke-linecap:butt; stroke-linejoin:round; stroke-width:2; stroke-opacity:0.1; fill:none\" points=\"\n  448.959,1486.45 448.959,47.2441 \n  \"/>\n<polyline clip-path=\"url(#clip832)\" style=\"stroke:#000000; stroke-linecap:butt; stroke-linejoin:round; stroke-width:2; stroke-opacity:0.1; fill:none\" points=\"\n  909.369,1486.45 909.369,47.2441 \n  \"/>\n<polyline clip-path=\"url(#clip832)\" style=\"stroke:#000000; stroke-linecap:butt; stroke-linejoin:round; stroke-width:2; stroke-opacity:0.1; fill:none\" points=\"\n  1369.78,1486.45 1369.78,47.2441 \n  \"/>\n<polyline clip-path=\"url(#clip832)\" style=\"stroke:#000000; stroke-linecap:butt; stroke-linejoin:round; stroke-width:2; stroke-opacity:0.1; fill:none\" points=\"\n  1830.19,1486.45 1830.19,47.2441 \n  \"/>\n<polyline clip-path=\"url(#clip832)\" style=\"stroke:#000000; stroke-linecap:butt; stroke-linejoin:round; stroke-width:2; stroke-opacity:0.1; fill:none\" points=\"\n  2290.6,1486.45 2290.6,47.2441 \n  \"/>\n<polyline clip-path=\"url(#clip830)\" style=\"stroke:#000000; stroke-linecap:butt; stroke-linejoin:round; stroke-width:4; stroke-opacity:1; fill:none\" points=\"\n  156.598,1486.45 2352.76,1486.45 \n  \"/>\n<polyline clip-path=\"url(#clip830)\" style=\"stroke:#000000; stroke-linecap:butt; stroke-linejoin:round; stroke-width:4; stroke-opacity:1; fill:none\" points=\"\n  448.959,1486.45 448.959,1469.18 \n  \"/>\n<polyline clip-path=\"url(#clip830)\" style=\"stroke:#000000; stroke-linecap:butt; stroke-linejoin:round; stroke-width:4; stroke-opacity:1; fill:none\" points=\"\n  909.369,1486.45 909.369,1469.18 \n  \"/>\n<polyline clip-path=\"url(#clip830)\" style=\"stroke:#000000; stroke-linecap:butt; stroke-linejoin:round; stroke-width:4; stroke-opacity:1; fill:none\" points=\"\n  1369.78,1486.45 1369.78,1469.18 \n  \"/>\n<polyline clip-path=\"url(#clip830)\" style=\"stroke:#000000; stroke-linecap:butt; stroke-linejoin:round; stroke-width:4; stroke-opacity:1; fill:none\" points=\"\n  1830.19,1486.45 1830.19,1469.18 \n  \"/>\n<polyline clip-path=\"url(#clip830)\" style=\"stroke:#000000; stroke-linecap:butt; stroke-linejoin:round; stroke-width:4; stroke-opacity:1; fill:none\" points=\"\n  2290.6,1486.45 2290.6,1469.18 \n  \"/>\n<path clip-path=\"url(#clip830)\" d=\"M443.612 1543.18 L459.931 1543.18 L459.931 1547.12 L437.987 1547.12 L437.987 1543.18 Q440.649 1540.43 445.232 1535.8 Q449.838 1531.15 451.019 1529.81 Q453.264 1527.28 454.144 1525.55 Q455.047 1523.79 455.047 1522.1 Q455.047 1519.34 453.102 1517.61 Q451.181 1515.87 448.079 1515.87 Q445.88 1515.87 443.426 1516.63 Q440.996 1517.4 438.218 1518.95 L438.218 1514.23 Q441.042 1513.09 443.496 1512.51 Q445.95 1511.93 447.987 1511.93 Q453.357 1511.93 456.551 1514.62 Q459.746 1517.31 459.746 1521.8 Q459.746 1523.93 458.936 1525.85 Q458.149 1527.74 456.042 1530.34 Q455.463 1531.01 452.362 1534.23 Q449.26 1537.42 443.612 1543.18 Z\" fill=\"#000000\" fill-rule=\"evenodd\" fill-opacity=\"1\" /><path clip-path=\"url(#clip830)\" d=\"M912.379 1516.63 L900.573 1535.08 L912.379 1535.08 L912.379 1516.63 M911.152 1512.56 L917.031 1512.56 L917.031 1535.08 L921.962 1535.08 L921.962 1538.97 L917.031 1538.97 L917.031 1547.12 L912.379 1547.12 L912.379 1538.97 L896.777 1538.97 L896.777 1534.46 L911.152 1512.56 Z\" fill=\"#000000\" fill-rule=\"evenodd\" fill-opacity=\"1\" /><path clip-path=\"url(#clip830)\" d=\"M1370.18 1527.98 Q1367.04 1527.98 1365.18 1530.13 Q1363.36 1532.28 1363.36 1536.03 Q1363.36 1539.76 1365.18 1541.93 Q1367.04 1544.09 1370.18 1544.09 Q1373.33 1544.09 1375.16 1541.93 Q1377.01 1539.76 1377.01 1536.03 Q1377.01 1532.28 1375.16 1530.13 Q1373.33 1527.98 1370.18 1527.98 M1379.47 1513.32 L1379.47 1517.58 Q1377.71 1516.75 1375.9 1516.31 Q1374.12 1515.87 1372.36 1515.87 Q1367.73 1515.87 1365.28 1519 Q1362.85 1522.12 1362.5 1528.44 Q1363.87 1526.43 1365.93 1525.36 Q1367.99 1524.27 1370.46 1524.27 Q1375.67 1524.27 1378.68 1527.44 Q1381.71 1530.59 1381.71 1536.03 Q1381.71 1541.36 1378.56 1544.57 Q1375.42 1547.79 1370.18 1547.79 Q1364.19 1547.79 1361.02 1543.21 Q1357.85 1538.6 1357.85 1529.87 Q1357.85 1521.68 1361.74 1516.82 Q1365.62 1511.93 1372.18 1511.93 Q1373.93 1511.93 1375.72 1512.28 Q1377.52 1512.63 1379.47 1513.32 Z\" fill=\"#000000\" fill-rule=\"evenodd\" fill-opacity=\"1\" /><path clip-path=\"url(#clip830)\" d=\"M1830.19 1530.71 Q1826.86 1530.71 1824.94 1532.49 Q1823.04 1534.27 1823.04 1537.4 Q1823.04 1540.52 1824.94 1542.31 Q1826.86 1544.09 1830.19 1544.09 Q1833.52 1544.09 1835.44 1542.31 Q1837.37 1540.5 1837.37 1537.4 Q1837.37 1534.27 1835.44 1532.49 Q1833.55 1530.71 1830.19 1530.71 M1825.51 1528.72 Q1822.5 1527.98 1820.82 1525.92 Q1819.15 1523.86 1819.15 1520.89 Q1819.15 1516.75 1822.09 1514.34 Q1825.05 1511.93 1830.19 1511.93 Q1835.35 1511.93 1838.29 1514.34 Q1841.23 1516.75 1841.23 1520.89 Q1841.23 1523.86 1839.54 1525.92 Q1837.88 1527.98 1834.89 1528.72 Q1838.27 1529.5 1840.14 1531.8 Q1842.04 1534.09 1842.04 1537.4 Q1842.04 1542.42 1838.96 1545.11 Q1835.91 1547.79 1830.19 1547.79 Q1824.47 1547.79 1821.39 1545.11 Q1818.34 1542.42 1818.34 1537.4 Q1818.34 1534.09 1820.24 1531.8 Q1822.13 1529.5 1825.51 1528.72 M1823.8 1521.33 Q1823.8 1524.02 1825.47 1525.52 Q1827.16 1527.03 1830.19 1527.03 Q1833.2 1527.03 1834.89 1525.52 Q1836.6 1524.02 1836.6 1521.33 Q1836.6 1518.65 1834.89 1517.14 Q1833.2 1515.64 1830.19 1515.64 Q1827.16 1515.64 1825.47 1517.14 Q1823.8 1518.65 1823.8 1521.33 Z\" fill=\"#000000\" fill-rule=\"evenodd\" fill-opacity=\"1\" /><path clip-path=\"url(#clip830)\" d=\"M2265.29 1543.18 L2272.93 1543.18 L2272.93 1516.82 L2264.62 1518.49 L2264.62 1514.23 L2272.88 1512.56 L2277.56 1512.56 L2277.56 1543.18 L2285.2 1543.18 L2285.2 1547.12 L2265.29 1547.12 L2265.29 1543.18 Z\" fill=\"#000000\" fill-rule=\"evenodd\" fill-opacity=\"1\" /><path clip-path=\"url(#clip830)\" d=\"M2304.64 1515.64 Q2301.03 1515.64 2299.2 1519.2 Q2297.39 1522.75 2297.39 1529.87 Q2297.39 1536.98 2299.2 1540.55 Q2301.03 1544.09 2304.64 1544.09 Q2308.27 1544.09 2310.08 1540.55 Q2311.91 1536.98 2311.91 1529.87 Q2311.91 1522.75 2310.08 1519.2 Q2308.27 1515.64 2304.64 1515.64 M2304.64 1511.93 Q2310.45 1511.93 2313.51 1516.54 Q2316.58 1521.12 2316.58 1529.87 Q2316.58 1538.6 2313.51 1543.21 Q2310.45 1547.79 2304.64 1547.79 Q2298.83 1547.79 2295.75 1543.21 Q2292.7 1538.6 2292.7 1529.87 Q2292.7 1521.12 2295.75 1516.54 Q2298.83 1511.93 2304.64 1511.93 Z\" fill=\"#000000\" fill-rule=\"evenodd\" fill-opacity=\"1\" /><polyline clip-path=\"url(#clip832)\" style=\"stroke:#000000; stroke-linecap:butt; stroke-linejoin:round; stroke-width:2; stroke-opacity:0.1; fill:none\" points=\"\n  156.598,1264.1 2352.76,1264.1 \n  \"/>\n<polyline clip-path=\"url(#clip832)\" style=\"stroke:#000000; stroke-linecap:butt; stroke-linejoin:round; stroke-width:2; stroke-opacity:0.1; fill:none\" points=\"\n  156.598,968.509 2352.76,968.509 \n  \"/>\n<polyline clip-path=\"url(#clip832)\" style=\"stroke:#000000; stroke-linecap:butt; stroke-linejoin:round; stroke-width:2; stroke-opacity:0.1; fill:none\" points=\"\n  156.598,672.915 2352.76,672.915 \n  \"/>\n<polyline clip-path=\"url(#clip832)\" style=\"stroke:#000000; stroke-linecap:butt; stroke-linejoin:round; stroke-width:2; stroke-opacity:0.1; fill:none\" points=\"\n  156.598,377.322 2352.76,377.322 \n  \"/>\n<polyline clip-path=\"url(#clip832)\" style=\"stroke:#000000; stroke-linecap:butt; stroke-linejoin:round; stroke-width:2; stroke-opacity:0.1; fill:none\" points=\"\n  156.598,81.7282 2352.76,81.7282 \n  \"/>\n<polyline clip-path=\"url(#clip830)\" style=\"stroke:#000000; stroke-linecap:butt; stroke-linejoin:round; stroke-width:4; stroke-opacity:1; fill:none\" points=\"\n  156.598,1486.45 156.598,47.2441 \n  \"/>\n<polyline clip-path=\"url(#clip830)\" style=\"stroke:#000000; stroke-linecap:butt; stroke-linejoin:round; stroke-width:4; stroke-opacity:1; fill:none\" points=\"\n  156.598,1264.1 182.952,1264.1 \n  \"/>\n<polyline clip-path=\"url(#clip830)\" style=\"stroke:#000000; stroke-linecap:butt; stroke-linejoin:round; stroke-width:4; stroke-opacity:1; fill:none\" points=\"\n  156.598,968.509 182.952,968.509 \n  \"/>\n<polyline clip-path=\"url(#clip830)\" style=\"stroke:#000000; stroke-linecap:butt; stroke-linejoin:round; stroke-width:4; stroke-opacity:1; fill:none\" points=\"\n  156.598,672.915 182.952,672.915 \n  \"/>\n<polyline clip-path=\"url(#clip830)\" style=\"stroke:#000000; stroke-linecap:butt; stroke-linejoin:round; stroke-width:4; stroke-opacity:1; fill:none\" points=\"\n  156.598,377.322 182.952,377.322 \n  \"/>\n<polyline clip-path=\"url(#clip830)\" style=\"stroke:#000000; stroke-linecap:butt; stroke-linejoin:round; stroke-width:4; stroke-opacity:1; fill:none\" points=\"\n  156.598,81.7282 182.952,81.7282 \n  \"/>\n<path clip-path=\"url(#clip830)\" d=\"M65.0198 1249.9 Q61.4087 1249.9 59.58 1253.47 Q57.7745 1257.01 57.7745 1264.14 Q57.7745 1271.24 59.58 1274.81 Q61.4087 1278.35 65.0198 1278.35 Q68.6541 1278.35 70.4596 1274.81 Q72.2883 1271.24 72.2883 1264.14 Q72.2883 1257.01 70.4596 1253.47 Q68.6541 1249.9 65.0198 1249.9 M65.0198 1246.2 Q70.83 1246.2 73.8855 1250.8 Q76.9642 1255.39 76.9642 1264.14 Q76.9642 1272.86 73.8855 1277.47 Q70.83 1282.05 65.0198 1282.05 Q59.2097 1282.05 56.131 1277.47 Q53.0754 1272.86 53.0754 1264.14 Q53.0754 1255.39 56.131 1250.8 Q59.2097 1246.2 65.0198 1246.2 Z\" fill=\"#000000\" fill-rule=\"evenodd\" fill-opacity=\"1\" /><path clip-path=\"url(#clip830)\" d=\"M85.1818 1275.5 L90.066 1275.5 L90.066 1281.38 L85.1818 1281.38 L85.1818 1275.5 Z\" fill=\"#000000\" fill-rule=\"evenodd\" fill-opacity=\"1\" /><path clip-path=\"url(#clip830)\" d=\"M104.279 1277.45 L120.598 1277.45 L120.598 1281.38 L98.6539 1281.38 L98.6539 1277.45 Q101.316 1274.69 105.899 1270.06 Q110.506 1265.41 111.686 1264.07 Q113.932 1261.54 114.811 1259.81 Q115.714 1258.05 115.714 1256.36 Q115.714 1253.61 113.77 1251.87 Q111.848 1250.13 108.746 1250.13 Q106.547 1250.13 104.094 1250.9 Q101.663 1251.66 98.8854 1253.21 L98.8854 1248.49 Q101.709 1247.36 104.163 1246.78 Q106.617 1246.2 108.654 1246.2 Q114.024 1246.2 117.219 1248.88 Q120.413 1251.57 120.413 1256.06 Q120.413 1258.19 119.603 1260.11 Q118.816 1262.01 116.709 1264.6 Q116.131 1265.27 113.029 1268.49 Q109.927 1271.68 104.279 1277.45 Z\" fill=\"#000000\" fill-rule=\"evenodd\" fill-opacity=\"1\" /><path clip-path=\"url(#clip830)\" d=\"M62.9365 954.308 Q59.3254 954.308 57.4967 957.873 Q55.6912 961.414 55.6912 968.544 Q55.6912 975.65 57.4967 979.215 Q59.3254 982.757 62.9365 982.757 Q66.5707 982.757 68.3763 979.215 Q70.205 975.65 70.205 968.544 Q70.205 961.414 68.3763 957.873 Q66.5707 954.308 62.9365 954.308 M62.9365 950.604 Q68.7467 950.604 71.8022 955.211 Q74.8809 959.794 74.8809 968.544 Q74.8809 977.271 71.8022 981.877 Q68.7467 986.46 62.9365 986.46 Q57.1264 986.46 54.0477 981.877 Q50.9921 977.271 50.9921 968.544 Q50.9921 959.794 54.0477 955.211 Q57.1264 950.604 62.9365 950.604 Z\" fill=\"#000000\" fill-rule=\"evenodd\" fill-opacity=\"1\" /><path clip-path=\"url(#clip830)\" d=\"M83.0984 979.91 L87.9827 979.91 L87.9827 985.789 L83.0984 985.789 L83.0984 979.91 Z\" fill=\"#000000\" fill-rule=\"evenodd\" fill-opacity=\"1\" /><path clip-path=\"url(#clip830)\" d=\"M111.015 955.303 L99.2095 973.752 L111.015 973.752 L111.015 955.303 M109.788 951.229 L115.668 951.229 L115.668 973.752 L120.598 973.752 L120.598 977.641 L115.668 977.641 L115.668 985.789 L111.015 985.789 L111.015 977.641 L95.4132 977.641 L95.4132 973.127 L109.788 951.229 Z\" fill=\"#000000\" fill-rule=\"evenodd\" fill-opacity=\"1\" /><path clip-path=\"url(#clip830)\" d=\"M63.2606 658.714 Q59.6495 658.714 57.8208 662.279 Q56.0152 665.821 56.0152 672.95 Q56.0152 680.057 57.8208 683.621 Q59.6495 687.163 63.2606 687.163 Q66.8948 687.163 68.7004 683.621 Q70.5291 680.057 70.5291 672.95 Q70.5291 665.821 68.7004 662.279 Q66.8948 658.714 63.2606 658.714 M63.2606 655.011 Q69.0707 655.011 72.1263 659.617 Q75.205 664.2 75.205 672.95 Q75.205 681.677 72.1263 686.283 Q69.0707 690.867 63.2606 690.867 Q57.4504 690.867 54.3717 686.283 Q51.3162 681.677 51.3162 672.95 Q51.3162 664.2 54.3717 659.617 Q57.4504 655.011 63.2606 655.011 Z\" fill=\"#000000\" fill-rule=\"evenodd\" fill-opacity=\"1\" /><path clip-path=\"url(#clip830)\" d=\"M83.4225 684.316 L88.3067 684.316 L88.3067 690.195 L83.4225 690.195 L83.4225 684.316 Z\" fill=\"#000000\" fill-rule=\"evenodd\" fill-opacity=\"1\" /><path clip-path=\"url(#clip830)\" d=\"M109.071 671.052 Q105.922 671.052 104.071 673.205 Q102.242 675.358 102.242 679.108 Q102.242 682.834 104.071 685.01 Q105.922 687.163 109.071 687.163 Q112.219 687.163 114.047 685.01 Q115.899 682.834 115.899 679.108 Q115.899 675.358 114.047 673.205 Q112.219 671.052 109.071 671.052 M118.353 656.399 L118.353 660.659 Q116.594 659.825 114.788 659.385 Q113.006 658.946 111.246 658.946 Q106.617 658.946 104.163 662.071 Q101.733 665.196 101.385 671.515 Q102.751 669.501 104.811 668.436 Q106.871 667.348 109.348 667.348 Q114.557 667.348 117.566 670.52 Q120.598 673.668 120.598 679.108 Q120.598 684.432 117.45 687.649 Q114.302 690.867 109.071 690.867 Q103.075 690.867 99.9039 686.283 Q96.7326 681.677 96.7326 672.95 Q96.7326 664.756 100.621 659.895 Q104.51 655.011 111.061 655.011 Q112.82 655.011 114.603 655.358 Q116.408 655.705 118.353 656.399 Z\" fill=\"#000000\" fill-rule=\"evenodd\" fill-opacity=\"1\" /><path clip-path=\"url(#clip830)\" d=\"M63.5152 363.121 Q59.9041 363.121 58.0754 366.685 Q56.2699 370.227 56.2699 377.357 Q56.2699 384.463 58.0754 388.028 Q59.9041 391.569 63.5152 391.569 Q67.1494 391.569 68.955 388.028 Q70.7837 384.463 70.7837 377.357 Q70.7837 370.227 68.955 366.685 Q67.1494 363.121 63.5152 363.121 M63.5152 359.417 Q69.3254 359.417 72.3809 364.023 Q75.4596 368.607 75.4596 377.357 Q75.4596 386.083 72.3809 390.69 Q69.3254 395.273 63.5152 395.273 Q57.7051 395.273 54.6264 390.69 Q51.5708 386.083 51.5708 377.357 Q51.5708 368.607 54.6264 364.023 Q57.7051 359.417 63.5152 359.417 Z\" fill=\"#000000\" fill-rule=\"evenodd\" fill-opacity=\"1\" /><path clip-path=\"url(#clip830)\" d=\"M83.6771 388.722 L88.5614 388.722 L88.5614 394.602 L83.6771 394.602 L83.6771 388.722 Z\" fill=\"#000000\" fill-rule=\"evenodd\" fill-opacity=\"1\" /><path clip-path=\"url(#clip830)\" d=\"M108.746 378.19 Q105.413 378.19 103.492 379.972 Q101.594 381.755 101.594 384.88 Q101.594 388.005 103.492 389.787 Q105.413 391.569 108.746 391.569 Q112.08 391.569 114.001 389.787 Q115.922 387.982 115.922 384.88 Q115.922 381.755 114.001 379.972 Q112.103 378.19 108.746 378.19 M104.071 376.199 Q101.061 375.458 99.3715 373.398 Q97.7048 371.338 97.7048 368.375 Q97.7048 364.232 100.645 361.824 Q103.608 359.417 108.746 359.417 Q113.908 359.417 116.848 361.824 Q119.788 364.232 119.788 368.375 Q119.788 371.338 118.098 373.398 Q116.432 375.458 113.445 376.199 Q116.825 376.986 118.7 379.278 Q120.598 381.57 120.598 384.88 Q120.598 389.903 117.52 392.588 Q114.464 395.273 108.746 395.273 Q103.029 395.273 99.9502 392.588 Q96.8947 389.903 96.8947 384.88 Q96.8947 381.57 98.7928 379.278 Q100.691 376.986 104.071 376.199 M102.358 368.815 Q102.358 371.5 104.024 373.005 Q105.714 374.509 108.746 374.509 Q111.756 374.509 113.445 373.005 Q115.158 371.5 115.158 368.815 Q115.158 366.13 113.445 364.625 Q111.756 363.121 108.746 363.121 Q105.714 363.121 104.024 364.625 Q102.358 366.13 102.358 368.815 Z\" fill=\"#000000\" fill-rule=\"evenodd\" fill-opacity=\"1\" /><path clip-path=\"url(#clip830)\" d=\"M54.2328 95.0731 L61.8717 95.0731 L61.8717 68.7075 L53.5616 70.3741 L53.5616 66.1149 L61.8254 64.4482 L66.5013 64.4482 L66.5013 95.0731 L74.1402 95.0731 L74.1402 99.0082 L54.2328 99.0082 L54.2328 95.0731 Z\" fill=\"#000000\" fill-rule=\"evenodd\" fill-opacity=\"1\" /><path clip-path=\"url(#clip830)\" d=\"M83.5845 93.1286 L88.4688 93.1286 L88.4688 99.0082 L83.5845 99.0082 L83.5845 93.1286 Z\" fill=\"#000000\" fill-rule=\"evenodd\" fill-opacity=\"1\" /><path clip-path=\"url(#clip830)\" d=\"M108.654 67.5269 Q105.043 67.5269 103.214 71.0917 Q101.409 74.6334 101.409 81.763 Q101.409 88.8694 103.214 92.4342 Q105.043 95.9758 108.654 95.9758 Q112.288 95.9758 114.094 92.4342 Q115.922 88.8694 115.922 81.763 Q115.922 74.6334 114.094 71.0917 Q112.288 67.5269 108.654 67.5269 M108.654 63.8232 Q114.464 63.8232 117.52 68.4297 Q120.598 73.013 120.598 81.763 Q120.598 90.4898 117.52 95.0962 Q114.464 99.6795 108.654 99.6795 Q102.844 99.6795 99.765 95.0962 Q96.7095 90.4898 96.7095 81.763 Q96.7095 73.013 99.765 68.4297 Q102.844 63.8232 108.654 63.8232 Z\" fill=\"#000000\" fill-rule=\"evenodd\" fill-opacity=\"1\" /><polyline clip-path=\"url(#clip832)\" style=\"stroke:#009af9; stroke-linecap:butt; stroke-linejoin:round; stroke-width:4; stroke-opacity:1; fill:none\" points=\"\n  218.754,159.516 448.959,748.528 679.164,87.9763 909.369,118.683 1139.57,763.195 1369.78,464.02 1599.98,927.928 1830.19,479.954 2060.4,1445.72 2290.6,770.665 \n  \n  \"/>\n<path clip-path=\"url(#clip830)\" d=\"\nM1983.1 216.178 L2279.55 216.178 L2279.55 95.2176 L1983.1 95.2176  Z\n  \" fill=\"#ffffff\" fill-rule=\"evenodd\" fill-opacity=\"1\"/>\n<polyline clip-path=\"url(#clip830)\" style=\"stroke:#000000; stroke-linecap:butt; stroke-linejoin:round; stroke-width:4; stroke-opacity:1; fill:none\" points=\"\n  1983.1,216.178 2279.55,216.178 2279.55,95.2176 1983.1,95.2176 1983.1,216.178 \n  \"/>\n<polyline clip-path=\"url(#clip830)\" style=\"stroke:#009af9; stroke-linecap:butt; stroke-linejoin:round; stroke-width:4; stroke-opacity:1; fill:none\" points=\"\n  2007.5,155.698 2153.92,155.698 \n  \"/>\n<path clip-path=\"url(#clip830)\" d=\"M2192.16 175.385 Q2190.35 180.015 2188.64 181.427 Q2186.93 182.839 2184.06 182.839 L2180.65 182.839 L2180.65 179.274 L2183.15 179.274 Q2184.91 179.274 2185.89 178.44 Q2186.86 177.607 2188.04 174.505 L2188.8 172.561 L2178.32 147.052 L2182.83 147.052 L2190.93 167.329 L2199.03 147.052 L2203.55 147.052 L2192.16 175.385 Z\" fill=\"#000000\" fill-rule=\"evenodd\" fill-opacity=\"1\" /><path clip-path=\"url(#clip830)\" d=\"M2210.84 169.042 L2218.48 169.042 L2218.48 142.677 L2210.17 144.343 L2210.17 140.084 L2218.43 138.418 L2223.11 138.418 L2223.11 169.042 L2230.75 169.042 L2230.75 172.978 L2210.84 172.978 L2210.84 169.042 Z\" fill=\"#000000\" fill-rule=\"evenodd\" fill-opacity=\"1\" /></svg>\n"
          },
          "metadata": {
            "tags": []
          },
          "execution_count": 9
        }
      ]
    },
    {
      "cell_type": "code",
      "metadata": {
        "id": "FByelZMnMLnY"
      },
      "source": [
        ""
      ],
      "execution_count": null,
      "outputs": []
    }
  ]
}