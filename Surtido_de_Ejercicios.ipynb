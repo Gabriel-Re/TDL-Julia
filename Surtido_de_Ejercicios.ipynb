{
  "nbformat": 4,
  "nbformat_minor": 0,
  "metadata": {
    "colab": {
      "name": "Surtido de Ejercicios.ipynb",
      "provenance": [],
      "collapsed_sections": []
    },
    "kernelspec": {
      "display_name": "Julia 1.6",
      "language": "julia",
      "name": "julia-1.6"
    },
    "language_info": {
      "file_extension": ".jl",
      "mimetype": "application/julia",
      "name": "julia",
      "version": "1.6.0"
    }
  },
  "cells": [
    {
      "cell_type": "markdown",
      "metadata": {
        "id": "2d4-YqXbTprT"
      },
      "source": [
        "**Antes que nada correr esta celda para poder usar julia**"
      ]
    },
    {
      "cell_type": "code",
      "metadata": {
        "id": "PMGwZ7aFJL8Y"
      },
      "source": [
        "# Installation cell\n",
        "%%capture\n",
        "%%shell\n",
        "if ! command -v julia 3>&1 > /dev/null\n",
        "then\n",
        "    wget -q 'https://julialang-s3.julialang.org/bin/linux/x64/1.6/julia-1.6.1-linux-x86_64.tar.gz' \\\n",
        "        -O /tmp/julia.tar.gz\n",
        "    tar -x -f /tmp/julia.tar.gz -C /usr/local --strip-components 1\n",
        "    rm /tmp/julia.tar.gz\n",
        "fi\n",
        "julia -e 'using Pkg; pkg\"add IJulia; precompile;\"'\n",
        "echo 'Done'"
      ],
      "execution_count": null,
      "outputs": []
    },
    {
      "cell_type": "markdown",
      "metadata": {
        "id": "XdMpcQduyaQc"
      },
      "source": [
        "Despues de ejecutar la celda de arriba, Vamos a la barra de opciones de google colab y tocamos en **Editar** y despues en **Configuración del cuaderno** que está abajo de todo casi. Seleccionamos *Julia 1.6* en Tipo de Entorno de Ejecución. Y si queremos cambiamos el acelerador por hardware (default en GPU, les recomiendo que lo saquen). \n",
        "\n",
        "<br/>Editar y configuración\n",
        "\n",
        "> ![Colab Img](https://i.imgur.com/7XLVAMN.png)\n",
        "\n",
        "<br/>Esta es la configuración que deberian tener:\n",
        "\n",
        "> ![Colab Img](https://i.imgur.com/UasidBO.png)\n",
        "\n",
        "<br/>No se olviden de guardar.\n",
        "<br/>**Arrancamos nomas, recuerden que siempre que se reinicie el entorno o lo que sea ejecuten esto**.\n",
        "\n",
        "\n",
        "\n",
        "\n"
      ]
    },
    {
      "cell_type": "code",
      "metadata": {
        "id": "iIxu4TjlJnBG",
        "colab": {
          "base_uri": "https://localhost:8080/"
        },
        "outputId": "beb128f9-64e0-44ef-bf81-e3c1c7fafa8c"
      },
      "source": [
        "VERSION #Para ver la version de julia"
      ],
      "execution_count": null,
      "outputs": [
        {
          "output_type": "execute_result",
          "data": {
            "text/plain": [
              "v\"1.6.1\""
            ]
          },
          "metadata": {
            "tags": []
          },
          "execution_count": 1
        }
      ]
    },
    {
      "cell_type": "markdown",
      "metadata": {
        "id": "V63hI_KnpzJ4"
      },
      "source": [
        "\n",
        "## Links:\n",
        "### https://introajulia.org/ -> Bastante completo el link\n",
        "### https://es.xcv.wiki/wiki/Multiple_dispatch -> Multiple_Dispatch pa los pi\n",
        "### https://julialang.org/blog/2012/02/why-we-created-julia/ -> Por qué se creo Julia (ingles)\n",
        "### https://docs.julialang.org/en/v1/ -> Documentación Julia (Ingles)\n",
        "### https://julialang.org/benchmarks/ -> Comparaciones con Julia y otros lenguajes\n",
        "### https://es.wikipedia.org/wiki/Julia_(lenguaje_de_programaci%C3%B3n) -> La vieja confiable\n",
        "### https://en.wikipedia.org/wiki/List_of_algorithms -> Lista de algoritmos \n",
        "### https://github.com/jltabara/Julia-y-las-Matematicas/blob/master/Julia01.md -> Matemática básica\n",
        "\n",
        "#Matemática\n",
        "### https://github.com/jltabara/Julia-y-las-Matematicas/blob/master/Julia01.md -> Matemática básica\n",
        "### https://joseluistabaracarbajo.gitbooks.io/julia-y-las-matematicas/content/Julia03.html -> Matrices, vectores y eso\n",
        "### https://docs.julialang.org/en/v1/stdlib/LinearAlgebra/ -> Matrices más a fondo, tipos, etc\n",
        "### https://julia-cn.readthedocs.io/es/latest/manual/arrays.html -> Vectores\n",
        "### http://web.mit.edu/julia_v0.6.2/julia/share/doc/julia/html/en/stdlib/linalg.html -> linear algebra biblioteca\n",
        "### https://docs.julialang.org/en/v1/stdlib/LinearAlgebra/"
      ]
    },
    {
      "cell_type": "markdown",
      "metadata": {
        "id": "lv4UD3YRJHZx"
      },
      "source": [
        "#Prueba de código\n"
      ]
    },
    {
      "cell_type": "markdown",
      "metadata": {
        "id": "Lt4Fq6fpptpL"
      },
      "source": [
        "###Problemas encontrados para DVS:\n",
        "- U es dificil de sacar sin dejar algo muy sucio ya que cada u_i se divide por un valor singular que puede ser 0.\n",
        "- https://github.com/JuliaLang/julia/issues/6965 debate por el mal funcionamiento de eigs\n",
        "- Autovalores que deberian ser 0 son numeros negativos."
      ]
    },
    {
      "cell_type": "markdown",
      "metadata": {
        "id": "uMmXyQoPuaMU"
      },
      "source": [
        "http://web.mit.edu/julia_v0.6.2/julia/share/doc/julia/html/en/stdlib/linalg.html \n",
        "\n",
        "Linear Algebra con sus funciones ya implementadas para poder utilizar (ya está implementada la dvs o svd como le quieras decir bbto)\n"
      ]
    },
    {
      "cell_type": "code",
      "metadata": {
        "colab": {
          "base_uri": "https://localhost:8080/"
        },
        "id": "YF-5ROaPkNTQ",
        "outputId": "dcbf8b90-4cf2-4766-94a3-7e36a5ea0c68"
      },
      "source": [
        "A = [50 0 40 ; 0 0 0 ; 40 0 50]\n",
        "A = [10 0 50 25 4 10 70; 0 3 20 15 6 11 5; 0 0 7 3 10 20 1; 0 0 0 6 9 30 8; 0 0 0 0 2 15 11; 0 0 0 0 0 10 20; 0 0 0 0 0 0 10]\n",
        "\n",
        "avas = eigvals(A)\n",
        "aves = eigvecs(A)\n",
        "\n",
        "show(stdout, \"text/plain\", A)\n",
        "println(\"\")\n",
        "println(\"\")\n",
        "show(stdout, \"text/plain\", avas)\n",
        "println(\"\")\n",
        "println(\"\")\n",
        "show(stdout, \"text/plain\", aves)\n",
        "println(\"\")\n",
        "println(\"\")\n",
        "\n",
        "B = aves * diagm(avas) * inv(aves) \n",
        "show(stdout, \"text/plain\", B)\n",
        "println(\"\")\n",
        "println(\"\")\n",
        "println(eigvals(B))\n"
      ],
      "execution_count": null,
      "outputs": [
        {
          "output_type": "stream",
          "text": [
            "7×7 Matrix{Int64}:\n",
            " 10  0  50  25   4  10  70\n",
            "  0  3  20  15   6  11   5\n",
            "  0  0   7   3  10  20   1\n",
            "  0  0   0   6   9  30   8\n",
            "  0  0   0   0   2  15  11\n",
            "  0  0   0   0   0  10  20\n",
            "  0  0   0   0   0   0  10\n",
            "\n",
            "7-element Vector{Float64}:\n",
            "  2.0\n",
            "  3.0\n",
            "  6.0\n",
            "  7.0\n",
            " 10.0\n",
            " 10.0\n",
            " 10.0\n",
            "\n",
            "7×7 Matrix{Float64}:\n",
            "  0.251147   0.0   0.897795   -0.956248   1.0  -1.0           1.0\n",
            "  0.966064   1.0  -0.430942    0.286875   0.0   1.42071e-16  -1.42071e-16\n",
            " -0.0154096  0.0  -0.0861883   0.0573749  0.0   3.54689e-17  -3.54689e-17\n",
            " -0.053341   0.0   0.0287294   0.0        0.0   1.68721e-17  -1.68721e-17\n",
            "  0.0237071  0.0   0.0         0.0        0.0   2.69954e-18  -2.69954e-18\n",
            "  0.0        0.0   0.0         0.0        0.0   1.43975e-18  -1.43975e-18\n",
            "  0.0        0.0   0.0         0.0        0.0   0.0           1.59845e-34\n",
            "\n",
            "7×7 Matrix{Float64}:\n",
            " 10.0           1.74707e-17  50.0          25.0           4.0  -5888.0       6.91753e18\n",
            "  2.71575e-15   3.0          20.0          15.0           6.0   1087.88    244.595\n",
            "  7.28443e-16  -1.67719e-18   7.0           3.0          10.0    145.857   -72.1118\n",
            " -4.2245e-17    5.59064e-19  -2.97425e-15   6.0           9.0    -79.0364   63.378\n",
            " -2.10561e-17   0.0           5.05347e-16   1.17914e-15   2.0     11.4376   25.132\n",
            "  0.0           0.0           0.0           0.0           0.0     10.0      -4.58907\n",
            "  0.0           0.0           0.0           0.0           0.0      0.0      10.0\n",
            "\n",
            "[2.0000000000000018, 3.0, 5.999999999999995, 6.999999999999991, 10.0, 10.0, 10.0]\n"
          ],
          "name": "stdout"
        }
      ]
    },
    {
      "cell_type": "markdown",
      "metadata": {
        "id": "NZno9rfs03PF"
      },
      "source": [
        "#DVS\n",
        "\n",
        "Si F::SVD (F es de tipo svd) se puede obtener U, S y V de la siguiente manera:\n",
        "\n",
        "U = F.U\n",
        "\n",
        "S = F.S (Esta ordenado de forma descendente)\n",
        "\n",
        "V = F.V o para devolver la transpuesta F.Vt\n",
        "\n",
        "Para ver si la svd se realizo correctamente se puede realizar la siguiente operación\n",
        "\n",
        "A = U * Diagonal(S) * Vt"
      ]
    },
    {
      "cell_type": "code",
      "metadata": {
        "id": "Q8Eo6Tlo0Te4"
      },
      "source": [
        "using LinearAlgebra"
      ],
      "execution_count": null,
      "outputs": []
    },
    {
      "cell_type": "code",
      "metadata": {
        "colab": {
          "base_uri": "https://localhost:8080/"
        },
        "id": "Cc8frS3r1DDY",
        "outputId": "33c0dc8b-a6d9-4839-d1f6-76b42aa4aed3"
      },
      "source": [
        "#Creo la matrix\n",
        "A = [1. 0. 0. 0. 2.; 0. 0. 3. 0. 0.; 0. 0. 0. 0. 0.; 0. 2. 0. 0. 0.]"
      ],
      "execution_count": null,
      "outputs": [
        {
          "output_type": "execute_result",
          "data": {
            "text/plain": [
              "4×5 Matrix{Float64}:\n",
              " 1.0  0.0  0.0  0.0  2.0\n",
              " 0.0  0.0  3.0  0.0  0.0\n",
              " 0.0  0.0  0.0  0.0  0.0\n",
              " 0.0  2.0  0.0  0.0  0.0"
            ]
          },
          "metadata": {
            "tags": []
          },
          "execution_count": 4
        }
      ]
    },
    {
      "cell_type": "code",
      "metadata": {
        "colab": {
          "base_uri": "https://localhost:8080/"
        },
        "id": "kc82qsc61PHP",
        "outputId": "9285128e-48eb-4540-b970-6433096c6f1b"
      },
      "source": [
        "#Hago la svd de A que va a ser almacenada en F\n",
        "F = svd(A)"
      ],
      "execution_count": null,
      "outputs": [
        {
          "output_type": "execute_result",
          "data": {
            "text/plain": [
              "SVD{Float64, Float64, Matrix{Float64}}\n",
              "U factor:\n",
              "4×4 Matrix{Float64}:\n",
              " 0.0  1.0  0.0   0.0\n",
              " 1.0  0.0  0.0   0.0\n",
              " 0.0  0.0  0.0  -1.0\n",
              " 0.0  0.0  1.0   0.0\n",
              "singular values:\n",
              "4-element Vector{Float64}:\n",
              " 3.0\n",
              " 2.23606797749979\n",
              " 2.0\n",
              " 0.0\n",
              "Vt factor:\n",
              "4×5 Matrix{Float64}:\n",
              " -0.0       0.0  1.0  -0.0  0.0\n",
              "  0.447214  0.0  0.0   0.0  0.894427\n",
              " -0.0       1.0  0.0  -0.0  0.0\n",
              "  0.0       0.0  0.0   1.0  0.0"
            ]
          },
          "metadata": {
            "tags": []
          },
          "execution_count": 6
        }
      ]
    },
    {
      "cell_type": "code",
      "metadata": {
        "colab": {
          "base_uri": "https://localhost:8080/"
        },
        "id": "hlzzt8yP1d8l",
        "outputId": "87ecf29c-e9ed-4508-efb1-60ba2e637e34"
      },
      "source": [
        "#Multiplico las descomposiciones para ver si realmente me devuelve la matriz\n",
        "F.U * Diagonal(F.S) * F.Vt\n",
        "#Diagonal(matriz) me devuelve la diagonal de la diagonal"
      ],
      "execution_count": null,
      "outputs": [
        {
          "output_type": "execute_result",
          "data": {
            "text/plain": [
              "4×5 Matrix{Float64}:\n",
              " 1.0  0.0  0.0  0.0  2.0\n",
              " 0.0  0.0  3.0  0.0  0.0\n",
              " 0.0  0.0  0.0  0.0  0.0\n",
              " 0.0  2.0  0.0  0.0  0.0"
            ]
          },
          "metadata": {
            "tags": []
          },
          "execution_count": 7
        }
      ]
    },
    {
      "cell_type": "code",
      "metadata": {
        "id": "VBGHt0aD2YvP"
      },
      "source": [
        "#Creo variables en las cuales guardo u, sigma y v transpuesta\n",
        "u, s, v = F;"
      ],
      "execution_count": null,
      "outputs": []
    },
    {
      "cell_type": "code",
      "metadata": {
        "colab": {
          "base_uri": "https://localhost:8080/"
        },
        "id": "eRB7qIRX2i1k",
        "outputId": "64b34787-fa49-40af-d1ae-ef94c2b4b55f"
      },
      "source": [
        "u"
      ],
      "execution_count": null,
      "outputs": [
        {
          "output_type": "execute_result",
          "data": {
            "text/plain": [
              "4×4 Matrix{Float64}:\n",
              " 0.0  1.0  0.0   0.0\n",
              " 1.0  0.0  0.0   0.0\n",
              " 0.0  0.0  0.0  -1.0\n",
              " 0.0  0.0  1.0   0.0"
            ]
          },
          "metadata": {
            "tags": []
          },
          "execution_count": 9
        }
      ]
    },
    {
      "cell_type": "code",
      "metadata": {
        "colab": {
          "base_uri": "https://localhost:8080/"
        },
        "id": "9NdLn4Go2jpE",
        "outputId": "b88e973b-4173-4a9a-cb77-df0e3149944f"
      },
      "source": [
        "s"
      ],
      "execution_count": null,
      "outputs": [
        {
          "output_type": "execute_result",
          "data": {
            "text/plain": [
              "4-element Vector{Float64}:\n",
              " 3.0\n",
              " 2.23606797749979\n",
              " 2.0\n",
              " 0.0"
            ]
          },
          "metadata": {
            "tags": []
          },
          "execution_count": 10
        }
      ]
    },
    {
      "cell_type": "code",
      "metadata": {
        "colab": {
          "base_uri": "https://localhost:8080/"
        },
        "id": "_-hsXiUp2k3B",
        "outputId": "078382ff-f7f6-4b4f-acb0-221fd24a1e71"
      },
      "source": [
        "v"
      ],
      "execution_count": null,
      "outputs": [
        {
          "output_type": "execute_result",
          "data": {
            "text/plain": [
              "5×4 adjoint(::Matrix{Float64}) with eltype Float64:\n",
              " -0.0  0.447214  -0.0  0.0\n",
              "  0.0  0.0        1.0  0.0\n",
              "  1.0  0.0        0.0  0.0\n",
              " -0.0  0.0       -0.0  1.0\n",
              "  0.0  0.894427   0.0  0.0"
            ]
          },
          "metadata": {
            "tags": []
          },
          "execution_count": 18
        }
      ]
    },
    {
      "cell_type": "code",
      "metadata": {
        "colab": {
          "base_uri": "https://localhost:8080/"
        },
        "id": "q7DZBx-y2rUJ",
        "outputId": "0e5128d4-48d8-4431-bc6a-1dad4f9679a5"
      },
      "source": [
        "#Chequeo si la\n",
        "u == F.U && s == F.S && v == F.V"
      ],
      "execution_count": null,
      "outputs": [
        {
          "output_type": "execute_result",
          "data": {
            "text/plain": [
              "true"
            ]
          },
          "metadata": {
            "tags": []
          },
          "execution_count": 12
        }
      ]
    },
    {
      "cell_type": "markdown",
      "metadata": {
        "id": "CHk683RL9u7d"
      },
      "source": [
        "Cosas sacadas de los videos de argerich:\n",
        "\n",
        "![DVS](https://i.imgur.com/P4FVJpr.png)\n",
        "Formas de interpretar al dvs \n",
        "\n",
        "Aproximaciones de rango r de una matriz http://prntscr.com/14r2w6o"
      ]
    },
    {
      "cell_type": "markdown",
      "metadata": {
        "id": "y8bejmE8BctB"
      },
      "source": [
        "**Para que usar svd**\n",
        "\n",
        "- Compresión de imagenes:\n",
        "\n",
        "Si consideramos a la imagen como una matrix de píxeles, podemos aplicarle la svd y quedarnos con los r valores singulares más grandes (aproximaciónn de rango r), mientras mas chico r mayor sera la compresión.\n",
        "\n",
        "Tener en cuenta que estamos descartando info importante para la imagen\n",
        "\n",
        "![Compresión de imágenes](https://i.imgur.com/CkYfaM1.png)Lo que se puede hacer con compresión de imagenes\n",
        "\n",
        "http://timbaumann.info/svd-image-compression-demo/\n",
        "\n",
        "**Otras aplicaciones:**\n",
        "\n",
        "- Reducción de dimensiones de un dataset\n",
        "- Information retrieval, Analisis Semantico Latente(LSA)\n",
        "- Sistemas de recomendación\n",
        "- Procesamiento de señales\n",
        "- Motores de busqueda (ver CubeSVD p.ej)\n",
        "\n",
        "\n",
        "**Lecturas recomendadas**\n",
        "\n",
        "- Lectura de G. Strang:\n",
        "  https://www.youtube.com/watch?v=mBcLRGuAFUk  \n",
        "\n",
        "- Algo de intuición sobre lo que hace la SVD:\n",
        "  https://gregorygundersen.com/blog/2018/12/10/svd/ \n",
        "\n",
        "- Explicación con algo de código:\n",
        "  https://ethen8181.github.io/machine-learning/dim_reduct/svd.html \n",
        "\n"
      ]
    },
    {
      "cell_type": "markdown",
      "metadata": {
        "id": "-5rfod0DMMUp"
      },
      "source": [
        "#Fibonacci Recursivo\n",
        "\n"
      ]
    },
    {
      "cell_type": "markdown",
      "metadata": {
        "id": "ggxYhyKtNcqC"
      },
      "source": [
        "## Teoría\n",
        "\n",
        "**Recuerdo**\n",
        "\n",
        "La secuencia se genera suamndo dos numeros consecutivos para obtener el siguiente.\n",
        "\n",
        "La sucesión comienza en el 1 y para saber el siguiente numero de la sucesión  se le suma el anterior: \n",
        "\n",
        "1 + 0 = 1\n",
        "\n",
        "Y asi con todos los numeros. Es importante recordar que ya hay definiciones preestablecidas, a continuación hago referencia a ellas en la siguiente imagen.\n",
        "\n",
        "![Fibonacci](https://imgur.com/2hLPc0C.png)"
      ]
    },
    {
      "cell_type": "markdown",
      "metadata": {
        "id": "7IGTWfmbNYYK"
      },
      "source": [
        "##Implementación en Julia"
      ]
    },
    {
      "cell_type": "code",
      "metadata": {
        "colab": {
          "base_uri": "https://localhost:8080/"
        },
        "id": "a3LcdC6SMLYP",
        "outputId": "7f9bec12-9495-4e85-a54e-aa8f713d0e9a"
      },
      "source": [
        "#Defino Fibonacci\n",
        "function Fibonacci(numero)\n",
        "           if numero < 2\n",
        "               return numero\n",
        "           else\n",
        "               return Fibonacci(numero-1)+Fibonacci(numero-2)\n",
        "           end\n",
        "       end"
      ],
      "execution_count": 1,
      "outputs": [
        {
          "output_type": "execute_result",
          "data": {
            "text/plain": [
              "Fibonacci (generic function with 1 method)"
            ]
          },
          "metadata": {
            "tags": []
          },
          "execution_count": 1
        }
      ]
    },
    {
      "cell_type": "code",
      "metadata": {
        "id": "_w20MmuyN9pS",
        "colab": {
          "base_uri": "https://localhost:8080/"
        },
        "outputId": "37b4add0-6a2c-4625-88e3-de36fe635bf5"
      },
      "source": [
        "#Pruebo si funciona correctamente\n",
        "Fibonacci(8)"
      ],
      "execution_count": 3,
      "outputs": [
        {
          "output_type": "execute_result",
          "data": {
            "text/plain": [
              "21"
            ]
          },
          "metadata": {
            "tags": []
          },
          "execution_count": 3
        }
      ]
    },
    {
      "cell_type": "markdown",
      "metadata": {
        "id": "Fh4G_CIQOUQz"
      },
      "source": [
        "Observo que al ingresar un valor muy elevado la ejecución tarda demasiado tiempo, esto se debe a que Julia no tiene llamados a optimización como si lo tiene el compilador de C."
      ]
    }
  ]
}