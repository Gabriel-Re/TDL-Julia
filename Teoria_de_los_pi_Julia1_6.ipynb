{
  "nbformat": 4,
  "nbformat_minor": 0,
  "metadata": {
    "colab": {
      "name": "Teoria de los pi- Julia1.6.ipynb",
      "provenance": [],
      "collapsed_sections": []
    },
    "kernelspec": {
      "display_name": "Julia 1.6",
      "language": "julia",
      "name": "julia-1.6"
    },
    "language_info": {
      "file_extension": ".jl",
      "mimetype": "application/julia",
      "name": "julia",
      "version": "1.6.0"
    }
  },
  "cells": [
    {
      "cell_type": "markdown",
      "metadata": {
        "id": "2d4-YqXbTprT"
      },
      "source": [
        "**Antes que nada correr esta celda para poder usar julia**"
      ]
    },
    {
      "cell_type": "code",
      "metadata": {
        "id": "PMGwZ7aFJL8Y"
      },
      "source": [
        "# Installation cell\n",
        "%%capture\n",
        "%%shell\n",
        "if ! command -v julia 3>&1 > /dev/null\n",
        "then\n",
        "    wget -q 'https://julialang-s3.julialang.org/bin/linux/x64/1.6/julia-1.6.1-linux-x86_64.tar.gz' \\\n",
        "        -O /tmp/julia.tar.gz\n",
        "    tar -x -f /tmp/julia.tar.gz -C /usr/local --strip-components 1\n",
        "    rm /tmp/julia.tar.gz\n",
        "fi\n",
        "julia -e 'using Pkg; pkg\"add IJulia; precompile;\"'\n",
        "echo 'Done'"
      ],
      "execution_count": null,
      "outputs": []
    },
    {
      "cell_type": "markdown",
      "metadata": {
        "id": "XdMpcQduyaQc"
      },
      "source": [
        "Despues de ejecutar la celda de arriba, Vamos a la barra de opciones de google colab y tocamos en **Editar** y despues en **Configuración del cuaderno** que está abajo de todo casi. Seleccionamos *Julia 1.6* en Tipo de Entorno de Ejecución. Y si queremos cambiamos el acelerador por hardware (default en GPU, les recomiendo que lo saquen). \n",
        "\n",
        "<br/>Editar y configuración\n",
        "\n",
        "> ![Colab Img](https://i.imgur.com/7XLVAMN.png)\n",
        "\n",
        "<br/>Esta es la configuración que deberian tener:\n",
        "\n",
        "> ![Colab Img](https://i.imgur.com/UasidBO.png)\n",
        "\n",
        "<br/>No se olviden de guardar.\n",
        "<br/>**Arrancamos nomas, recuerden que siempre que se reinicie el entorno o lo que sea ejecuten esto**.\n",
        "\n",
        "\n",
        "\n",
        "\n"
      ]
    },
    {
      "cell_type": "code",
      "metadata": {
        "id": "iIxu4TjlJnBG",
        "colab": {
          "base_uri": "https://localhost:8080/"
        },
        "outputId": "831d9709-348b-4039-8760-5813e03a7c17"
      },
      "source": [
        "VERSION #Para ver la version de julia"
      ],
      "execution_count": null,
      "outputs": [
        {
          "output_type": "execute_result",
          "data": {
            "text/plain": [
              "v\"1.6.1\""
            ]
          },
          "metadata": {
            "tags": []
          },
          "execution_count": 2
        }
      ]
    },
    {
      "cell_type": "markdown",
      "metadata": {
        "id": "V63hI_KnpzJ4"
      },
      "source": [
        "#Fuentes de donde se saca info para ir completando\n",
        "\n",
        "##Fuentes:\n",
        "### La de los fideos  \n",
        "![Colab Img](https://i.imgur.com/YZNNQiS.jpg)\n",
        "### La de los deseos \n",
        "![Colab Img](https://i.imgur.com/Muez4aC.jpeg)\n",
        "### Miami me lo confirmó\n",
        "![Colab Img](https://i.ytimg.com/vi/ysmSWmTkNi8/sddefault.jpg)\n",
        "\n",
        "## Mentira chinchulin ahi van los links:\n",
        "### https://introajulia.org/ -> Bastante completo el link\n",
        "### https://es.xcv.wiki/wiki/Multiple_dispatch -> Multiple_Dispatch pa los pi\n",
        "### https://julialang.org/blog/2012/02/why-we-created-julia/ -> Por qué se creo Julia (ingles)\n",
        "### https://docs.julialang.org/en/v1/ -> Documentación Julia (Ingles)\n",
        "### https://julialang.org/benchmarks/ -> Comparaciones con Julia y otros lenguajes\n",
        "### https://es.wikipedia.org/wiki/Julia_(lenguaje_de_programaci%C3%B3n) -> La vieja confiable\n",
        "### https://learnxinyminutes.com/docs/es-es/julia-es/ -> Otro link interesante\n",
        "### https://runebook.dev/es/docs/julia/manual/control-flow/index#Exception-Handling ->manejo de errores\n",
        "### https://en.wikipedia.org/wiki/List_of_algorithms -> Lista de algoritmos \n",
        "### https://github.com/jltabara/Julia-y-las-Matematicas/blob/master/Julia01.md -> Matemática básica\n",
        "\n",
        "#Matemática\n",
        "### https://github.com/jltabara/Julia-y-las-Matematicas/blob/master/Julia01.md -> Matemática básica\n",
        "### https://joseluistabaracarbajo.gitbooks.io/julia-y-las-matematicas/content/Julia03.html -> Matrices, vectores y eso\n",
        "### https://docs.julialang.org/en/v1/stdlib/LinearAlgebra/ -> Matrices más a fondo, tipos, etc\n",
        "### https://julia-cn.readthedocs.io/es/latest/manual/arrays.html -> Vectores"
      ]
    },
    {
      "cell_type": "markdown",
      "metadata": {
        "id": "kbbWv84xGLAp"
      },
      "source": [
        "#### 0.1.3 Otro ejemplo completo"
      ]
    },
    {
      "cell_type": "code",
      "metadata": {
        "id": "ExDnwwCzGVqI"
      },
      "source": [
        "#Definimos el struct\n",
        "struct Rectangle\n",
        "  width::Float64\n",
        "  height::Float64\n",
        "end"
      ],
      "execution_count": 48,
      "outputs": []
    },
    {
      "cell_type": "code",
      "metadata": {
        "colab": {
          "base_uri": "https://localhost:8080/"
        },
        "id": "2EUItA3rGWWU",
        "outputId": "27a2b5ff-ea04-4c6b-f835-0be5fa78c8cf"
      },
      "source": [
        "#Ejemplito cortito y al pie\n",
        "#Funcion especifica y generica de Area\n",
        "\n",
        "begin\n",
        "  area(r::Rectangle) = r.width * r.height # r::Rectangle significa que recibe un objeto si o si que es de tipo rectangulo y que tiene esos 2 campos (Esta es la funcion especifica que recibe si o si un rectangulo)\n",
        "  area(x) = x #(funcion generica que recibe cualquier pito) Funciona para cualquier tipo excepto para los rectangulos, que ya tiene una función especifica\n",
        "end"
      ],
      "execution_count": 49,
      "outputs": [
        {
          "output_type": "execute_result",
          "data": {
            "text/plain": [
              "area (generic function with 2 methods)"
            ]
          },
          "metadata": {
            "tags": []
          },
          "execution_count": 49
        }
      ]
    },
    {
      "cell_type": "markdown",
      "metadata": {
        "id": "wXA_nZHWGYp1"
      },
      "source": [
        "**Aclaración importante** Es necesario definir todos los métodos del mismo tipo dentro de ese begin y end (Por lo menos en esta versión de Julia, según lo que dicen en un video del año pasado, no lo testié)"
      ]
    },
    {
      "cell_type": "code",
      "metadata": {
        "colab": {
          "base_uri": "https://localhost:8080/"
        },
        "id": "4Lbh5ts7GZ5M",
        "outputId": "0a418ab7-fac6-417b-f185-cb0c64cd361a"
      },
      "source": [
        "#Ejemplito de como es la wea\n",
        "r = Rectangle(1.0,2.5)"
      ],
      "execution_count": 50,
      "outputs": [
        {
          "output_type": "execute_result",
          "data": {
            "text/plain": [
              "Rectangle(1.0, 2.5)"
            ]
          },
          "metadata": {
            "tags": []
          },
          "execution_count": 50
        }
      ]
    },
    {
      "cell_type": "code",
      "metadata": {
        "colab": {
          "base_uri": "https://localhost:8080/"
        },
        "id": "-diu2TzCGbEA",
        "outputId": "0a3c23fd-25ad-48d2-cff1-60a31d6ded22"
      },
      "source": [
        "area(r)"
      ],
      "execution_count": 51,
      "outputs": [
        {
          "output_type": "execute_result",
          "data": {
            "text/plain": [
              "2.5"
            ]
          },
          "metadata": {
            "tags": []
          },
          "execution_count": 51
        }
      ]
    },
    {
      "cell_type": "code",
      "metadata": {
        "colab": {
          "base_uri": "https://localhost:8080/"
        },
        "id": "BDqiiWlhGcMQ",
        "outputId": "cd6b024c-c76a-4ff1-8c0e-72f26d6b4a6e"
      },
      "source": [
        "wea = 1\n",
        "area(wea)"
      ],
      "execution_count": 52,
      "outputs": [
        {
          "output_type": "execute_result",
          "data": {
            "text/plain": [
              "1"
            ]
          },
          "metadata": {
            "tags": []
          },
          "execution_count": 52
        }
      ]
    },
    {
      "cell_type": "code",
      "metadata": {
        "colab": {
          "base_uri": "https://localhost:8080/"
        },
        "id": "IPzMT2nZGdXT",
        "outputId": "e877acde-4bf1-44aa-b65d-dffa9ca6fc8f"
      },
      "source": [
        "area #Dice cuantas funciones tiene definidas"
      ],
      "execution_count": null,
      "outputs": [
        {
          "output_type": "execute_result",
          "data": {
            "text/plain": [
              "area (generic function with 2 methods)"
            ]
          },
          "metadata": {
            "tags": []
          },
          "execution_count": 15
        }
      ]
    },
    {
      "cell_type": "code",
      "metadata": {
        "colab": {
          "base_uri": "https://localhost:8080/"
        },
        "id": "Y5OWqebSQLdO",
        "outputId": "95933edd-e5f9-4daf-e110-748d1a62fad7"
      },
      "source": [
        "function imprimircuadricula()\n",
        "  println(\"+ - - - - + - - - - +\")\n",
        "  println(\"|         |         |\")\n",
        "  println(\"|         |         |\")\n",
        "  println(\"|         |         |\")\n",
        "  println(\"|         |         |\")\n",
        "  println(\"+ - - - - + - - - - +\")\n",
        "  println(\"|         |         |\")\n",
        "  println(\"|         |         |\")\n",
        "  println(\"|         |         |\")\n",
        "  println(\"|         |         |\")\n",
        "  println(\"+ - - - - + - - - - +\")\n",
        "end"
      ],
      "execution_count": null,
      "outputs": [
        {
          "output_type": "execute_result",
          "data": {
            "text/plain": [
              "imprimircuadricula (generic function with 1 method)"
            ]
          },
          "metadata": {
            "tags": []
          },
          "execution_count": 16
        }
      ]
    },
    {
      "cell_type": "code",
      "metadata": {
        "colab": {
          "base_uri": "https://localhost:8080/"
        },
        "id": "Y4dWF_zzQNuM",
        "outputId": "5b97bc1d-dbd6-4995-b8da-dca41a12f3e2"
      },
      "source": [
        "imprimircuadricula()"
      ],
      "execution_count": null,
      "outputs": [
        {
          "output_type": "stream",
          "text": [
            "+ - - - - + - - - - +\n",
            "|         |         |\n",
            "|         |         |\n",
            "|         |         |\n",
            "|         |         |\n",
            "+ - - - - + - - - - +\n",
            "|         |         |\n",
            "|         |         |\n",
            "|         |         |\n",
            "|         |         |\n",
            "+ - - - - + - - - - +\n"
          ],
          "name": "stdout"
        }
      ]
    },
    {
      "cell_type": "markdown",
      "metadata": {
        "id": "3fmY5q1RwhNY"
      },
      "source": [
        "## 1.1 Multiple dispatch\n"
      ]
    },
    {
      "cell_type": "markdown",
      "metadata": {
        "id": "08v1oBT-wkdB"
      },
      "source": [
        "Es un concepto muy importante en Julia. Ahora ¿Que pingo significa esto ura?. Ya te explico chango, la cosa es así.\n",
        "\n",
        "Nosotros cuando hablamos de un envio simple estamos hablando de un proceso en donde elegimos un método diferente o versión de una función dependiendo del tipo de entrada\n",
        "\n",
        "Y el envio multiple (*Multiple dispatch*) significa que miramos todos los tipos de entrada para todos los argumentos de la función para elegir que método o versión vamos a llamar"
      ]
    },
    {
      "cell_type": "code",
      "metadata": {
        "colab": {
          "base_uri": "https://localhost:8080/"
        },
        "id": "m4x1ALbDD3Td",
        "outputId": "f1ed5101-b37c-4d6c-a8a6-c747fae22824"
      },
      "source": [
        "#Defino un numero complejo\n",
        "cc = 3 +4im #Para definir un imaginario se pone im dsp del num"
      ],
      "execution_count": null,
      "outputs": [
        {
          "output_type": "execute_result",
          "data": {
            "text/plain": [
              "3 + 4im"
            ]
          },
          "metadata": {
            "tags": []
          },
          "execution_count": 1
        }
      ]
    },
    {
      "cell_type": "code",
      "metadata": {
        "colab": {
          "base_uri": "https://localhost:8080/",
          "height": 34
        },
        "id": "iGxqcxucE3lr",
        "outputId": "4bfe3058-1082-4dd7-f49c-f1a66ffe56f2"
      },
      "source": [
        "#Para poder ver que es lo que realmente hace Julia voy a usar un macro\n",
        "@which cc + cc"
      ],
      "execution_count": null,
      "outputs": [
        {
          "output_type": "execute_result",
          "data": {
            "text/html": [
              "+(z::<b>Complex</b>, w::<b>Complex</b>) in Base at <a href=\"https://github.com/JuliaLang/julia/tree/6aaedecc447e3d8226d5027fb13d0c3cbfbfea2a/base/complex.jl#L275\" target=\"_blank\">complex.jl:275</a>"
            ],
            "text/plain": [
              "+(z::Complex, w::Complex) in Base at complex.jl:275"
            ]
          },
          "metadata": {
            "tags": []
          },
          "execution_count": 4
        }
      ]
    },
    {
      "cell_type": "markdown",
      "metadata": {
        "id": "qL-MCIj9FsHd"
      },
      "source": [
        "Lo que me dice lo de arriba es que se usa un método que recibe dos numeros complejos y los suma.\n",
        "\n",
        "Ahora vamos a ver que pasa si sumamos un numero real"
      ]
    },
    {
      "cell_type": "code",
      "metadata": {
        "colab": {
          "base_uri": "https://localhost:8080/",
          "height": 34
        },
        "id": "Rnkqa5rMGA_L",
        "outputId": "c83e958e-8f41-4f12-c8f0-2f10401fcd03"
      },
      "source": [
        "@which cc + 4 #como se pone tu hermana"
      ],
      "execution_count": null,
      "outputs": [
        {
          "output_type": "execute_result",
          "data": {
            "text/html": [
              "+(z::<b>Complex</b>, x::<b>Real</b>) in Base at <a href=\"https://github.com/JuliaLang/julia/tree/6aaedecc447e3d8226d5027fb13d0c3cbfbfea2a/base/complex.jl#L313\" target=\"_blank\">complex.jl:313</a>"
            ],
            "text/plain": [
              "+(z::Complex, x::Real) in Base at complex.jl:313"
            ]
          },
          "metadata": {
            "tags": []
          },
          "execution_count": 5
        }
      ]
    },
    {
      "cell_type": "markdown",
      "metadata": {
        "id": "Pd-Ej0iUGEtV"
      },
      "source": [
        "Vemos que ahora llama a otro método, entonces esto quiere decir que entre todas las funciones definidas para la suma llama especificamente a aquellas que reciba ciertos parametros esperados"
      ]
    },
    {
      "cell_type": "code",
      "metadata": {
        "colab": {
          "base_uri": "https://localhost:8080/",
          "height": 34
        },
        "id": "VIfVAqTeGwkB",
        "outputId": "775d4385-84cd-4eaf-8659-73d179bd91f4"
      },
      "source": [
        "#Vuelvo a probar pero invirtiendo\n",
        "@which 4 + cc"
      ],
      "execution_count": null,
      "outputs": [
        {
          "output_type": "execute_result",
          "data": {
            "text/html": [
              "+(x::<b>Real</b>, z::<b>Complex</b>) in Base at <a href=\"https://github.com/JuliaLang/julia/tree/6aaedecc447e3d8226d5027fb13d0c3cbfbfea2a/base/complex.jl#L312\" target=\"_blank\">complex.jl:312</a>"
            ],
            "text/plain": [
              "+(x::Real, z::Complex) in Base at complex.jl:312"
            ]
          },
          "metadata": {
            "tags": []
          },
          "execution_count": 6
        }
      ]
    },
    {
      "cell_type": "code",
      "metadata": {
        "colab": {
          "base_uri": "https://localhost:8080/"
        },
        "id": "jZ8mk8iMG6uo",
        "outputId": "17a6c128-6c1d-4ecf-ba22-6ef007620503"
      },
      "source": [
        "#Quiero ver cuantos métodos de \"+\" hay\n",
        "+"
      ],
      "execution_count": 21,
      "outputs": [
        {
          "output_type": "execute_result",
          "data": {
            "text/plain": [
              "+ (generic function with 190 methods)"
            ]
          },
          "metadata": {
            "tags": []
          },
          "execution_count": 21
        }
      ]
    },
    {
      "cell_type": "markdown",
      "metadata": {
        "id": "hxwOnEQvHHi7"
      },
      "source": [
        "**Nota importante**, cada vez que usamos este macro nos da un link a la implementación, tenganlo en cuenta"
      ]
    },
    {
      "cell_type": "markdown",
      "metadata": {
        "id": "wSaJIuNDWnpz"
      },
      "source": [
        "# Teoria de los pi\n",
        "## TDL 2021 1C - Julia "
      ]
    },
    {
      "cell_type": "markdown",
      "metadata": {
        "id": "Gxw6A9AQWoGK"
      },
      "source": [
        "## 1.0 Historia (En revisión)"
      ]
    },
    {
      "cell_type": "markdown",
      "metadata": {
        "id": "pXe2tHk1LbBr"
      },
      "source": [
        "Julia se inició en el año 2009, por sus creadores Jeff Bezanson, Stefan Karpinski, Viral B. Shah y Alan Edelman quienes se propusieron crear un lenguaje libre que fuera rápido y de alto nivel.\n",
        "\n",
        "En el año 2012 el equipo explicó en su blog por qué fue creado Julia.\n",
        "\n",
        "La principal razón que dieron sus creadores del por qué de la creación del lenguaje a conocer es, \"*In short, because we are greedy*\" (En resumen, porque somos codiciosos), ya que al ser usuarios avanzados de distintos lenguajes (Matlab, C, Python, Ruby, etc) de programación orientados a distintas areas como por ejemplo: scientific computing, machine learning, data mining, álgebra lineal a gran escala, etc... Sabían que dichos lenguajes eran perfectos para ciertos aspectos del trabajo y pésimo para otros.\n",
        "\n",
        "A raíz de esto surgé la frase mencionada anteriormente, querían un lenguaje que abarque todos los aspectos positivos de los distintos lenguajes, tales como la velocidad de C, el dinamismo de Ruby, que sea homoicónico con verdaderas macros como Lisp, pero con notación matemática obvia y familiar como Matlab, que sea tan utilizable para la programación general como Python, tan fácil para las estadísticas como R, etc... \n",
        "\n",
        "Principalmente se buscaba algo que sea muy fácil de aprender, pero que tambien sea atractivo para aquellos programadores más serios. A pesar de todo lo que pueda a llegar abarcar Julia se busca principalmente que el lenguaje sea simple y claro a la hora de utilizarlo y comprender que es lo que se hace.\n",
        "\n",
        "https://julialang.org/blog/2012/02/why-we-created-julia/\n",
        "\n",
        "https://julialang.org/blog/2018/08/one-point-zero/\n",
        "\n",
        "https://julialang.org/blog/2012/08/design-and-implementation-of-julia/\n",
        "\n",
        "https://docs.julialang.org/en/v1/\n"
      ]
    },
    {
      "cell_type": "markdown",
      "metadata": {
        "id": "l1l36g5m9JIz"
      },
      "source": [
        "## 2.0 ¿Por qué Julia? (En revisión)"
      ]
    },
    {
      "cell_type": "markdown",
      "metadata": {
        "id": "QFxRV3-tBLJ-"
      },
      "source": [
        "La elección de un lenguaje de programación es siempre subjetiva. Para nosotros, las siguientes características de Julia son decisivas:\n",
        "\n",
        "- Julia está desarrollado como un lenguaje de programación de alto rendimiento.\n",
        "\n",
        "- Julia usa envío múltiple (**“multiple dispatch”** en inglés), que le permite al programador elegir entre diferentes patrones de programación de acuerdo a la aplicación.\n",
        "\n",
        "- Julia es un lenguaje de tipo dinámico que se puede usar fácilmente de forma interactiva.\n",
        "\n",
        "- Julia tiene una sintaxis de alto nivel que es fácil de aprender.\n",
        "\n",
        "- Julia es un lenguaje de programación con tipos opcionales, cuyos tipos de datos (definidos por el usuario) hacen que el código sea claro y robusto.\n",
        "\n",
        "- Julia tiene una biblioteca estándar extendida, además, están disponibles numerosos paquetes de terceros.\n",
        "\n",
        "No se necesita de ningún otro lenguaje de programación para escribir código de alto rendimiento. Esto no significa que ocurra automáticamente. Es responsabilidad del programador optimizar el código que genere cuellos de botella, aunque esto puede hacerse directamente en Julia."
      ]
    },
    {
      "cell_type": "markdown",
      "metadata": {
        "id": "Mjy3Obt7WqAX"
      },
      "source": [
        "## 3.0 Sintaxis (En revisión)"
      ]
    },
    {
      "cell_type": "markdown",
      "metadata": {
        "id": "MT7fAVLqWxdQ"
      },
      "source": [
        "### Primer programa en Julia \n",
        "\n",
        "Antes de explicar la sintaxis hablemos de :\n",
        "Características básicas\n",
        "del lenguaje:\n",
        "paradigmas que\n",
        "soporta,\n",
        "compilado/interpretado,\n",
        "tipado, control de flujos,\n",
        "tdas, parámetros o\n",
        "cualquier concepto\n",
        "básico particular que\n",
        "soporte el lenguaje"
      ]
    },
    {
      "cell_type": "code",
      "metadata": {
        "colab": {
          "base_uri": "https://localhost:8080/"
        },
        "id": "4JCyXXZ5WyhY",
        "outputId": "aab9f4ea-7f45-44eb-a50a-36e23d04c7fb"
      },
      "source": [
        "println(\"Hello World\")"
      ],
      "execution_count": null,
      "outputs": [
        {
          "output_type": "stream",
          "text": [
            "Hello World\n"
          ],
          "name": "stdout"
        }
      ]
    },
    {
      "cell_type": "markdown",
      "metadata": {
        "id": "xKmUv7wPWsRU"
      },
      "source": [
        "### Variables"
      ]
    },
    {
      "cell_type": "markdown",
      "metadata": {
        "id": "O7POthGuDXuH"
      },
      "source": [
        "#### Tipos de datos"
      ]
    },
    {
      "cell_type": "code",
      "metadata": {
        "colab": {
          "base_uri": "https://localhost:8080/"
        },
        "id": "FeIqh-5VC025",
        "outputId": "7633feaa-73dc-44fc-c633-b562c6d64612"
      },
      "source": [
        "Variable_int = 4\n",
        "println(Variable_int)\n",
        "println(typeof(Variable_int))"
      ],
      "execution_count": null,
      "outputs": [
        {
          "output_type": "stream",
          "text": [
            "4\n",
            "Int64\n"
          ],
          "name": "stdout"
        }
      ]
    },
    {
      "cell_type": "code",
      "metadata": {
        "colab": {
          "base_uri": "https://localhost:8080/"
        },
        "id": "hS6FxN6lDjU6",
        "outputId": "71d4f31d-cf71-474b-9d72-8538be8f588a"
      },
      "source": [
        "Variable_float = 42.0\n",
        "println(Variable_float)\n",
        "println(typeof(Variable_float))"
      ],
      "execution_count": null,
      "outputs": [
        {
          "output_type": "stream",
          "text": [
            "42.0\n",
            "Float64\n"
          ],
          "name": "stdout"
        }
      ]
    },
    {
      "cell_type": "code",
      "metadata": {
        "colab": {
          "base_uri": "https://localhost:8080/"
        },
        "id": "grHgZDCVDvLE",
        "outputId": "abd27cbe-713d-460f-d07b-9dfc63ecd754"
      },
      "source": [
        "Variable_char = 'A'\n",
        "println(Variable_char)\n",
        "println(typeof(Variable_char))"
      ],
      "execution_count": null,
      "outputs": [
        {
          "output_type": "stream",
          "text": [
            "A\n",
            "Char\n"
          ],
          "name": "stdout"
        }
      ]
    },
    {
      "cell_type": "code",
      "metadata": {
        "colab": {
          "base_uri": "https://localhost:8080/"
        },
        "id": "cVptEUDWDsnl",
        "outputId": "505d73f3-bb85-48e3-e2fc-98db6823d808"
      },
      "source": [
        "Variable_String = \"Hola mundo\"\n",
        "println(Variable_String)\n",
        "println(typeof(Variable_String))"
      ],
      "execution_count": null,
      "outputs": [
        {
          "output_type": "stream",
          "text": [
            "Hola mundo\n",
            "String\n"
          ],
          "name": "stdout"
        }
      ]
    },
    {
      "cell_type": "markdown",
      "metadata": {
        "id": "kTuH48WjTVpx"
      },
      "source": [
        "Julia es Case sensitive (sabe diferenciar entre mayúsculas y minúsculas)"
      ]
    },
    {
      "cell_type": "code",
      "metadata": {
        "id": "SnZ4Y2CUTVIf"
      },
      "source": [
        "#variable_string\n",
        "# Debería romper, ya que no definimos es variable con minuscula"
      ],
      "execution_count": null,
      "outputs": []
    },
    {
      "cell_type": "markdown",
      "metadata": {
        "id": "OF0g2chQS2kY"
      },
      "source": [
        "Veamos las constantes, por ejemplo Epsilon y vamos a intentar redefinirlas."
      ]
    },
    {
      "cell_type": "code",
      "metadata": {
        "id": "_IrRF6UoRkHx",
        "colab": {
          "base_uri": "https://localhost:8080/"
        },
        "outputId": "87f50257-5bce-4734-f2fb-13be8a5cf7c9"
      },
      "source": [
        "ℯ"
      ],
      "execution_count": null,
      "outputs": [
        {
          "output_type": "execute_result",
          "data": {
            "text/plain": [
              "ℯ = 2.7182818284590..."
            ]
          },
          "metadata": {
            "tags": []
          },
          "execution_count": 5
        }
      ]
    },
    {
      "cell_type": "code",
      "metadata": {
        "id": "3cQd5IxmR7D0"
      },
      "source": [
        "#ℯ = 10\n",
        "#Esto debería romper."
      ],
      "execution_count": null,
      "outputs": []
    },
    {
      "cell_type": "markdown",
      "metadata": {
        "id": "Ak7uuqP7R9zw"
      },
      "source": [
        "No se pueden redefinir las constantes que existe en un scope global, solamente se pueden redefinir en un scope local, por ejemplo en una función"
      ]
    },
    {
      "cell_type": "code",
      "metadata": {
        "colab": {
          "base_uri": "https://localhost:8080/"
        },
        "id": "TnhRFhWDS7Av",
        "outputId": "5b05d065-c1f5-4385-9174-bf4ac6436283"
      },
      "source": [
        "function cambio_valor_epsilon()\n",
        "  ℯ = 10\n",
        "  return ℯ + 10\n",
        "end\n",
        "cambio_valor_epsilon()"
      ],
      "execution_count": null,
      "outputs": [
        {
          "output_type": "execute_result",
          "data": {
            "text/plain": [
              "20"
            ]
          },
          "metadata": {
            "tags": []
          },
          "execution_count": 7
        }
      ]
    },
    {
      "cell_type": "markdown",
      "metadata": {
        "id": "ZonNfrh1T4DT"
      },
      "source": [
        "Luego de esa función vuelve a su valor original."
      ]
    },
    {
      "cell_type": "code",
      "metadata": {
        "colab": {
          "base_uri": "https://localhost:8080/"
        },
        "id": "EGkZmnjuT3Xv",
        "outputId": "d44f2cbe-10bd-4816-9c15-bf3748dade27"
      },
      "source": [
        "ℯ"
      ],
      "execution_count": null,
      "outputs": [
        {
          "output_type": "execute_result",
          "data": {
            "text/plain": [
              "ℯ = 2.7182818284590..."
            ]
          },
          "metadata": {
            "tags": []
          },
          "execution_count": 8
        }
      ]
    },
    {
      "cell_type": "markdown",
      "metadata": {
        "id": "0Bq4n3q7L8km"
      },
      "source": [
        "#### Operadores aritmeticos"
      ]
    },
    {
      "cell_type": "code",
      "metadata": {
        "colab": {
          "base_uri": "https://localhost:8080/"
        },
        "id": "VmvyN6AtL86R",
        "outputId": "21a4a68e-d5f5-408b-9cf4-5c48bc4839dd"
      },
      "source": [
        "println(\"Suma:\")\n",
        "Suma = 4 + 4\n",
        "println(Suma)\n",
        "println(\"       \")\n",
        "\n",
        "println(\"Resta:\")\n",
        "Resta = 4 - 2\n",
        "println(Resta)\n",
        "println(\"       \")\n",
        "\n",
        "println(\"Multiplicación:\")\n",
        "Multiplicacion = 4 * 4\n",
        "println(Multiplicacion)\n",
        "println(\"       \")\n",
        "\n",
        "println(\"División:\")\n",
        "Division = 8/2\n",
        "println(Division)\n",
        "println(\"       \")\n",
        "\n",
        "println(\"Potencia:\")\n",
        "Potencia = 4^4\n",
        "println(Potencia)\n",
        "println(\"       \")"
      ],
      "execution_count": null,
      "outputs": [
        {
          "output_type": "stream",
          "text": [
            "Suma:\n",
            "8\n",
            "       \n",
            "Resta:\n",
            "2\n",
            "       \n",
            "Multiplicación:\n",
            "16\n",
            "       \n",
            "División:\n",
            "4.0\n",
            "       \n",
            "Potencia:\n",
            "256\n",
            "       \n",
            "Concatenación de strings:\n",
            "automóvil\n",
            "       \n",
            "Potencia de strings:\n",
            "SpamSpamSpam\n"
          ],
          "name": "stdout"
        }
      ]
    },
    {
      "cell_type": "markdown",
      "metadata": {
        "id": "ngbIySgvMSG6"
      },
      "source": [
        "Recordar que el orden de las operaciones es el siguiente:\n",
        "* Parentesis\n",
        "* Potenciación\n",
        "* Multiplicación y División\n",
        "* Suma resta etc (de izq a der)"
      ]
    },
    {
      "cell_type": "markdown",
      "metadata": {
        "id": "jmdeeQCsLwBl"
      },
      "source": [
        "#### Expresiones booleanas y operadores"
      ]
    },
    {
      "cell_type": "markdown",
      "metadata": {
        "id": "qKTVO1WoCu_2"
      },
      "source": [
        "**Expresiones booleanas**"
      ]
    },
    {
      "cell_type": "code",
      "metadata": {
        "colab": {
          "base_uri": "https://localhost:8080/"
        },
        "id": "_--n8_dfCvl0",
        "outputId": "ecc4a347-0eab-4b79-ece7-e81fe25d4fab"
      },
      "source": [
        "5 == 5"
      ],
      "execution_count": null,
      "outputs": [
        {
          "output_type": "execute_result",
          "data": {
            "text/plain": [
              "true"
            ]
          },
          "metadata": {
            "tags": []
          },
          "execution_count": 1
        }
      ]
    },
    {
      "cell_type": "code",
      "metadata": {
        "colab": {
          "base_uri": "https://localhost:8080/"
        },
        "id": "5mhC_jGvCw1t",
        "outputId": "7be060ac-4835-4252-c1f8-b043e9d24d10"
      },
      "source": [
        "5 == 6"
      ],
      "execution_count": null,
      "outputs": [
        {
          "output_type": "execute_result",
          "data": {
            "text/plain": [
              "false"
            ]
          },
          "metadata": {
            "tags": []
          },
          "execution_count": 2
        }
      ]
    },
    {
      "cell_type": "markdown",
      "metadata": {
        "id": "bxWWSLpyCz54"
      },
      "source": [
        "**Operadores relacionales**\n",
        "\n",
        "    * == \n",
        "    * !=\n",
        "    * >=\n",
        "    * <="
      ]
    },
    {
      "cell_type": "markdown",
      "metadata": {
        "id": "eZoipvliDDiq"
      },
      "source": [
        "**Operadores Logicos**\n",
        "\n",
        "    * &&\n",
        "    * ||\n",
        "    * !"
      ]
    },
    {
      "cell_type": "markdown",
      "metadata": {
        "id": "5NQCFtnCDblJ"
      },
      "source": [
        "### Estructuras de control"
      ]
    },
    {
      "cell_type": "markdown",
      "metadata": {
        "id": "eVV-4JjsEnL-"
      },
      "source": [
        "**Evaluación condicional**"
      ]
    },
    {
      "cell_type": "code",
      "metadata": {
        "colab": {
          "base_uri": "https://localhost:8080/"
        },
        "id": "5oy8Qno-Dnxl",
        "outputId": "6e695f00-1c4d-4bf3-cda0-ac5be1d9cc50"
      },
      "source": [
        "x = 5\n",
        "\n",
        "if x > 0\n",
        "  println(\"El x es positivo\")\n",
        "end"
      ],
      "execution_count": null,
      "outputs": [
        {
          "output_type": "stream",
          "text": [
            "El x es positivo\n"
          ],
          "name": "stdout"
        }
      ]
    },
    {
      "cell_type": "code",
      "metadata": {
        "colab": {
          "base_uri": "https://localhost:8080/"
        },
        "id": "wWUaLvBlD_LM",
        "outputId": "84c532bc-10c0-488e-cc17-3e446b005ad7"
      },
      "source": [
        "if x > 6\n",
        "  println(\"El numero es mayor a 6\")\n",
        "else \n",
        "  println(\"El numero es menor o igual a 6\") \n",
        "end"
      ],
      "execution_count": null,
      "outputs": [
        {
          "output_type": "stream",
          "text": [
            "El numero es menor o igual a 6\n"
          ],
          "name": "stdout"
        }
      ]
    },
    {
      "cell_type": "code",
      "metadata": {
        "colab": {
          "base_uri": "https://localhost:8080/"
        },
        "id": "1w1AvIemETr3",
        "outputId": "f0d18e27-cb49-4ddc-816b-e07405f42b4f"
      },
      "source": [
        "b = 7\n",
        "\n",
        "if x == 4 && b == 4\n",
        "  println(\"El valor de x es 4\")\n",
        "  println(\"Y el valor de b es 4\") \n",
        "   \n",
        "elseif x == 6 && b == 5\n",
        "  println(\"El valor de x es 6\")\n",
        "  println(\"Y el valor de b es 5\") \n",
        "\n",
        "elseif x == 5 && b == 7\n",
        "  println(\"El valor de x es 5\")\n",
        "  println(\"Y el valor de b es 7\") \n",
        "end"
      ],
      "execution_count": null,
      "outputs": [
        {
          "output_type": "stream",
          "text": [
            "El valor de x es 5\n",
            "Y el valor de b es 7\n"
          ],
          "name": "stdout"
        }
      ]
    },
    {
      "cell_type": "markdown",
      "metadata": {
        "id": "zXDQAgSjXCCP"
      },
      "source": [
        "**Evaluaciones iterativas**"
      ]
    },
    {
      "cell_type": "code",
      "metadata": {
        "colab": {
          "base_uri": "https://localhost:8080/"
        },
        "id": "AFs2c3GQCOx0",
        "outputId": "5149a1e7-4684-43a2-e4fd-8fbb2c3f496a"
      },
      "source": [
        "i = 1\n",
        "\n",
        "while i <= 5\n",
        "  println(i)\n",
        "  i += 1\n",
        "end "
      ],
      "execution_count": null,
      "outputs": [
        {
          "output_type": "stream",
          "text": [
            "1\n",
            "2\n",
            "3\n",
            "4\n",
            "5\n"
          ],
          "name": "stdout"
        }
      ]
    },
    {
      "cell_type": "code",
      "metadata": {
        "colab": {
          "base_uri": "https://localhost:8080/"
        },
        "id": "pc3cCymQYJ6X",
        "outputId": "cd1f6a4a-cfef-4ef5-da00-9b1080ba777c"
      },
      "source": [
        "for j = 1:5\n",
        "  println(j)\n",
        "end"
      ],
      "execution_count": null,
      "outputs": [
        {
          "output_type": "stream",
          "text": [
            "1\n",
            "2\n",
            "3\n",
            "4\n",
            "5\n"
          ],
          "name": "stdout"
        }
      ]
    },
    {
      "cell_type": "markdown",
      "metadata": {
        "id": "68G6wHr0YlT1"
      },
      "source": [
        "El scope del for es local"
      ]
    },
    {
      "cell_type": "code",
      "metadata": {
        "id": "Jd1x1OonYSYo"
      },
      "source": [
        "j"
      ],
      "execution_count": null,
      "outputs": []
    },
    {
      "cell_type": "markdown",
      "metadata": {
        "id": "IT1JnrMTWteI"
      },
      "source": [
        "### Estructura de datos"
      ]
    },
    {
      "cell_type": "markdown",
      "metadata": {
        "id": "DE-wH3-YGP4_"
      },
      "source": [
        "#### Vectores y matrices"
      ]
    },
    {
      "cell_type": "markdown",
      "metadata": {
        "id": "qJfjdC5aGgbR"
      },
      "source": [
        "Definición de un **vector**"
      ]
    },
    {
      "cell_type": "code",
      "metadata": {
        "colab": {
          "base_uri": "https://localhost:8080/"
        },
        "id": "f5Y4c_rhGeE6",
        "outputId": "cc014051-7060-4c79-b1cf-775543fbc074"
      },
      "source": [
        "Un_vector = [1, 2, 3]\n",
        "println(Un_vector)\n",
        "println(typeof(Un_vector))"
      ],
      "execution_count": null,
      "outputs": [
        {
          "output_type": "stream",
          "text": [
            "[1, 2, 3]\n",
            "Vector{Int64}\n"
          ],
          "name": "stdout"
        }
      ]
    },
    {
      "cell_type": "markdown",
      "metadata": {
        "id": "xJqYjxxQGsn_"
      },
      "source": [
        "Puede ser un vector de distintos tipos de datos y el vector se define como si no fuera de un tipo de dato especifico."
      ]
    },
    {
      "cell_type": "code",
      "metadata": {
        "colab": {
          "base_uri": "https://localhost:8080/"
        },
        "id": "K-86tQDRGuJe",
        "outputId": "1f193912-fca1-474f-94a7-06ae5e03e2c6"
      },
      "source": [
        "Otro_vector = [1, 2.0, \"3\"]\n",
        "println(Otro_vector)\n",
        "println(typeof(Otro_vector))"
      ],
      "execution_count": null,
      "outputs": [
        {
          "output_type": "stream",
          "text": [
            "Any[1, 2.0, \"3\"]\n",
            "Vector{Any}\n"
          ],
          "name": "stdout"
        }
      ]
    },
    {
      "cell_type": "markdown",
      "metadata": {
        "id": "4rTOdvgnWc7W"
      },
      "source": [
        "**Los vectores son mutables**"
      ]
    },
    {
      "cell_type": "code",
      "metadata": {
        "colab": {
          "base_uri": "https://localhost:8080/"
        },
        "id": "gjXYqIgFWcWH",
        "outputId": "1b060eb5-e3d7-42a1-c3e4-a21fd88a9298"
      },
      "source": [
        "Otro_vector[2] = 2\n",
        "Otro_vector[3] = 3\n",
        "Otro_vector"
      ],
      "execution_count": null,
      "outputs": [
        {
          "output_type": "execute_result",
          "data": {
            "text/plain": [
              "3-element Vector{Any}:\n",
              " 1\n",
              " 2\n",
              " 3"
            ]
          },
          "metadata": {
            "tags": []
          },
          "execution_count": 20
        }
      ]
    },
    {
      "cell_type": "markdown",
      "metadata": {
        "id": "szhKsFTBIcWh"
      },
      "source": [
        "Definición de **matríz 2x3** de enteros"
      ]
    },
    {
      "cell_type": "code",
      "metadata": {
        "colab": {
          "base_uri": "https://localhost:8080/"
        },
        "id": "-c3H1quiGiId",
        "outputId": "3cb8d613-408f-4ad3-bb7c-9cffca253259"
      },
      "source": [
        "Una_matrix = [1 2 3 ; 4 5 6] \n",
        "Una_matrix"
      ],
      "execution_count": null,
      "outputs": [
        {
          "output_type": "execute_result",
          "data": {
            "text/plain": [
              "2×3 Matrix{Int64}:\n",
              " 1  2  3\n",
              " 4  5  6"
            ]
          },
          "metadata": {
            "tags": []
          },
          "execution_count": 22
        }
      ]
    },
    {
      "cell_type": "markdown",
      "metadata": {
        "id": "zuq0RpweJG9Z"
      },
      "source": [
        "**Operaciones básicas**    "
      ]
    },
    {
      "cell_type": "code",
      "metadata": {
        "colab": {
          "base_uri": "https://localhost:8080/"
        },
        "id": "1M85sc_3JGgF",
        "outputId": "6342222e-3731-4d6b-fd80-4a7bc9188e12"
      },
      "source": [
        "u = [2, 4, 5]\n",
        "v = [1, 2, 3]\n",
        "    \n",
        "println(\"Suma de vectores:\")\n",
        "println(u + v)\n",
        "println(\"Resta de vectores:\")\n",
        "println(u - v)\n",
        "println(\"Multiplicación de vectores:\")\n",
        "println(transpose(u) * v)\n",
        "println(\"División de vectores:\")\n",
        "println(u / v)"
      ],
      "execution_count": null,
      "outputs": [
        {
          "output_type": "stream",
          "text": [
            "Suma de vectores:\n",
            "[3, 6, 8]\n",
            "Resta de vectores:\n",
            "[1, 2, 2]\n",
            "Multiplicación de vectores:\n",
            "25\n",
            "División de vectores:\n",
            "[0.14285714285714285 0.2857142857142857 0.42857142857142855; 0.2857142857142857 0.5714285714285714 0.8571428571428571; 0.3571428571428571 0.7142857142857142 1.0714285714285714]\n"
          ],
          "name": "stdout"
        }
      ]
    },
    {
      "cell_type": "markdown",
      "metadata": {
        "id": "arV_KY0FMrby"
      },
      "source": [
        "* Tener en cuenta que se suele usar como norma el punto (.) antes del operador, en algunos casos no es necesario. Por ejemplo, ' .* ' ó ' ./ '."
      ]
    },
    {
      "cell_type": "code",
      "metadata": {
        "colab": {
          "base_uri": "https://localhost:8080/"
        },
        "id": "_tM7O1imJvIm",
        "outputId": "3def37e9-7e55-4b1b-be77-233a19d1161c"
      },
      "source": [
        "A = [1 2 3 ; 4 5 6 ; 7 8 9]\n",
        "B = [1 2 3 ; 4 5 6 ; 7 8 9]\n",
        "\n",
        "println(\"Suma de Matrices:\")\n",
        "println(A + B)\n",
        "println(\"Resta de Matrices:\")\n",
        "println(A - B)\n",
        "println(\"Multiplicación de Matrices:\")\n",
        "println(A * B)\n",
        "println(\"División de Matrices:\")\n",
        "println(A ./ B)"
      ],
      "execution_count": null,
      "outputs": [
        {
          "output_type": "stream",
          "text": [
            "Suma de Matrices:\n",
            "[2 4 6; 8 10 12; 14 16 18]\n",
            "Resta de Matrices:\n",
            "[0 0 0; 0 0 0; 0 0 0]\n",
            "Multiplicación de Matrices:\n",
            "[30 36 42; 66 81 96; 102 126 150]\n",
            "División de Matrices:\n",
            "[1.0 1.0 1.0; 1.0 1.0 1.0; 1.0 1.0 1.0]\n"
          ],
          "name": "stdout"
        }
      ]
    },
    {
      "cell_type": "markdown",
      "metadata": {
        "id": "IX-HTCZiMH5d"
      },
      "source": [
        "#### Strings"
      ]
    },
    {
      "cell_type": "markdown",
      "metadata": {
        "id": "MJEfvFx3XagP"
      },
      "source": [
        "En cambio **los Strings son inmutables**"
      ]
    },
    {
      "cell_type": "code",
      "metadata": {
        "colab": {
          "base_uri": "https://localhost:8080/"
        },
        "id": "Vx9NGbG3XeDQ",
        "outputId": "ef4e196e-9275-4be1-939d-2bec2251e4b8"
      },
      "source": [
        "saludo = \"¡Hola, mundo!\"\n",
        "#saludo[2] = 'a'\n",
        "#rompe al ser inmutable"
      ],
      "execution_count": null,
      "outputs": [
        {
          "output_type": "execute_result",
          "data": {
            "text/plain": [
              "\"¡Hola, mundo!\""
            ]
          },
          "metadata": {
            "tags": []
          },
          "execution_count": 23
        }
      ]
    },
    {
      "cell_type": "code",
      "metadata": {
        "colab": {
          "base_uri": "https://localhost:8080/"
        },
        "id": "VJi9ztFIMy7c",
        "outputId": "67443e24-eff5-40b2-f676-bf377d986d44"
      },
      "source": [
        "println(\"Concatenación de strings:\")\n",
        "primer_str = \"auto\"\n",
        "segundo_str = \"móvil\""
      ],
      "execution_count": 2,
      "outputs": [
        {
          "output_type": "stream",
          "text": [
            "Concatenación de strings:\n"
          ],
          "name": "stdout"
        },
        {
          "output_type": "execute_result",
          "data": {
            "text/plain": [
              "\"móvil\""
            ]
          },
          "metadata": {
            "tags": []
          },
          "execution_count": 2
        }
      ]
    },
    {
      "cell_type": "code",
      "metadata": {
        "colab": {
          "base_uri": "https://localhost:8080/"
        },
        "id": "Hc6Q4wzEM0oU",
        "outputId": "2249790a-6529-4e66-c1f4-465e93561a41"
      },
      "source": [
        "automovil = primer_str * segundo_str\n",
        "println(automovil)\n",
        "println(\"       \")"
      ],
      "execution_count": 3,
      "outputs": [
        {
          "output_type": "stream",
          "text": [
            "automóvil\n",
            "       \n"
          ],
          "name": "stdout"
        }
      ]
    },
    {
      "cell_type": "code",
      "metadata": {
        "colab": {
          "base_uri": "https://localhost:8080/"
        },
        "id": "3IyHUBAGM1Xk",
        "outputId": "785c3533-754f-4674-ee3e-e2e76430a8ad"
      },
      "source": [
        "String_spam = \"Spam\"^3\n",
        "println(\"Potencia de strings:\")\n",
        "println(String_spam)"
      ],
      "execution_count": 4,
      "outputs": [
        {
          "output_type": "stream",
          "text": [
            "Potencia de strings:\n",
            "SpamSpamSpam\n"
          ],
          "name": "stdout"
        }
      ]
    },
    {
      "cell_type": "markdown",
      "metadata": {
        "id": "pWtoS6WHcImD"
      },
      "source": [
        "#### Tuplas"
      ]
    },
    {
      "cell_type": "code",
      "metadata": {
        "colab": {
          "base_uri": "https://localhost:8080/"
        },
        "id": "WvV0YgRgZULX",
        "outputId": "2e2272d6-ca2c-45f0-edd5-7e1e35c2db68"
      },
      "source": [
        "tupla = (\"Marcos\", \"Mateo\", \"Gabriel\", \"Tomas\")\n",
        "println(tupla)\n",
        "println(typeof(tupla))"
      ],
      "execution_count": 6,
      "outputs": [
        {
          "output_type": "stream",
          "text": [
            "(\"Marcos\", \"Mateo\", \"Gabriel\", \"Tomas\")\n",
            "NTuple{4, String}\n"
          ],
          "name": "stdout"
        }
      ]
    },
    {
      "cell_type": "markdown",
      "metadata": {
        "id": "z8p7tlJIbKWX"
      },
      "source": [
        "Las tuplas son inmutables"
      ]
    },
    {
      "cell_type": "code",
      "metadata": {
        "id": "n2WXEE6WbNU9"
      },
      "source": [
        "#Vamos a tratar de cambiar el primer elemento de la tupla\n",
        "#tupla[1] = \"Otro_integrante_del_grupo\"\n",
        "#Deberia romper"
      ],
      "execution_count": null,
      "outputs": []
    },
    {
      "cell_type": "markdown",
      "metadata": {
        "id": "DN9sCaWXOsVY"
      },
      "source": [
        "Se puede operar con un cierto rango de la tupla"
      ]
    },
    {
      "cell_type": "code",
      "metadata": {
        "colab": {
          "base_uri": "https://localhost:8080/"
        },
        "id": "sZeVzR6EOqjw",
        "outputId": "d678256e-88a1-4efa-a9fb-44e54afbb1d4"
      },
      "source": [
        "tupla[2:3]"
      ],
      "execution_count": 7,
      "outputs": [
        {
          "output_type": "execute_result",
          "data": {
            "text/plain": [
              "(\"Mateo\", \"Gabriel\")"
            ]
          },
          "metadata": {
            "tags": []
          },
          "execution_count": 7
        }
      ]
    },
    {
      "cell_type": "markdown",
      "metadata": {
        "id": "BA6XaPfHcKdC"
      },
      "source": [
        "#### Diccionarios"
      ]
    },
    {
      "cell_type": "code",
      "metadata": {
        "colab": {
          "base_uri": "https://localhost:8080/"
        },
        "id": "H9b3kAEdcsmI",
        "outputId": "fd5a5736-674f-49a3-bf9e-51098f0c3928"
      },
      "source": [
        "Creditos_por_materias = Dict(\"AM2\" => 8, \"Fisica\" => 8, \"Algebra2\" => 8,\"TDL\" => 4, \"Algo3\" => 3)"
      ],
      "execution_count": 17,
      "outputs": [
        {
          "output_type": "execute_result",
          "data": {
            "text/plain": [
              "Dict{String, Int64} with 5 entries:\n",
              "  \"Fisica\"   => 8\n",
              "  \"TDL\"      => 4\n",
              "  \"Algebra2\" => 8\n",
              "  \"Algo3\"    => 3\n",
              "  \"AM2\"      => 8"
            ]
          },
          "metadata": {
            "tags": []
          },
          "execution_count": 17
        }
      ]
    },
    {
      "cell_type": "code",
      "metadata": {
        "colab": {
          "base_uri": "https://localhost:8080/"
        },
        "id": "Js3fxTDXlKRg",
        "outputId": "6e975be7-a1ea-40ee-9c2e-c9d35fd778d6"
      },
      "source": [
        "haskey(Creditos_por_materias,\"TDL\")"
      ],
      "execution_count": 18,
      "outputs": [
        {
          "output_type": "execute_result",
          "data": {
            "text/plain": [
              "true"
            ]
          },
          "metadata": {
            "tags": []
          },
          "execution_count": 18
        }
      ]
    },
    {
      "cell_type": "code",
      "metadata": {
        "colab": {
          "base_uri": "https://localhost:8080/"
        },
        "id": "WzYlQNHgljMd",
        "outputId": "005c98a0-0c95-4b24-9bfb-bb824d5431ce"
      },
      "source": [
        "creditos_fisica = get(Creditos_por_materias, \"Fisica\", \"No existe en el diccionario\")\n",
        "println(creditos_fisica)\n",
        "creditos_AM2 = get(Creditos_por_materias, \"AM2\", \"No existe en el diccionario\")\n",
        "println(creditos_AM2)"
      ],
      "execution_count": 19,
      "outputs": [
        {
          "output_type": "stream",
          "text": [
            "8\n",
            "8\n"
          ],
          "name": "stdout"
        }
      ]
    },
    {
      "cell_type": "code",
      "metadata": {
        "colab": {
          "base_uri": "https://localhost:8080/"
        },
        "id": "6otsPm4_LThL",
        "outputId": "98403c6a-b313-4616-f5e0-f36151dec904"
      },
      "source": [
        "delete!(Creditos_por_materias,\"Fisica\") #Jaja salu2 me pasé a licenciatura"
      ],
      "execution_count": 20,
      "outputs": [
        {
          "output_type": "execute_result",
          "data": {
            "text/plain": [
              "Dict{String, Int64} with 4 entries:\n",
              "  \"TDL\"      => 4\n",
              "  \"Algebra2\" => 8\n",
              "  \"Algo3\"    => 3\n",
              "  \"AM2\"      => 8"
            ]
          },
          "metadata": {
            "tags": []
          },
          "execution_count": 20
        }
      ]
    },
    {
      "cell_type": "markdown",
      "metadata": {
        "id": "Y4i8cfbzx_pN"
      },
      "source": [
        "#### Structs"
      ]
    },
    {
      "cell_type": "markdown",
      "metadata": {
        "id": "KELw36Gqyskx"
      },
      "source": [
        "Los structs se definen de la siguiente manera.\n",
        "\n",
        "Recuerdo: Para especificar un tipo de dato esperado o usar un tipo de dato especifico se usan los \"::\" dos puntitos seguido al tipo de dato"
      ]
    },
    {
      "cell_type": "code",
      "metadata": {
        "id": "_l3CNg1zyaab"
      },
      "source": [
        "struct Persona\n",
        "  altura::Float64\n",
        "  peso::Float64\n",
        "end"
      ],
      "execution_count": 22,
      "outputs": []
    },
    {
      "cell_type": "code",
      "metadata": {
        "colab": {
          "base_uri": "https://localhost:8080/"
        },
        "id": "ke-y1y1jybHJ",
        "outputId": "c9320d6d-a8a1-44bd-ce1c-517681bb26dc"
      },
      "source": [
        "Elfo = Persona(1.80,74)"
      ],
      "execution_count": 23,
      "outputs": [
        {
          "output_type": "execute_result",
          "data": {
            "text/plain": [
              "Persona(1.8, 74.0)"
            ]
          },
          "metadata": {
            "tags": []
          },
          "execution_count": 23
        }
      ]
    },
    {
      "cell_type": "code",
      "metadata": {
        "colab": {
          "base_uri": "https://localhost:8080/"
        },
        "id": "xoCusuo1ylCg",
        "outputId": "0681ba23-277e-43fb-ade5-5a056f1403ec"
      },
      "source": [
        "typeof(Elfo)"
      ],
      "execution_count": 24,
      "outputs": [
        {
          "output_type": "execute_result",
          "data": {
            "text/plain": [
              "Persona"
            ]
          },
          "metadata": {
            "tags": []
          },
          "execution_count": 24
        }
      ]
    },
    {
      "cell_type": "code",
      "metadata": {
        "colab": {
          "base_uri": "https://localhost:8080/"
        },
        "id": "0ZBtaJTvyqzI",
        "outputId": "78b535c3-66ec-4a3a-ae2b-1e4e118d91b7"
      },
      "source": [
        "Elfo.altura"
      ],
      "execution_count": 25,
      "outputs": [
        {
          "output_type": "execute_result",
          "data": {
            "text/plain": [
              "1.8"
            ]
          },
          "metadata": {
            "tags": []
          },
          "execution_count": 25
        }
      ]
    },
    {
      "cell_type": "code",
      "metadata": {
        "colab": {
          "base_uri": "https://localhost:8080/"
        },
        "id": "1a39GpjDyq9a",
        "outputId": "f4a570bf-5678-4fdf-c8b8-3bbb848c2b2e"
      },
      "source": [
        "Elfo.peso"
      ],
      "execution_count": 26,
      "outputs": [
        {
          "output_type": "execute_result",
          "data": {
            "text/plain": [
              "74.0"
            ]
          },
          "metadata": {
            "tags": []
          },
          "execution_count": 26
        }
      ]
    },
    {
      "cell_type": "code",
      "metadata": {
        "colab": {
          "base_uri": "https://localhost:8080/"
        },
        "id": "7wPHkAzL0gLv",
        "outputId": "41b4ce35-8a6a-45d1-e80e-943cf3ac260a"
      },
      "source": [
        "Mateo = Persona(1.73,60)"
      ],
      "execution_count": 27,
      "outputs": [
        {
          "output_type": "execute_result",
          "data": {
            "text/plain": [
              "Persona(1.73, 60.0)"
            ]
          },
          "metadata": {
            "tags": []
          },
          "execution_count": 27
        }
      ]
    },
    {
      "cell_type": "code",
      "metadata": {
        "colab": {
          "base_uri": "https://localhost:8080/"
        },
        "id": "2WBUFll10lqk",
        "outputId": "0829b3dc-84a2-4d4f-cb87-402e4be23c7a"
      },
      "source": [
        "dif_peso = Elfo.peso - Mateo.peso\n",
        "dif_altura = Elfo.altura - Mateo.altura\n",
        "\n",
        "println(dif_peso)\n",
        "println(dif_altura)"
      ],
      "execution_count": 30,
      "outputs": [
        {
          "output_type": "stream",
          "text": [
            "14.0\n",
            "0.07000000000000006\n"
          ],
          "name": "stdout"
        }
      ]
    },
    {
      "cell_type": "markdown",
      "metadata": {
        "id": "whYa83vC1cj9"
      },
      "source": [
        "**Los structs son inmutables**"
      ]
    },
    {
      "cell_type": "code",
      "metadata": {
        "id": "cGn30sY01cAo"
      },
      "source": [
        "#Elfo.peso = 88\n",
        "#Debería romper"
      ],
      "execution_count": 33,
      "outputs": []
    },
    {
      "cell_type": "markdown",
      "metadata": {
        "id": "xL8PiRQ25Z1h"
      },
      "source": [
        "#### Funciones"
      ]
    },
    {
      "cell_type": "code",
      "metadata": {
        "colab": {
          "base_uri": "https://localhost:8080/"
        },
        "id": "K1k9mhZB5a4-",
        "outputId": "ef78836e-9f4c-4077-9c50-407d91df8bd4"
      },
      "source": [
        "function Diferencia_de_alturas(Una_persona::Persona, Otra_persona::Persona)\n",
        "  abs.(Una_persona.altura - Otra_persona.altura)\n",
        "end"
      ],
      "execution_count": 45,
      "outputs": [
        {
          "output_type": "execute_result",
          "data": {
            "text/plain": [
              "Diferencia_de_alturas (generic function with 1 method)"
            ]
          },
          "metadata": {
            "tags": []
          },
          "execution_count": 45
        }
      ]
    },
    {
      "cell_type": "code",
      "metadata": {
        "colab": {
          "base_uri": "https://localhost:8080/"
        },
        "id": "HpHg_QB8-5ZZ",
        "outputId": "29c1d326-0936-4855-89a6-7f883ec7856e"
      },
      "source": [
        "diferencia_mateo = Diferencia_de_alturas(Mateo,Elfo)\n",
        "diferencia_elfo = Diferencia_de_alturas(Elfo,Mateo)\n",
        "\n",
        "println(diferencia_mateo)\n",
        "println(diferencia_elfo)"
      ],
      "execution_count": 46,
      "outputs": [
        {
          "output_type": "stream",
          "text": [
            "0.07000000000000006\n",
            "0.07000000000000006\n"
          ],
          "name": "stdout"
        }
      ]
    },
    {
      "cell_type": "markdown",
      "metadata": {
        "id": "aAq0BO8F_acJ"
      },
      "source": [
        "**Recursividad**"
      ]
    },
    {
      "cell_type": "code",
      "metadata": {
        "colab": {
          "base_uri": "https://localhost:8080/"
        },
        "id": "qLqNYrtc_cJt",
        "outputId": "22cf3c04-7852-4302-d738-4868ec43613a"
      },
      "source": [
        "function cuentaregresiva(n)\n",
        "    if n <= 0\n",
        "        println(\"Despegue!\")\n",
        "    else\n",
        "        println(n)\n",
        "        cuentaregresiva(n-1)\n",
        "    end\n",
        "end"
      ],
      "execution_count": 40,
      "outputs": [
        {
          "output_type": "execute_result",
          "data": {
            "text/plain": [
              "cuentaregresiva (generic function with 1 method)"
            ]
          },
          "metadata": {
            "tags": []
          },
          "execution_count": 40
        }
      ]
    },
    {
      "cell_type": "code",
      "metadata": {
        "colab": {
          "base_uri": "https://localhost:8080/"
        },
        "id": "yWXKAAvi_gDe",
        "outputId": "19aefe52-33ef-47ba-e0ec-0d30a04c2f5d"
      },
      "source": [
        "cuentaregresiva(10)"
      ],
      "execution_count": 41,
      "outputs": [
        {
          "output_type": "stream",
          "text": [
            "10\n",
            "9\n",
            "8\n",
            "7\n",
            "6\n",
            "5\n",
            "4\n",
            "3\n",
            "2\n",
            "1\n",
            "Despegue!\n"
          ],
          "name": "stdout"
        }
      ]
    },
    {
      "cell_type": "markdown",
      "metadata": {
        "id": "nKEXOgSGBDcm"
      },
      "source": [
        "**Errores**\n",
        "\n",
        "Si se produce un **error durante una llamada a función**, Julia imprime el nombre de la función, el nombre de la función que la llamó, el nombre de la función que a su vez llamó a esta otra, y así sucesivamente hasta llegar a la función de más alto nivel Main.\n",
        "\n",
        "En caso de ser una funcion recursiva que nunca para de llamarse a si misma hace una referencia a stackoverflowerror.\n"
      ]
    }
  ]
}