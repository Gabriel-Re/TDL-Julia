{
  "nbformat": 4,
  "nbformat_minor": 0,
  "metadata": {
    "colab": {
      "name": "Teoria de los pi- Julia1.6.ipynb",
      "provenance": [],
      "collapsed_sections": [
        "MT7fAVLqWxdQ"
      ]
    },
    "kernelspec": {
      "display_name": "Julia 1.6",
      "language": "julia",
      "name": "julia-1.6"
    },
    "language_info": {
      "file_extension": ".jl",
      "mimetype": "application/julia",
      "name": "julia",
      "version": "1.6.0"
    }
  },
  "cells": [
    {
      "cell_type": "markdown",
      "metadata": {
        "id": "2d4-YqXbTprT"
      },
      "source": [
        "**Antes que nada correr esta celda para poder usar julia**"
      ]
    },
    {
      "cell_type": "code",
      "metadata": {
        "id": "PMGwZ7aFJL8Y"
      },
      "source": [
        "# Installation cell\n",
        "%%capture\n",
        "%%shell\n",
        "if ! command -v julia 3>&1 > /dev/null\n",
        "then\n",
        "    wget -q 'https://julialang-s3.julialang.org/bin/linux/x64/1.6/julia-1.6.1-linux-x86_64.tar.gz' \\\n",
        "        -O /tmp/julia.tar.gz\n",
        "    tar -x -f /tmp/julia.tar.gz -C /usr/local --strip-components 1\n",
        "    rm /tmp/julia.tar.gz\n",
        "fi\n",
        "julia -e 'using Pkg; pkg\"add IJulia; precompile;\"'\n",
        "echo 'Done'"
      ],
      "execution_count": null,
      "outputs": []
    },
    {
      "cell_type": "markdown",
      "metadata": {
        "id": "XdMpcQduyaQc"
      },
      "source": [
        "Despues de ejecutar la celda de arriba, Vamos a la barra de opciones de google colab y tocamos en **Editar** y despues en **Configuración del cuaderno** que está abajo de todo casi. Seleccionamos *Julia 1.6* en Tipo de Entorno de Ejecución. Y si queremos cambiamos el acelerador por hardware (default en GPU, les recomiendo que lo saquen). \n",
        "\n",
        "<br/>Editar y configuración\n",
        "\n",
        "> ![Colab Img](https://i.imgur.com/7XLVAMN.png)\n",
        "\n",
        "<br/>Esta es la configuración que deberian tener:\n",
        "\n",
        "> ![Colab Img](https://i.imgur.com/UasidBO.png)\n",
        "\n",
        "<br/>No se olviden de guardar.\n",
        "<br/>**Arrancamos nomas, recuerden que siempre que se reinicie el entorno o lo que sea ejecuten esto**.\n",
        "\n",
        "\n",
        "\n",
        "\n"
      ]
    },
    {
      "cell_type": "code",
      "metadata": {
        "id": "iIxu4TjlJnBG",
        "colab": {
          "base_uri": "https://localhost:8080/"
        },
        "outputId": "b7d776a0-8655-4213-f858-747119bb5a52"
      },
      "source": [
        "VERSION #Para ver la version de julia"
      ],
      "execution_count": null,
      "outputs": [
        {
          "output_type": "execute_result",
          "data": {
            "text/plain": [
              "v\"1.6.1\""
            ]
          },
          "metadata": {
            "tags": []
          },
          "execution_count": 1
        }
      ]
    },
    {
      "cell_type": "markdown",
      "metadata": {
        "id": "V63hI_KnpzJ4"
      },
      "source": [
        "#Fuentes de donde se saca info para ir completando\n",
        "\n",
        "##Fuentes:\n",
        "### La de los fideos  \n",
        "![Colab Img](https://i.imgur.com/YZNNQiS.jpg)\n",
        "### La de los deseos \n",
        "![Colab Img](https://i.imgur.com/Muez4aC.jpeg)\n",
        "### Miami me lo confirmó\n",
        "![Colab Img](https://i.ytimg.com/vi/ysmSWmTkNi8/sddefault.jpg)\n",
        "\n",
        "## Mentira chinchulin ahi van los links:\n",
        "### https://introajulia.org/ -> Bastante completa la wea\n",
        "### https://es.xcv.wiki/wiki/Multiple_dispatch -> Multiple_Dispatch pa los pi\n",
        "### https://julialang.org/blog/2012/02/why-we-created-julia/ -> Por qué se creo Julia (ingles)\n",
        "### https://docs.julialang.org/en/v1/ -> Documentación Julia (Ingles)\n",
        "### https://julialang.org/benchmarks/ -> Comparaciones con Julia y otros lenguajes\n",
        "### https://es.wikipedia.org/wiki/Julia_(lenguaje_de_programaci%C3%B3n) -> La vieja confiable\n",
        "### https://en.wikipedia.org/wiki/List_of_algorithms -> Lista de algoritmos para afanar a lo loco\n",
        "### https://github.com/jltabara/Julia-y-las-Matematicas/blob/master/Julia01.md -> Matemática básica"
      ]
    },
    {
      "cell_type": "markdown",
      "metadata": {
        "id": "MT7fAVLqWxdQ"
      },
      "source": [
        "##Hola mundo"
      ]
    },
    {
      "cell_type": "code",
      "metadata": {
        "colab": {
          "base_uri": "https://localhost:8080/"
        },
        "id": "4JCyXXZ5WyhY",
        "outputId": "768ea476-550e-4ff3-ea95-2e07c01907f0"
      },
      "source": [
        "println(\"Hello World\")"
      ],
      "execution_count": null,
      "outputs": [
        {
          "output_type": "stream",
          "text": [
            "Hello World\n"
          ],
          "name": "stdout"
        }
      ]
    },
    {
      "cell_type": "markdown",
      "metadata": {
        "id": "mDN_HrmYqtK2"
      },
      "source": [
        "##0.0 Cosas basicas"
      ]
    },
    {
      "cell_type": "markdown",
      "metadata": {
        "id": "o8XnXi71qyxo"
      },
      "source": [
        "**Palabras reservadas en Julia**\n",
        "\n",
        "![Colab Img](https://i.imgur.com/l0KZQ4n.png)\n",
        "\n",
        "**Operadores aritmeticos**\n",
        "\n",
        "    Suma:\n",
        "    4 + 4 = 8\n",
        "\n",
        "    Resta:\n",
        "    4 - 2 = 2\n",
        "\n",
        "    Multiplicación:\n",
        "    4 * 4 = 16\n",
        "\n",
        "    División:\n",
        "    8/2 = 4\n",
        "\n",
        "    Potencia:\n",
        "    4^4 = 16\n",
        "\n",
        "    Con strings:\n",
        "\n",
        "    primer_str = \"auto\"\n",
        "    segundo_str = \"móvil\"\n",
        "\n",
        "    primer_str * segundo_str = automóvil\n",
        "\n",
        "    \"Spam\"^3 = SpamSpamSpam\n",
        "\n",
        "    Recordar que el orden de las operaciones es el siguiente:\n",
        "    * Parentesis\n",
        "    * Potenciación\n",
        "    * Multiplicación y División\n",
        "    * Suma resta etc (de izq a der)\n",
        "\n",
        "**Tipos de datos**\n",
        "\n",
        "Los enteros pertenecen al tipo **Int64**, las cadenas pertenecen a **String** y los números de punto flotante pertenecen a **Float64**.\n",
        "\n",
        "    4 = Int64\n",
        "\n",
        "    42.0 = Float64\n",
        "\n",
        "    \"Hola mundo\" = String\n",
        "\n",
        "    \"42\" = String\n",
        "\n",
        "**Expresiones booleanas**\n",
        "\n",
        "    5 == 5 = true\n",
        "\n",
        "    5 == 6 = false\n",
        "\n",
        "    Operadores relacionales:\n",
        "\n",
        "    * == \n",
        "    * !=\n",
        "    * >=\n",
        "    * <=\n",
        "\n",
        "    Operadores Logicos: \n",
        "\n",
        "    * &&\n",
        "    * ||\n",
        "    * !\n",
        "\n",
        "**Condicionales**\n",
        "\n",
        "    *(1)\n",
        "    if x > 0\n",
        "      println(\"Es positivo como el covid\")\n",
        "    end\n",
        "\n",
        "    *(2)\n",
        "    if x > 2\n",
        "      algo()\n",
        "    else \n",
        "      algo2()  \n",
        "    end\n",
        "\n",
        "    *(3)\n",
        "    if alternativa == \"a\"\n",
        "      dibujar_a()\n",
        "    elseif alternativa == \"b\"\n",
        "      dibujar_b()\n",
        "    elseif alternativa == \"c\"\n",
        "      dibujar_c()\n",
        "    end\n",
        "\n",
        "    (4)\n",
        "\n",
        "    if x > 2 && x < 20\n",
        "      if x == 4\n",
        "        hacer algo\n",
        "      end\n",
        "    end\n",
        "\n",
        "**Especificar un tipo de dato**\n",
        "\n",
        "Para especificar un tipo de dato esperado o usar un tipo de dato especifico se usan los \"::\" dos puntitos seguido al tipo de dato\n",
        "\n",
        "**Definir un struct** \n",
        "\n",
        "    struct Nombre\n",
        "      Wea::Tipo_de_dato\n",
        "      wea_2::Tipo_de_dato_2\n",
        "    end\n",
        "\n",
        "**Warning**\n",
        "\n",
        "**ESTA DECLARACION ES INMUTABLE** (nos tira error diciendo que no puede ser cambiado, que es inmutable)\n",
        "\n",
        "**Fin del Warning**\n",
        "\n",
        "**Para declarar un struct mutable se realiza de la siguiente manera**\n",
        "\n",
        "    mutable struct Nombre\n",
        "      Wea::Tipo_de_dato\n",
        "      wea_2::Tipo_de_dato_2\n",
        "    end\n",
        "\n",
        "\n",
        "**Para acceder a un atributo/campo/loquesea**\n",
        "\n",
        "    nombre_del_struct.campo\n",
        "\n",
        "**Definir una función**\n",
        "    # Si se crea algo dentro de esto es local!!!\n",
        "    function imprimirletras(párametros)\n",
        "      println(\"La concha de tu madre\")\n",
        "      println(\"AllBoys\")\n",
        "    end\n",
        "\n",
        "**Recursividad**\n",
        "\n",
        "    function cuentaregresiva(n)\n",
        "        if n <= 0\n",
        "            println(\"Despegue!\")\n",
        "        else\n",
        "            print(n, \" \")\n",
        "            cuentaregresiva(n-1)\n",
        "        end\n",
        "    end\n",
        "\n",
        "**Definir un método**\n",
        "\n",
        "    begin\n",
        "      nombre(parametros)\n",
        "    end\n",
        "\n",
        "**Errores**\n",
        "\n",
        "Si se produce un **error durante una llamada a función**, Julia imprime el nombre de la función, el nombre de la función que la llamó, el nombre de la función que a su vez llamó a esta otra, y así sucesivamente hasta llegar a la función de más alto nivel Main.\n",
        "\n",
        "En caso de ser una funcion recursiva que nunca para de llamarse a si misma hace una referencia a stackoverflowerror.\n"
      ]
    },
    {
      "cell_type": "markdown",
      "metadata": {
        "id": "tREkl58MtqsW"
      },
      "source": [
        "###0.1 Aplicando lo visto"
      ]
    },
    {
      "cell_type": "markdown",
      "metadata": {
        "id": "NUbvVI59t3x3"
      },
      "source": [
        "#### 0.1.1 Ejemplo struct\n",
        "\n",
        "\n"
      ]
    },
    {
      "cell_type": "code",
      "metadata": {
        "id": "5-8eKJGbtqDn"
      },
      "source": [
        "struct Persona\n",
        "  altura::Float64\n",
        "  peso::Float64\n",
        "end"
      ],
      "execution_count": 1,
      "outputs": []
    },
    {
      "cell_type": "code",
      "metadata": {
        "colab": {
          "base_uri": "https://localhost:8080/"
        },
        "id": "sAeA8R-2uhM8",
        "outputId": "3e843c68-e3ab-4f94-d054-eff0b9a6a6a4"
      },
      "source": [
        "Elfo = Persona(1.80,74)"
      ],
      "execution_count": 2,
      "outputs": [
        {
          "output_type": "execute_result",
          "data": {
            "text/plain": [
              "Persona(1.8, 74.0)"
            ]
          },
          "metadata": {
            "tags": []
          },
          "execution_count": 2
        }
      ]
    },
    {
      "cell_type": "code",
      "metadata": {
        "colab": {
          "base_uri": "https://localhost:8080/"
        },
        "id": "W9vJzMFcurqo",
        "outputId": "6734064e-e266-4855-b6a7-308e41f865b0"
      },
      "source": [
        "Elfo isa Persona #El elfo realmente es una persona?"
      ],
      "execution_count": 3,
      "outputs": [
        {
          "output_type": "execute_result",
          "data": {
            "text/plain": [
              "true"
            ]
          },
          "metadata": {
            "tags": []
          },
          "execution_count": 3
        }
      ]
    },
    {
      "cell_type": "code",
      "metadata": {
        "colab": {
          "base_uri": "https://localhost:8080/"
        },
        "id": "bgX7WGIhux7Y",
        "outputId": "f521b6b4-8e96-4f6d-cbd9-0b278d948167"
      },
      "source": [
        "typeof(Elfo) #Confirmamos, es una persona"
      ],
      "execution_count": 4,
      "outputs": [
        {
          "output_type": "execute_result",
          "data": {
            "text/plain": [
              "Persona"
            ]
          },
          "metadata": {
            "tags": []
          },
          "execution_count": 4
        }
      ]
    },
    {
      "cell_type": "code",
      "metadata": {
        "colab": {
          "base_uri": "https://localhost:8080/"
        },
        "id": "C8ucYdFkunpz",
        "outputId": "2742baee-4411-47f6-a23a-ca94062ea96a"
      },
      "source": [
        "Elfo.altura"
      ],
      "execution_count": 5,
      "outputs": [
        {
          "output_type": "execute_result",
          "data": {
            "text/plain": [
              "1.8"
            ]
          },
          "metadata": {
            "tags": []
          },
          "execution_count": 5
        }
      ]
    },
    {
      "cell_type": "code",
      "metadata": {
        "colab": {
          "base_uri": "https://localhost:8080/"
        },
        "id": "3U7jPLD1upYo",
        "outputId": "664fd0ee-a9da-41ed-c451-6f7a80a821f7"
      },
      "source": [
        "Elfo.peso"
      ],
      "execution_count": 6,
      "outputs": [
        {
          "output_type": "execute_result",
          "data": {
            "text/plain": [
              "74.0"
            ]
          },
          "metadata": {
            "tags": []
          },
          "execution_count": 6
        }
      ]
    },
    {
      "cell_type": "markdown",
      "metadata": {
        "id": "B-acDgqtt-9d"
      },
      "source": [
        "#### 0.1.2 Ejemplo de funcion"
      ]
    },
    {
      "cell_type": "code",
      "metadata": {
        "colab": {
          "base_uri": "https://localhost:8080/"
        },
        "id": "WSpREkHQw3SD",
        "outputId": "477297bd-6627-4d67-b126-28e680247836"
      },
      "source": [
        "begin\n",
        "  alturaPorPeso(alguien::Persona) = alguien.altura * alguien.peso\n",
        "end"
      ],
      "execution_count": 7,
      "outputs": [
        {
          "output_type": "execute_result",
          "data": {
            "text/plain": [
              "alturaPorPeso (generic function with 1 method)"
            ]
          },
          "metadata": {
            "tags": []
          },
          "execution_count": 7
        }
      ]
    },
    {
      "cell_type": "code",
      "metadata": {
        "colab": {
          "base_uri": "https://localhost:8080/"
        },
        "id": "5j44byul2wfh",
        "outputId": "e03c7e14-9530-4d29-b7bd-dd47a2326a56"
      },
      "source": [
        "alturaPorPeso_del_elfo = alturaPorPeso(Elfo)"
      ],
      "execution_count": 8,
      "outputs": [
        {
          "output_type": "execute_result",
          "data": {
            "text/plain": [
              "133.20000000000002"
            ]
          },
          "metadata": {
            "tags": []
          },
          "execution_count": 8
        }
      ]
    },
    {
      "cell_type": "code",
      "metadata": {
        "colab": {
          "base_uri": "https://localhost:8080/"
        },
        "id": "YExAKsAfg9MQ",
        "outputId": "e2d60b88-98d4-49d0-d237-ec82d3d177ae"
      },
      "source": [
        "if alturaPorPeso_del_elfo >= 3\n",
        "  println(\"Tas pesadito pa\")\n",
        "end"
      ],
      "execution_count": 9,
      "outputs": [
        {
          "output_type": "stream",
          "text": [
            "Tas pesadito pa\n"
          ],
          "name": "stdout"
        }
      ]
    },
    {
      "cell_type": "markdown",
      "metadata": {
        "id": "kbbWv84xGLAp"
      },
      "source": [
        "#### 0.1.3 Otro ejemplo completo"
      ]
    },
    {
      "cell_type": "code",
      "metadata": {
        "id": "ExDnwwCzGVqI"
      },
      "source": [
        "#Definimos el struct\n",
        "struct Rectangle\n",
        "  width::Float64\n",
        "  height::Float64\n",
        "end"
      ],
      "execution_count": 10,
      "outputs": []
    },
    {
      "cell_type": "code",
      "metadata": {
        "colab": {
          "base_uri": "https://localhost:8080/"
        },
        "id": "2EUItA3rGWWU",
        "outputId": "c085ce96-eabc-48f5-e45f-713d0cdabd80"
      },
      "source": [
        "#Ejemplito cortito y al pie\n",
        "#Funcion especifica y generica de Area\n",
        "\n",
        "begin\n",
        "  area(r::Rectangle) = r.width * r.height # r::Rectangle significa que recibe un objeto si o si que es de tipo rectangulo y que tiene esos 2 campos (Esta es la funcion especifica que recibe si o si un rectangulo)\n",
        "  area(x) = x #(funcion generica que recibe cualquier pito) Funciona para cualquier tipo excepto para los rectangulos, que ya tiene una función especifica\n",
        "end"
      ],
      "execution_count": 11,
      "outputs": [
        {
          "output_type": "execute_result",
          "data": {
            "text/plain": [
              "area (generic function with 2 methods)"
            ]
          },
          "metadata": {
            "tags": []
          },
          "execution_count": 11
        }
      ]
    },
    {
      "cell_type": "markdown",
      "metadata": {
        "id": "wXA_nZHWGYp1"
      },
      "source": [
        "**Aclaración importante** Es necesario definir todos los métodos del mismo tipo dentro de ese begin y end (Por lo menos en esta versión de Julia, según lo que dicen en un video del año pasado, no lo testié)"
      ]
    },
    {
      "cell_type": "code",
      "metadata": {
        "colab": {
          "base_uri": "https://localhost:8080/"
        },
        "id": "4Lbh5ts7GZ5M",
        "outputId": "e3789aaf-e824-4afd-d971-7c5065a4f5b9"
      },
      "source": [
        "#Ejemplito de como es la wea\n",
        "r = Rectangle(1.0,2.5)"
      ],
      "execution_count": 12,
      "outputs": [
        {
          "output_type": "execute_result",
          "data": {
            "text/plain": [
              "Rectangle(1.0, 2.5)"
            ]
          },
          "metadata": {
            "tags": []
          },
          "execution_count": 12
        }
      ]
    },
    {
      "cell_type": "code",
      "metadata": {
        "colab": {
          "base_uri": "https://localhost:8080/"
        },
        "id": "-diu2TzCGbEA",
        "outputId": "f8f7d653-d587-4e0b-c4a4-ab8a4fc66446"
      },
      "source": [
        "area(r)"
      ],
      "execution_count": 13,
      "outputs": [
        {
          "output_type": "execute_result",
          "data": {
            "text/plain": [
              "2.5"
            ]
          },
          "metadata": {
            "tags": []
          },
          "execution_count": 13
        }
      ]
    },
    {
      "cell_type": "code",
      "metadata": {
        "colab": {
          "base_uri": "https://localhost:8080/"
        },
        "id": "BDqiiWlhGcMQ",
        "outputId": "695f89bb-6ad9-461d-b22d-02c94af33640"
      },
      "source": [
        "pingo = 1\n",
        "area(pingo)"
      ],
      "execution_count": 14,
      "outputs": [
        {
          "output_type": "execute_result",
          "data": {
            "text/plain": [
              "1"
            ]
          },
          "metadata": {
            "tags": []
          },
          "execution_count": 14
        }
      ]
    },
    {
      "cell_type": "code",
      "metadata": {
        "colab": {
          "base_uri": "https://localhost:8080/"
        },
        "id": "IPzMT2nZGdXT",
        "outputId": "e877acde-4bf1-44aa-b65d-dffa9ca6fc8f"
      },
      "source": [
        "area #Dice cuantas funciones tiene definidas"
      ],
      "execution_count": 15,
      "outputs": [
        {
          "output_type": "execute_result",
          "data": {
            "text/plain": [
              "area (generic function with 2 methods)"
            ]
          },
          "metadata": {
            "tags": []
          },
          "execution_count": 15
        }
      ]
    },
    {
      "cell_type": "code",
      "metadata": {
        "colab": {
          "base_uri": "https://localhost:8080/"
        },
        "id": "Y5OWqebSQLdO",
        "outputId": "95933edd-e5f9-4daf-e110-748d1a62fad7"
      },
      "source": [
        "function imprimircuadricula()\n",
        "  println(\"+ - - - - + - - - - +\")\n",
        "  println(\"|         |         |\")\n",
        "  println(\"|         |         |\")\n",
        "  println(\"|         |         |\")\n",
        "  println(\"|         |         |\")\n",
        "  println(\"+ - - - - + - - - - +\")\n",
        "  println(\"|         |         |\")\n",
        "  println(\"|         |         |\")\n",
        "  println(\"|         |         |\")\n",
        "  println(\"|         |         |\")\n",
        "  println(\"+ - - - - + - - - - +\")\n",
        "end"
      ],
      "execution_count": 16,
      "outputs": [
        {
          "output_type": "execute_result",
          "data": {
            "text/plain": [
              "imprimircuadricula (generic function with 1 method)"
            ]
          },
          "metadata": {
            "tags": []
          },
          "execution_count": 16
        }
      ]
    },
    {
      "cell_type": "code",
      "metadata": {
        "colab": {
          "base_uri": "https://localhost:8080/"
        },
        "id": "Y4dWF_zzQNuM",
        "outputId": "5b97bc1d-dbd6-4995-b8da-dca41a12f3e2"
      },
      "source": [
        "imprimircuadricula()"
      ],
      "execution_count": 17,
      "outputs": [
        {
          "output_type": "stream",
          "text": [
            "+ - - - - + - - - - +\n",
            "|         |         |\n",
            "|         |         |\n",
            "|         |         |\n",
            "|         |         |\n",
            "+ - - - - + - - - - +\n",
            "|         |         |\n",
            "|         |         |\n",
            "|         |         |\n",
            "|         |         |\n",
            "+ - - - - + - - - - +\n"
          ],
          "name": "stdout"
        }
      ]
    },
    {
      "cell_type": "markdown",
      "metadata": {
        "id": "DwRrg0NFp1_g"
      },
      "source": [
        "##1.0 ¿Por qué Julia?"
      ]
    },
    {
      "cell_type": "markdown",
      "metadata": {
        "id": "Y63msKu1p33g"
      },
      "source": [
        "Julia fue lanzado originalmente en 2012 por Alan Edelman, Stefan Karpinski, Jeff Bezanson y Viral Shah. Es un lenguaje de programación gratuito y de código abierto.\n",
        "\n",
        "La elección de un lenguaje de programación es siempre subjetiva. Para mí, las siguientes características de Julia son decisivas:\n",
        "\n",
        "- Julia está desarrollado como un lenguaje de programación de alto rendimiento.\n",
        "\n",
        "- Julia usa envío múltiple (**“multiple dispatch”** **(1.1)** en inglés), que le permite al programador elegir entre diferentes patrones de programación de acuerdo a la aplicación.\n",
        "\n",
        "- Julia es un lenguaje de tipo dinámico que se puede usar fácilmente de forma interactiva.\n",
        "\n",
        "- Julia tiene una sintaxis de alto nivel que es fácil de aprender.\n",
        "\n",
        "- Julia es un lenguaje de programación con tipos opcionales, cuyos tipos de datos (definidos por el usuario) hacen que el código sea claro y robusto.\n",
        "\n",
        "- Julia tiene una biblioteca estándar extendida, además, están disponibles numerosos paquetes de terceros.\n",
        "\n",
        "Julia es un lenguaje de programación único, ya que resuelve el problema de los dos idiomas. No se necesita de ningún otro lenguaje de programación para escribir código de alto rendimiento. Esto no significa que ocurra automáticamente. Es responsabilidad del programador optimizar el código que genere cuellos de botella, aunque esto puede hacerse directamente en Julia."
      ]
    },
    {
      "cell_type": "markdown",
      "metadata": {
        "id": "3fmY5q1RwhNY"
      },
      "source": [
        "## 1.1 Multiple dispatch\n"
      ]
    },
    {
      "cell_type": "markdown",
      "metadata": {
        "id": "08v1oBT-wkdB"
      },
      "source": [
        "Es un concepto muy importante en Julia. Ahora ¿Que pingo significa esto ura?. Ya te explico chango, la cosa es así.\n",
        "\n",
        "Nosotros cuando hablamos de un envio simple estamos hablando de un proceso en donde elegimos un método diferente o versión de una función dependiendo del tipo de entrada\n",
        "\n",
        "Y el envio multiple (*Multiple dispatch*) significa que miramos todos los tipos de entrada para todos los argumentos de la función para elegir que método o versión vamos a llamar"
      ]
    },
    {
      "cell_type": "code",
      "metadata": {
        "colab": {
          "base_uri": "https://localhost:8080/"
        },
        "id": "m4x1ALbDD3Td",
        "outputId": "f1ed5101-b37c-4d6c-a8a6-c747fae22824"
      },
      "source": [
        "#Defino un numero complejo\n",
        "cc = 3 +4im #Para definir un imaginario se pone im dsp del num"
      ],
      "execution_count": null,
      "outputs": [
        {
          "output_type": "execute_result",
          "data": {
            "text/plain": [
              "3 + 4im"
            ]
          },
          "metadata": {
            "tags": []
          },
          "execution_count": 1
        }
      ]
    },
    {
      "cell_type": "code",
      "metadata": {
        "colab": {
          "base_uri": "https://localhost:8080/",
          "height": 34
        },
        "id": "iGxqcxucE3lr",
        "outputId": "4bfe3058-1082-4dd7-f49c-f1a66ffe56f2"
      },
      "source": [
        "#Para poder ver que es lo que realmente hace Julia voy a usar un macro\n",
        "@which cc + cc"
      ],
      "execution_count": null,
      "outputs": [
        {
          "output_type": "execute_result",
          "data": {
            "text/html": [
              "+(z::<b>Complex</b>, w::<b>Complex</b>) in Base at <a href=\"https://github.com/JuliaLang/julia/tree/6aaedecc447e3d8226d5027fb13d0c3cbfbfea2a/base/complex.jl#L275\" target=\"_blank\">complex.jl:275</a>"
            ],
            "text/plain": [
              "+(z::Complex, w::Complex) in Base at complex.jl:275"
            ]
          },
          "metadata": {
            "tags": []
          },
          "execution_count": 4
        }
      ]
    },
    {
      "cell_type": "markdown",
      "metadata": {
        "id": "qL-MCIj9FsHd"
      },
      "source": [
        "Lo que me dice lo de arriba es que se usa un método que recibe dos numeros complejos y los suma.\n",
        "\n",
        "Ahora vamos a ver que pasa si sumamos un numero real"
      ]
    },
    {
      "cell_type": "code",
      "metadata": {
        "colab": {
          "base_uri": "https://localhost:8080/",
          "height": 34
        },
        "id": "Rnkqa5rMGA_L",
        "outputId": "c83e958e-8f41-4f12-c8f0-2f10401fcd03"
      },
      "source": [
        "@which cc + 4 #como se pone tu hermana"
      ],
      "execution_count": null,
      "outputs": [
        {
          "output_type": "execute_result",
          "data": {
            "text/html": [
              "+(z::<b>Complex</b>, x::<b>Real</b>) in Base at <a href=\"https://github.com/JuliaLang/julia/tree/6aaedecc447e3d8226d5027fb13d0c3cbfbfea2a/base/complex.jl#L313\" target=\"_blank\">complex.jl:313</a>"
            ],
            "text/plain": [
              "+(z::Complex, x::Real) in Base at complex.jl:313"
            ]
          },
          "metadata": {
            "tags": []
          },
          "execution_count": 5
        }
      ]
    },
    {
      "cell_type": "markdown",
      "metadata": {
        "id": "Pd-Ej0iUGEtV"
      },
      "source": [
        "Vemos que ahora llama a otro método, entonces esto quiere decir que entre todas las funciones definidas para la suma llama especificamente a aquellas que reciba ciertos parametros esperados"
      ]
    },
    {
      "cell_type": "code",
      "metadata": {
        "colab": {
          "base_uri": "https://localhost:8080/",
          "height": 34
        },
        "id": "VIfVAqTeGwkB",
        "outputId": "775d4385-84cd-4eaf-8659-73d179bd91f4"
      },
      "source": [
        "#Vuelvo a probar pero invirtiendo\n",
        "@which 4 + cc"
      ],
      "execution_count": null,
      "outputs": [
        {
          "output_type": "execute_result",
          "data": {
            "text/html": [
              "+(x::<b>Real</b>, z::<b>Complex</b>) in Base at <a href=\"https://github.com/JuliaLang/julia/tree/6aaedecc447e3d8226d5027fb13d0c3cbfbfea2a/base/complex.jl#L312\" target=\"_blank\">complex.jl:312</a>"
            ],
            "text/plain": [
              "+(x::Real, z::Complex) in Base at complex.jl:312"
            ]
          },
          "metadata": {
            "tags": []
          },
          "execution_count": 6
        }
      ]
    },
    {
      "cell_type": "code",
      "metadata": {
        "colab": {
          "base_uri": "https://localhost:8080/"
        },
        "id": "jZ8mk8iMG6uo",
        "outputId": "14e9f011-7c2d-477b-86e0-1763e5099121"
      },
      "source": [
        "#Quiero ver cuantos métodos de \"+\" hay\n",
        "+"
      ],
      "execution_count": null,
      "outputs": [
        {
          "output_type": "execute_result",
          "data": {
            "text/plain": [
              "+ (generic function with 190 methods)"
            ]
          },
          "metadata": {
            "tags": []
          },
          "execution_count": 7
        }
      ]
    },
    {
      "cell_type": "markdown",
      "metadata": {
        "id": "hxwOnEQvHHi7"
      },
      "source": [
        "**Nota importante**, cada vez que usamos este macro nos da un link a la implementación, tenganlo en cuenta"
      ]
    },
    {
      "cell_type": "markdown",
      "metadata": {
        "id": "wSaJIuNDWnpz"
      },
      "source": [
        "# Teoria de los pi\n",
        "## TDL 2021 1C - Julia "
      ]
    },
    {
      "cell_type": "markdown",
      "metadata": {
        "id": "Gxw6A9AQWoGK"
      },
      "source": [
        "## Historia"
      ]
    },
    {
      "cell_type": "markdown",
      "metadata": {
        "id": "pXe2tHk1LbBr"
      },
      "source": [
        "Julia se inició en el año 2009, por sus creadores Jeff Bezanson, Stefan Karpinski, Viral B. Shah y Alan Edelman quienes se propusieron crear un lenguaje libre que fuera rápido y de alto nivel.\n",
        "\n",
        "En el año 2012 el equipo explicó en su blog por qué fue creado Julia.\n",
        "\n",
        "**Despues lo traduzco para los hinchas de boca**\n",
        "\n",
        "\"*In short, because we are greedy*\"\n",
        "\n",
        "\"We want a language that's open source, with a liberal license. We want the speed of C with the dynamism of Ruby. We want a language that's homoiconic, with true macros like Lisp, but with obvious, familiar mathematical notation like Matlab. We want something as usable for general programming as Python, as easy for statistics as R, as natural for string processing as Perl, as powerful for linear algebra as Matlab, as good at gluing programs together as the shell. Something that is dirt simple to learn, yet keeps the most serious hackers happy. We want it interactive and we want it compiled.\n",
        "\n",
        "(Did we mention it should be as fast as C?)\n",
        "\n",
        "Despite all this power, we want the language to be simple and clean.\"\n",
        "\n",
        "pa seguir dsp \n",
        "\n",
        "https://julialang.org/blog/2012/02/why-we-created-julia/\n",
        "\n",
        "https://julialang.org/blog/2018/08/one-point-zero/\n"
      ]
    },
    {
      "cell_type": "markdown",
      "metadata": {
        "id": "Mjy3Obt7WqAX"
      },
      "source": [
        "##Sintaxis"
      ]
    },
    {
      "cell_type": "markdown",
      "metadata": {
        "id": "xKmUv7wPWsRU"
      },
      "source": [
        "### Variables"
      ]
    },
    {
      "cell_type": "markdown",
      "metadata": {
        "id": "IT1JnrMTWteI"
      },
      "source": [
        "### Estructura de datos"
      ]
    },
    {
      "cell_type": "markdown",
      "metadata": {
        "id": "zed6J6WYWurp"
      },
      "source": [
        "## Semantica"
      ]
    },
    {
      "cell_type": "markdown",
      "metadata": {
        "id": "lv4UD3YRJHZx"
      },
      "source": [
        "#Prueba de código (no dar bola)\n"
      ]
    },
    {
      "cell_type": "code",
      "metadata": {
        "id": "-GgBZ9P0Lyvu",
        "colab": {
          "base_uri": "https://localhost:8080/"
        },
        "outputId": "94c82f9c-60a2-4b00-fcae-11826fac97d6"
      },
      "source": [
        "A = [2 1 ; 0 3]\n",
        "B = [7 ; 9]\n",
        "A\\B"
      ],
      "execution_count": null,
      "outputs": [
        {
          "output_type": "execute_result",
          "data": {
            "text/plain": [
              "2-element Vector{Float64}:\n",
              " 2.0\n",
              " 3.0"
            ]
          },
          "metadata": {
            "tags": []
          },
          "execution_count": 4
        }
      ]
    },
    {
      "cell_type": "code",
      "metadata": {
        "id": "YAPU2EIKJGd8",
        "colab": {
          "base_uri": "https://localhost:8080/"
        },
        "outputId": "b98639be-3b7b-49be-80fb-9013068f93cd"
      },
      "source": [
        "A = [1 2 3; 4 5 6; 7 8 9]\n",
        "B = [1 0 0; 0 1 0; 0 0 1] \n",
        "C = A + B * A^10000\n"
      ],
      "execution_count": null,
      "outputs": [
        {
          "output_type": "execute_result",
          "data": {
            "text/plain": [
              "3×3 Matrix{Int64}:\n",
              " -6559232017705053999  -9002684889773068006   7000606311868469603\n",
              "  1470319080572675602  -2516550971109228402  -6503421022791132406\n",
              " -8946873894859146413   3969582947554611202  -1560704283741182799"
            ]
          },
          "metadata": {
            "tags": []
          },
          "execution_count": 7
        }
      ]
    },
    {
      "cell_type": "code",
      "metadata": {
        "colab": {
          "base_uri": "https://localhost:8080/"
        },
        "id": "i8vwwG7v-si2",
        "outputId": "997bf8c2-cdcc-443a-85d3-e699c41e6a8a"
      },
      "source": [
        "using LinearAlgebra\n",
        "\n",
        "v = zeros(Int64, 3)"
      ],
      "execution_count": null,
      "outputs": [
        {
          "output_type": "execute_result",
          "data": {
            "text/plain": [
              "3-element Vector{Int64}:\n",
              " 0\n",
              " 0\n",
              " 0"
            ]
          },
          "metadata": {
            "tags": []
          },
          "execution_count": 18
        }
      ]
    },
    {
      "cell_type": "code",
      "metadata": {
        "colab": {
          "base_uri": "https://localhost:8080/"
        },
        "id": "SLsAG7NL4mrX",
        "outputId": "bfbea768-0e3c-4968-9431-c61978a6a3e8"
      },
      "source": [
        "using LinearAlgebra\n",
        "\n",
        "A_inicial = [3 2 2; 2 3 -2]\n",
        "\n",
        "A = transpose(A_inicial) * A_inicial\n",
        "\n",
        "m = 3\n",
        "n = 3\n",
        "\n",
        "# avas y aves\n",
        "avas = eigvals(A)\n",
        "aves = eigvecs(A)  # (estoy 80% seguro, porque no lo encuentro en bibliografia, que los da normalizados)\n",
        "                   # act: los vectores efectivamente los da normalizados pero su norma puede llegar a ser 0.9999999999994, normalizandolos a mano de nuevo quedan 1.0\n",
        "\n",
        "avas = sort(avas, rev=true)\n",
        "D = diagm(avas)\n",
        "\n",
        "\n",
        "# FORMO A SIGMA\n",
        "for i in 1:m\n",
        "  if avas[i] > 0\n",
        "    avas[i] = sqrt(avas[i])\n",
        "  else\n",
        "    avas[i] = 0\n",
        "  end\n",
        "end\n",
        "\n",
        "Z = diagm(avas)\n",
        "\n",
        "\n",
        "# FORMO A V    \n",
        "V = zeros(n,n)\n",
        "\n",
        "for i in 1:n\n",
        "  v = aves[:,i] ./ norm(aves[:,i])\n",
        "  println(v)\n",
        "  println(norm(aves[:,i]))\n",
        "  println(norm(v))\n",
        "  V[:,i] = v\n",
        "end\n",
        "\n",
        "V"
      ],
      "execution_count": null,
      "outputs": [
        {
          "output_type": "stream",
          "text": [
            "[0.6666666666666669, -0.6666666666666665, -0.33333333333333337]\n",
            "0.9999999999999997\n",
            "1.0\n",
            "[0.23570226039551576, -0.23570226039551564, 0.9428090415820635]\n",
            "0.9999999999999999\n",
            "1.0\n",
            "[0.7071067811865476, 0.7071067811865476, 0.0]\n",
            "0.9999999999999999\n",
            "1.0\n"
          ],
          "name": "stdout"
        },
        {
          "output_type": "execute_result",
          "data": {
            "text/plain": [
              "3×3 Matrix{Float64}:\n",
              "  0.666667   0.235702  0.707107\n",
              " -0.666667  -0.235702  0.707107\n",
              " -0.333333   0.942809  0.0"
            ]
          },
          "metadata": {
            "tags": []
          },
          "execution_count": 5
        }
      ]
    },
    {
      "cell_type": "markdown",
      "metadata": {
        "id": "Lt4Fq6fpptpL"
      },
      "source": [
        "###Problemas encontrados para DVS:\n",
        "- U es dificil de sacar sin dejar algo muy sucio ya que cada u_i se divide por un valor singular que puede ser 0.\n",
        "- https://github.com/JuliaLang/julia/issues/6965 debate por el mal funcionamiento de eigs\n",
        "- Autovalores que deberian ser 0 son numeros negativos."
      ]
    }
  ]
}