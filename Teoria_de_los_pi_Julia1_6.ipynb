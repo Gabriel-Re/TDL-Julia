{
  "nbformat": 4,
  "nbformat_minor": 0,
  "metadata": {
    "colab": {
      "name": "Teoria de los pi- Julia1.6.ipynb",
      "provenance": [],
      "collapsed_sections": []
    },
    "kernelspec": {
      "display_name": "Julia 1.6",
      "language": "julia",
      "name": "julia-1.6"
    },
    "language_info": {
      "file_extension": ".jl",
      "mimetype": "application/julia",
      "name": "julia",
      "version": "1.6.0"
    }
  },
  "cells": [
    {
      "cell_type": "markdown",
      "metadata": {
        "id": "2d4-YqXbTprT"
      },
      "source": [
        "**Antes que nada correr esta celda para poder usar julia**"
      ]
    },
    {
      "cell_type": "code",
      "metadata": {
        "id": "PMGwZ7aFJL8Y"
      },
      "source": [
        "# Installation cell\n",
        "%%capture\n",
        "%%shell\n",
        "if ! command -v julia 3>&1 > /dev/null\n",
        "then\n",
        "    wget -q 'https://julialang-s3.julialang.org/bin/linux/x64/1.6/julia-1.6.1-linux-x86_64.tar.gz' \\\n",
        "        -O /tmp/julia.tar.gz\n",
        "    tar -x -f /tmp/julia.tar.gz -C /usr/local --strip-components 1\n",
        "    rm /tmp/julia.tar.gz\n",
        "fi\n",
        "julia -e 'using Pkg; pkg\"add IJulia; precompile;\"'\n",
        "echo 'Done'"
      ],
      "execution_count": null,
      "outputs": []
    },
    {
      "cell_type": "markdown",
      "metadata": {
        "id": "XdMpcQduyaQc"
      },
      "source": [
        "Despues de ejecutar la celda de arriba, Vamos a la barra de opciones de google colab y tocamos en **Editar** y despues en **Configuración del cuaderno** que está abajo de todo casi. Seleccionamos *Julia 1.6* en Tipo de Entorno de Ejecución. Y si queremos cambiamos el acelerador por hardware (default en GPU, les recomiendo que lo saquen). \n",
        "\n",
        "<br/>Editar y configuración\n",
        "\n",
        "> ![Colab Img](https://i.imgur.com/7XLVAMN.png)\n",
        "\n",
        "<br/>Esta es la configuración que deberian tener:\n",
        "\n",
        "> ![Colab Img](https://i.imgur.com/UasidBO.png)\n",
        "\n",
        "<br/>No se olviden de guardar.\n",
        "<br/>**Arrancamos nomas, recuerden que siempre que se reinicie el entorno o lo que sea ejecuten esto**.\n",
        "\n",
        "\n",
        "\n",
        "\n"
      ]
    },
    {
      "cell_type": "code",
      "metadata": {
        "id": "iIxu4TjlJnBG",
        "colab": {
          "base_uri": "https://localhost:8080/"
        },
        "outputId": "831d9709-348b-4039-8760-5813e03a7c17"
      },
      "source": [
        "VERSION #Para ver la version de julia"
      ],
      "execution_count": null,
      "outputs": [
        {
          "output_type": "execute_result",
          "data": {
            "text/plain": [
              "v\"1.6.1\""
            ]
          },
          "metadata": {
            "tags": []
          },
          "execution_count": 2
        }
      ]
    },
    {
      "cell_type": "markdown",
      "metadata": {
        "id": "V63hI_KnpzJ4"
      },
      "source": [
        "#Fuentes de donde se saca info para ir completando\n",
        "\n",
        "##Fuentes:\n",
        "### La de los fideos  \n",
        "![Colab Img](https://i.imgur.com/YZNNQiS.jpg)\n",
        "### La de los deseos \n",
        "![Colab Img](https://i.imgur.com/Muez4aC.jpeg)\n",
        "### Miami me lo confirmó\n",
        "![Colab Img](https://i.ytimg.com/vi/ysmSWmTkNi8/sddefault.jpg)\n",
        "\n",
        "## Mentira chinchulin ahi van los links:\n",
        "### https://introajulia.org/ -> Bastante completo el link\n",
        "### https://es.xcv.wiki/wiki/Multiple_dispatch -> Multiple_Dispatch pa los pi\n",
        "### https://julialang.org/blog/2012/02/why-we-created-julia/ -> Por qué se creo Julia (ingles)\n",
        "### https://docs.julialang.org/en/v1/ -> Documentación Julia (Ingles)\n",
        "### https://julialang.org/benchmarks/ -> Comparaciones con Julia y otros lenguajes\n",
        "### https://es.wikipedia.org/wiki/Julia_(lenguaje_de_programaci%C3%B3n) -> La vieja confiable\n",
        "### https://en.wikipedia.org/wiki/List_of_algorithms -> Lista de algoritmos \n",
        "### https://github.com/jltabara/Julia-y-las-Matematicas/blob/master/Julia01.md -> Matemática básica\n",
        "\n",
        "#Matemática\n",
        "### https://github.com/jltabara/Julia-y-las-Matematicas/blob/master/Julia01.md -> Matemática básica\n",
        "### https://joseluistabaracarbajo.gitbooks.io/julia-y-las-matematicas/content/Julia03.html -> Matrices, vectores y eso\n",
        "### https://docs.julialang.org/en/v1/stdlib/LinearAlgebra/ -> Matrices más a fondo, tipos, etc\n",
        "### https://julia-cn.readthedocs.io/es/latest/manual/arrays.html -> Vectores"
      ]
    },
    {
      "cell_type": "markdown",
      "metadata": {
        "id": "mDN_HrmYqtK2"
      },
      "source": [
        "##0.0 Cosas basicas"
      ]
    },
    {
      "cell_type": "markdown",
      "metadata": {
        "id": "o8XnXi71qyxo"
      },
      "source": [
        "**Palabras reservadas en Julia**\n",
        "\n",
        "![Colab Img](https://i.imgur.com/l0KZQ4n.png)\n",
        "\n",
        "**Operadores aritmeticos**\n",
        "\n",
        "    Suma:\n",
        "    4 + 4 = 8\n",
        "\n",
        "    Resta:\n",
        "    4 - 2 = 2\n",
        "\n",
        "    Multiplicación:\n",
        "    4 * 4 = 16\n",
        "\n",
        "    División:\n",
        "    8/2 = 4\n",
        "\n",
        "    Potencia:\n",
        "    4^4 = 16\n",
        "\n",
        "    Con strings:\n",
        "\n",
        "    primer_str = \"auto\"\n",
        "    segundo_str = \"móvil\"\n",
        "\n",
        "    primer_str * segundo_str = automóvil\n",
        "\n",
        "    \"Spam\"^3 = SpamSpamSpam\n",
        "\n",
        "    Recordar que el orden de las operaciones es el siguiente:\n",
        "    * Parentesis\n",
        "    * Potenciación\n",
        "    * Multiplicación y División\n",
        "    * Suma resta etc (de izq a der)\n",
        "\n",
        "**Tipos de datos**\n",
        "\n",
        "Los enteros pertenecen al tipo **Int64**, las cadenas pertenecen a **String** y los números de punto flotante pertenecen a **Float64**.\n",
        "\n",
        "    4 = Int64\n",
        "\n",
        "    42.0 = Float64\n",
        "\n",
        "    \"Hola mundo\" = String\n",
        "\n",
        "    \"42\" = String\n",
        "\n",
        "**Vectores y matrices**\n",
        "\n",
        "A continuación se enlista información que se suele usar frecuentemente, para más información se puede ingresar a https://docs.julialang.org/en/v1/stdlib/LinearAlgebra/ donde se encuentra documentada la biblioteca LinearAlgebra.\n",
        "\n",
        "Definición de vector:\n",
        "\n",
        "    v = [1 2 3]\n",
        "\n",
        "Definición de matríz 2x3:\n",
        "\n",
        "    A = [1 2 3 ; 4 5 6] \n",
        "\n",
        "Como se puede observar la creación tanto de un vector como de una matríz es la misma, lo que los diferencia es la dimensión defilas delimitada por ' ; '.\n",
        "\n",
        "**Operaciones básicas**    \n",
        "  \n",
        "    u = [2 4 5]\n",
        "    v = [1 2 3]\n",
        "    \n",
        "    * u * v\n",
        "    * u / v\n",
        "    * u + v\n",
        "    * u - v\n",
        "\n",
        "    A = [1 2 3 ; 4 5 6 ; 7 8 9]\n",
        "    B = [2 4 6 ; 1 2 3 ; 3 4 5]\n",
        "\n",
        "    * A * B \n",
        "    * A / B\n",
        "    * A + B\n",
        "    * A - B\n",
        "    \n",
        "    * Tener en cuenta que se suele usar como norma el punto (.) antes del operador, en algunos casos no es necesario. Por ejemplo, ' .* ' ó ' ./ '.\n",
        "\n",
        "**Operaciones particulares**\n",
        "    \n",
        " Importante incluir la biblioteca LinearAlgebra\n",
        "\n",
        "    using LinearAlgebra \n",
        "\n",
        "    A = [1 2 3 ; 4 5 6 ; 7 8 9 ]\n",
        "    \n",
        "    * eigvals(A)  -> autovalores de A\n",
        "    * eigvecs(A)  -> autovectoes de A\n",
        "    * Diagonal(A) -> diagonal de A\n",
        "    * det(A)      -> determinante de A\n",
        "    * inv(A)      -> inversa de A\n",
        "    * trace(A)    -> traza de A\n",
        "    * rank(A)     -> rango de A\n",
        "    * svd(A)      -> descomposición en valores singulares de A\n",
        "    \n",
        "    u = [1 2 3]    v = [4 5 6]\n",
        "\n",
        "    * dot(u, v)      -> producto interno entre u y v\n",
        "    * cross(u, v)    -> producto vectorial entre u y v\n",
        "    * sum(u)         -> suma de elementos en u\n",
        "    * prod(u)        -> producto de todos los elementos\n",
        "    * maximum(u)     -> maximo elemento del vector\n",
        "    * minimum(u)     -> minimo elemento del vector\n",
        "\n",
        "**Indexación**\n",
        "\n",
        "    v = [1 8 3 7 5 6]\n",
        "    \n",
        "    v[1] = 1\n",
        "    v[end] = 6\n",
        "    v[[1,4]] = [1 7]\n",
        "    v[1:4] = [1 8 3 7]\n",
        "    v[1:2:end] = [1 8 6]\n",
        "\n",
        "    A = [1 2 3 ; 4 5 6 ; 7 8 9]\n",
        "    \n",
        "    A[1,1] = 1\n",
        "    A[:,1] = [1 4 7] \n",
        "    A[1,:] = [1 2 3] \n",
        "\n",
        "\n",
        "**Expresiones booleanas**\n",
        "\n",
        "    5 == 5 = true\n",
        "\n",
        "    5 == 6 = false\n",
        "\n",
        "    Operadores relacionales:\n",
        "\n",
        "    * == \n",
        "    * !=\n",
        "    * >=\n",
        "    * <=\n",
        "\n",
        "    Operadores Logicos: \n",
        "\n",
        "    * &&\n",
        "    * ||\n",
        "    * !\n",
        "\n",
        "**Condicionales**\n",
        "\n",
        "    *(1)\n",
        "    if x > 0\n",
        "      println(\"Es positivo como el covid\")\n",
        "    end\n",
        "\n",
        "    *(2)\n",
        "    if x > 2\n",
        "      algo()\n",
        "    else \n",
        "      algo2()  \n",
        "    end\n",
        "\n",
        "    *(3)\n",
        "    if alternativa == \"a\"\n",
        "      dibujar_a()\n",
        "    elseif alternativa == \"b\"\n",
        "      dibujar_b()\n",
        "    elseif alternativa == \"c\"\n",
        "      dibujar_c()\n",
        "    end\n",
        "\n",
        "    (4)\n",
        "\n",
        "    if x > 2 && x < 20\n",
        "      if x == 4\n",
        "        hacer algo\n",
        "      end\n",
        "    end\n",
        "\n",
        "**Especificar un tipo de dato**\n",
        "\n",
        "Para especificar un tipo de dato esperado o usar un tipo de dato especifico se usan los \"::\" dos puntitos seguido al tipo de dato\n",
        "\n",
        "**Definir un struct** \n",
        "\n",
        "    struct Nombre\n",
        "      Wea::Tipo_de_dato\n",
        "      wea_2::Tipo_de_dato_2\n",
        "    end\n",
        "\n",
        "**Warning**\n",
        "\n",
        "**ESTA DECLARACION ES INMUTABLE** (nos tira error diciendo que no puede ser cambiado, que es inmutable)\n",
        "\n",
        "**Fin del Warning**\n",
        "\n",
        "**Para declarar un struct mutable se realiza de la siguiente manera**\n",
        "\n",
        "    mutable struct Nombre\n",
        "      Wea::Tipo_de_dato\n",
        "      wea_2::Tipo_de_dato_2\n",
        "    end\n",
        "\n",
        "\n",
        "**Para acceder a un atributo/campo/loquesea**\n",
        "\n",
        "    nombre_del_struct.campo\n",
        "\n",
        "**Definir una función**\n",
        "    # Si se crea algo dentro de esto es local!!!\n",
        "    function imprimirletras(párametros)\n",
        "      println(\"La concha de tu madre\")\n",
        "      println(\"AllBoys\")\n",
        "    end\n",
        "\n",
        "**Recursividad**\n",
        "\n",
        "    function cuentaregresiva(n)\n",
        "        if n <= 0\n",
        "            println(\"Despegue!\")\n",
        "        else\n",
        "            print(n, \" \")\n",
        "            cuentaregresiva(n-1)\n",
        "        end\n",
        "    end\n",
        "\n",
        "**Definir un método**\n",
        "\n",
        "    begin\n",
        "      nombre(parametros)\n",
        "    end\n",
        "\n",
        "**Errores**\n",
        "\n",
        "Si se produce un **error durante una llamada a función**, Julia imprime el nombre de la función, el nombre de la función que la llamó, el nombre de la función que a su vez llamó a esta otra, y así sucesivamente hasta llegar a la función de más alto nivel Main.\n",
        "\n",
        "En caso de ser una funcion recursiva que nunca para de llamarse a si misma hace una referencia a stackoverflowerror.\n"
      ]
    },
    {
      "cell_type": "markdown",
      "metadata": {
        "id": "tREkl58MtqsW"
      },
      "source": [
        "###0.1 Aplicando lo visto"
      ]
    },
    {
      "cell_type": "markdown",
      "metadata": {
        "id": "NUbvVI59t3x3"
      },
      "source": [
        "#### 0.1.1 Ejemplo struct\n",
        "\n",
        "\n"
      ]
    },
    {
      "cell_type": "code",
      "metadata": {
        "id": "5-8eKJGbtqDn"
      },
      "source": [
        "struct Persona\n",
        "  altura::Float64\n",
        "  peso::Float64\n",
        "end"
      ],
      "execution_count": null,
      "outputs": []
    },
    {
      "cell_type": "code",
      "metadata": {
        "colab": {
          "base_uri": "https://localhost:8080/"
        },
        "id": "sAeA8R-2uhM8",
        "outputId": "3e843c68-e3ab-4f94-d054-eff0b9a6a6a4"
      },
      "source": [
        "Elfo = Persona(1.80,74)"
      ],
      "execution_count": null,
      "outputs": [
        {
          "output_type": "execute_result",
          "data": {
            "text/plain": [
              "Persona(1.8, 74.0)"
            ]
          },
          "metadata": {
            "tags": []
          },
          "execution_count": 2
        }
      ]
    },
    {
      "cell_type": "code",
      "metadata": {
        "colab": {
          "base_uri": "https://localhost:8080/"
        },
        "id": "W9vJzMFcurqo",
        "outputId": "6734064e-e266-4855-b6a7-308e41f865b0"
      },
      "source": [
        "Elfo isa Persona #El elfo realmente es una persona?"
      ],
      "execution_count": null,
      "outputs": [
        {
          "output_type": "execute_result",
          "data": {
            "text/plain": [
              "true"
            ]
          },
          "metadata": {
            "tags": []
          },
          "execution_count": 3
        }
      ]
    },
    {
      "cell_type": "code",
      "metadata": {
        "colab": {
          "base_uri": "https://localhost:8080/"
        },
        "id": "bgX7WGIhux7Y",
        "outputId": "f521b6b4-8e96-4f6d-cbd9-0b278d948167"
      },
      "source": [
        "typeof(Elfo) #Confirmamos, es una persona"
      ],
      "execution_count": null,
      "outputs": [
        {
          "output_type": "execute_result",
          "data": {
            "text/plain": [
              "Persona"
            ]
          },
          "metadata": {
            "tags": []
          },
          "execution_count": 4
        }
      ]
    },
    {
      "cell_type": "code",
      "metadata": {
        "colab": {
          "base_uri": "https://localhost:8080/"
        },
        "id": "C8ucYdFkunpz",
        "outputId": "2742baee-4411-47f6-a23a-ca94062ea96a"
      },
      "source": [
        "Elfo.altura"
      ],
      "execution_count": null,
      "outputs": [
        {
          "output_type": "execute_result",
          "data": {
            "text/plain": [
              "1.8"
            ]
          },
          "metadata": {
            "tags": []
          },
          "execution_count": 5
        }
      ]
    },
    {
      "cell_type": "code",
      "metadata": {
        "colab": {
          "base_uri": "https://localhost:8080/"
        },
        "id": "3U7jPLD1upYo",
        "outputId": "664fd0ee-a9da-41ed-c451-6f7a80a821f7"
      },
      "source": [
        "Elfo.peso"
      ],
      "execution_count": null,
      "outputs": [
        {
          "output_type": "execute_result",
          "data": {
            "text/plain": [
              "74.0"
            ]
          },
          "metadata": {
            "tags": []
          },
          "execution_count": 6
        }
      ]
    },
    {
      "cell_type": "markdown",
      "metadata": {
        "id": "B-acDgqtt-9d"
      },
      "source": [
        "#### 0.1.2 Ejemplo de funcion"
      ]
    },
    {
      "cell_type": "code",
      "metadata": {
        "colab": {
          "base_uri": "https://localhost:8080/"
        },
        "id": "WSpREkHQw3SD",
        "outputId": "477297bd-6627-4d67-b126-28e680247836"
      },
      "source": [
        "begin\n",
        "  alturaPorPeso(alguien::Persona) = alguien.altura * alguien.peso\n",
        "end"
      ],
      "execution_count": null,
      "outputs": [
        {
          "output_type": "execute_result",
          "data": {
            "text/plain": [
              "alturaPorPeso (generic function with 1 method)"
            ]
          },
          "metadata": {
            "tags": []
          },
          "execution_count": 7
        }
      ]
    },
    {
      "cell_type": "code",
      "metadata": {
        "colab": {
          "base_uri": "https://localhost:8080/"
        },
        "id": "5j44byul2wfh",
        "outputId": "e03c7e14-9530-4d29-b7bd-dd47a2326a56"
      },
      "source": [
        "alturaPorPeso_del_elfo = alturaPorPeso(Elfo)"
      ],
      "execution_count": null,
      "outputs": [
        {
          "output_type": "execute_result",
          "data": {
            "text/plain": [
              "133.20000000000002"
            ]
          },
          "metadata": {
            "tags": []
          },
          "execution_count": 8
        }
      ]
    },
    {
      "cell_type": "code",
      "metadata": {
        "colab": {
          "base_uri": "https://localhost:8080/"
        },
        "id": "YExAKsAfg9MQ",
        "outputId": "e2d60b88-98d4-49d0-d237-ec82d3d177ae"
      },
      "source": [
        "if alturaPorPeso_del_elfo >= 3\n",
        "  println(\"Tas pesadito pa\")\n",
        "end"
      ],
      "execution_count": null,
      "outputs": [
        {
          "output_type": "stream",
          "text": [
            "Tas pesadito pa\n"
          ],
          "name": "stdout"
        }
      ]
    },
    {
      "cell_type": "markdown",
      "metadata": {
        "id": "kbbWv84xGLAp"
      },
      "source": [
        "#### 0.1.3 Otro ejemplo completo"
      ]
    },
    {
      "cell_type": "code",
      "metadata": {
        "id": "ExDnwwCzGVqI"
      },
      "source": [
        "#Definimos el struct\n",
        "struct Rectangle\n",
        "  width::Float64\n",
        "  height::Float64\n",
        "end"
      ],
      "execution_count": null,
      "outputs": []
    },
    {
      "cell_type": "code",
      "metadata": {
        "colab": {
          "base_uri": "https://localhost:8080/"
        },
        "id": "2EUItA3rGWWU",
        "outputId": "c085ce96-eabc-48f5-e45f-713d0cdabd80"
      },
      "source": [
        "#Ejemplito cortito y al pie\n",
        "#Funcion especifica y generica de Area\n",
        "\n",
        "begin\n",
        "  area(r::Rectangle) = r.width * r.height # r::Rectangle significa que recibe un objeto si o si que es de tipo rectangulo y que tiene esos 2 campos (Esta es la funcion especifica que recibe si o si un rectangulo)\n",
        "  area(x) = x #(funcion generica que recibe cualquier pito) Funciona para cualquier tipo excepto para los rectangulos, que ya tiene una función especifica\n",
        "end"
      ],
      "execution_count": null,
      "outputs": [
        {
          "output_type": "execute_result",
          "data": {
            "text/plain": [
              "area (generic function with 2 methods)"
            ]
          },
          "metadata": {
            "tags": []
          },
          "execution_count": 11
        }
      ]
    },
    {
      "cell_type": "markdown",
      "metadata": {
        "id": "wXA_nZHWGYp1"
      },
      "source": [
        "**Aclaración importante** Es necesario definir todos los métodos del mismo tipo dentro de ese begin y end (Por lo menos en esta versión de Julia, según lo que dicen en un video del año pasado, no lo testié)"
      ]
    },
    {
      "cell_type": "code",
      "metadata": {
        "colab": {
          "base_uri": "https://localhost:8080/"
        },
        "id": "4Lbh5ts7GZ5M",
        "outputId": "e3789aaf-e824-4afd-d971-7c5065a4f5b9"
      },
      "source": [
        "#Ejemplito de como es la wea\n",
        "r = Rectangle(1.0,2.5)"
      ],
      "execution_count": null,
      "outputs": [
        {
          "output_type": "execute_result",
          "data": {
            "text/plain": [
              "Rectangle(1.0, 2.5)"
            ]
          },
          "metadata": {
            "tags": []
          },
          "execution_count": 12
        }
      ]
    },
    {
      "cell_type": "code",
      "metadata": {
        "colab": {
          "base_uri": "https://localhost:8080/"
        },
        "id": "-diu2TzCGbEA",
        "outputId": "f8f7d653-d587-4e0b-c4a4-ab8a4fc66446"
      },
      "source": [
        "area(r)"
      ],
      "execution_count": null,
      "outputs": [
        {
          "output_type": "execute_result",
          "data": {
            "text/plain": [
              "2.5"
            ]
          },
          "metadata": {
            "tags": []
          },
          "execution_count": 13
        }
      ]
    },
    {
      "cell_type": "code",
      "metadata": {
        "colab": {
          "base_uri": "https://localhost:8080/"
        },
        "id": "BDqiiWlhGcMQ",
        "outputId": "695f89bb-6ad9-461d-b22d-02c94af33640"
      },
      "source": [
        "pingo = 1\n",
        "area(pingo)"
      ],
      "execution_count": null,
      "outputs": [
        {
          "output_type": "execute_result",
          "data": {
            "text/plain": [
              "1"
            ]
          },
          "metadata": {
            "tags": []
          },
          "execution_count": 14
        }
      ]
    },
    {
      "cell_type": "code",
      "metadata": {
        "colab": {
          "base_uri": "https://localhost:8080/"
        },
        "id": "IPzMT2nZGdXT",
        "outputId": "e877acde-4bf1-44aa-b65d-dffa9ca6fc8f"
      },
      "source": [
        "area #Dice cuantas funciones tiene definidas"
      ],
      "execution_count": null,
      "outputs": [
        {
          "output_type": "execute_result",
          "data": {
            "text/plain": [
              "area (generic function with 2 methods)"
            ]
          },
          "metadata": {
            "tags": []
          },
          "execution_count": 15
        }
      ]
    },
    {
      "cell_type": "code",
      "metadata": {
        "colab": {
          "base_uri": "https://localhost:8080/"
        },
        "id": "Y5OWqebSQLdO",
        "outputId": "95933edd-e5f9-4daf-e110-748d1a62fad7"
      },
      "source": [
        "function imprimircuadricula()\n",
        "  println(\"+ - - - - + - - - - +\")\n",
        "  println(\"|         |         |\")\n",
        "  println(\"|         |         |\")\n",
        "  println(\"|         |         |\")\n",
        "  println(\"|         |         |\")\n",
        "  println(\"+ - - - - + - - - - +\")\n",
        "  println(\"|         |         |\")\n",
        "  println(\"|         |         |\")\n",
        "  println(\"|         |         |\")\n",
        "  println(\"|         |         |\")\n",
        "  println(\"+ - - - - + - - - - +\")\n",
        "end"
      ],
      "execution_count": null,
      "outputs": [
        {
          "output_type": "execute_result",
          "data": {
            "text/plain": [
              "imprimircuadricula (generic function with 1 method)"
            ]
          },
          "metadata": {
            "tags": []
          },
          "execution_count": 16
        }
      ]
    },
    {
      "cell_type": "code",
      "metadata": {
        "colab": {
          "base_uri": "https://localhost:8080/"
        },
        "id": "Y4dWF_zzQNuM",
        "outputId": "5b97bc1d-dbd6-4995-b8da-dca41a12f3e2"
      },
      "source": [
        "imprimircuadricula()"
      ],
      "execution_count": null,
      "outputs": [
        {
          "output_type": "stream",
          "text": [
            "+ - - - - + - - - - +\n",
            "|         |         |\n",
            "|         |         |\n",
            "|         |         |\n",
            "|         |         |\n",
            "+ - - - - + - - - - +\n",
            "|         |         |\n",
            "|         |         |\n",
            "|         |         |\n",
            "|         |         |\n",
            "+ - - - - + - - - - +\n"
          ],
          "name": "stdout"
        }
      ]
    },
    {
      "cell_type": "markdown",
      "metadata": {
        "id": "DwRrg0NFp1_g"
      },
      "source": [
        "##1.0 ¿Por qué Julia?"
      ]
    },
    {
      "cell_type": "markdown",
      "metadata": {
        "id": "Y63msKu1p33g"
      },
      "source": [
        "Julia fue lanzado originalmente en 2012 por Alan Edelman, Stefan Karpinski, Jeff Bezanson y Viral Shah. Es un lenguaje de programación gratuito y de código abierto.\n",
        "\n",
        "La elección de un lenguaje de programación es siempre subjetiva. Para mí, las siguientes características de Julia son decisivas:\n",
        "\n",
        "- Julia está desarrollado como un lenguaje de programación de alto rendimiento.\n",
        "\n",
        "- Julia usa envío múltiple (**“multiple dispatch”** **(1.1)** en inglés), que le permite al programador elegir entre diferentes patrones de programación de acuerdo a la aplicación.\n",
        "\n",
        "- Julia es un lenguaje de tipo dinámico que se puede usar fácilmente de forma interactiva.\n",
        "\n",
        "- Julia tiene una sintaxis de alto nivel que es fácil de aprender.\n",
        "\n",
        "- Julia es un lenguaje de programación con tipos opcionales, cuyos tipos de datos (definidos por el usuario) hacen que el código sea claro y robusto.\n",
        "\n",
        "- Julia tiene una biblioteca estándar extendida, además, están disponibles numerosos paquetes de terceros.\n",
        "\n",
        "Julia es un lenguaje de programación único, ya que resuelve el problema de los dos idiomas. No se necesita de ningún otro lenguaje de programación para escribir código de alto rendimiento. Esto no significa que ocurra automáticamente. Es responsabilidad del programador optimizar el código que genere cuellos de botella, aunque esto puede hacerse directamente en Julia."
      ]
    },
    {
      "cell_type": "markdown",
      "metadata": {
        "id": "3fmY5q1RwhNY"
      },
      "source": [
        "## 1.1 Multiple dispatch\n"
      ]
    },
    {
      "cell_type": "markdown",
      "metadata": {
        "id": "08v1oBT-wkdB"
      },
      "source": [
        "Es un concepto muy importante en Julia. Ahora ¿Que pingo significa esto ura?. Ya te explico chango, la cosa es así.\n",
        "\n",
        "Nosotros cuando hablamos de un envio simple estamos hablando de un proceso en donde elegimos un método diferente o versión de una función dependiendo del tipo de entrada\n",
        "\n",
        "Y el envio multiple (*Multiple dispatch*) significa que miramos todos los tipos de entrada para todos los argumentos de la función para elegir que método o versión vamos a llamar"
      ]
    },
    {
      "cell_type": "code",
      "metadata": {
        "colab": {
          "base_uri": "https://localhost:8080/"
        },
        "id": "m4x1ALbDD3Td",
        "outputId": "f1ed5101-b37c-4d6c-a8a6-c747fae22824"
      },
      "source": [
        "#Defino un numero complejo\n",
        "cc = 3 +4im #Para definir un imaginario se pone im dsp del num"
      ],
      "execution_count": null,
      "outputs": [
        {
          "output_type": "execute_result",
          "data": {
            "text/plain": [
              "3 + 4im"
            ]
          },
          "metadata": {
            "tags": []
          },
          "execution_count": 1
        }
      ]
    },
    {
      "cell_type": "code",
      "metadata": {
        "colab": {
          "base_uri": "https://localhost:8080/",
          "height": 34
        },
        "id": "iGxqcxucE3lr",
        "outputId": "4bfe3058-1082-4dd7-f49c-f1a66ffe56f2"
      },
      "source": [
        "#Para poder ver que es lo que realmente hace Julia voy a usar un macro\n",
        "@which cc + cc"
      ],
      "execution_count": null,
      "outputs": [
        {
          "output_type": "execute_result",
          "data": {
            "text/html": [
              "+(z::<b>Complex</b>, w::<b>Complex</b>) in Base at <a href=\"https://github.com/JuliaLang/julia/tree/6aaedecc447e3d8226d5027fb13d0c3cbfbfea2a/base/complex.jl#L275\" target=\"_blank\">complex.jl:275</a>"
            ],
            "text/plain": [
              "+(z::Complex, w::Complex) in Base at complex.jl:275"
            ]
          },
          "metadata": {
            "tags": []
          },
          "execution_count": 4
        }
      ]
    },
    {
      "cell_type": "markdown",
      "metadata": {
        "id": "qL-MCIj9FsHd"
      },
      "source": [
        "Lo que me dice lo de arriba es que se usa un método que recibe dos numeros complejos y los suma.\n",
        "\n",
        "Ahora vamos a ver que pasa si sumamos un numero real"
      ]
    },
    {
      "cell_type": "code",
      "metadata": {
        "colab": {
          "base_uri": "https://localhost:8080/",
          "height": 34
        },
        "id": "Rnkqa5rMGA_L",
        "outputId": "c83e958e-8f41-4f12-c8f0-2f10401fcd03"
      },
      "source": [
        "@which cc + 4 #como se pone tu hermana"
      ],
      "execution_count": null,
      "outputs": [
        {
          "output_type": "execute_result",
          "data": {
            "text/html": [
              "+(z::<b>Complex</b>, x::<b>Real</b>) in Base at <a href=\"https://github.com/JuliaLang/julia/tree/6aaedecc447e3d8226d5027fb13d0c3cbfbfea2a/base/complex.jl#L313\" target=\"_blank\">complex.jl:313</a>"
            ],
            "text/plain": [
              "+(z::Complex, x::Real) in Base at complex.jl:313"
            ]
          },
          "metadata": {
            "tags": []
          },
          "execution_count": 5
        }
      ]
    },
    {
      "cell_type": "markdown",
      "metadata": {
        "id": "Pd-Ej0iUGEtV"
      },
      "source": [
        "Vemos que ahora llama a otro método, entonces esto quiere decir que entre todas las funciones definidas para la suma llama especificamente a aquellas que reciba ciertos parametros esperados"
      ]
    },
    {
      "cell_type": "code",
      "metadata": {
        "colab": {
          "base_uri": "https://localhost:8080/",
          "height": 34
        },
        "id": "VIfVAqTeGwkB",
        "outputId": "775d4385-84cd-4eaf-8659-73d179bd91f4"
      },
      "source": [
        "#Vuelvo a probar pero invirtiendo\n",
        "@which 4 + cc"
      ],
      "execution_count": null,
      "outputs": [
        {
          "output_type": "execute_result",
          "data": {
            "text/html": [
              "+(x::<b>Real</b>, z::<b>Complex</b>) in Base at <a href=\"https://github.com/JuliaLang/julia/tree/6aaedecc447e3d8226d5027fb13d0c3cbfbfea2a/base/complex.jl#L312\" target=\"_blank\">complex.jl:312</a>"
            ],
            "text/plain": [
              "+(x::Real, z::Complex) in Base at complex.jl:312"
            ]
          },
          "metadata": {
            "tags": []
          },
          "execution_count": 6
        }
      ]
    },
    {
      "cell_type": "code",
      "metadata": {
        "colab": {
          "base_uri": "https://localhost:8080/"
        },
        "id": "jZ8mk8iMG6uo",
        "outputId": "14e9f011-7c2d-477b-86e0-1763e5099121"
      },
      "source": [
        "#Quiero ver cuantos métodos de \"+\" hay\n",
        "+"
      ],
      "execution_count": null,
      "outputs": [
        {
          "output_type": "execute_result",
          "data": {
            "text/plain": [
              "+ (generic function with 190 methods)"
            ]
          },
          "metadata": {
            "tags": []
          },
          "execution_count": 7
        }
      ]
    },
    {
      "cell_type": "markdown",
      "metadata": {
        "id": "hxwOnEQvHHi7"
      },
      "source": [
        "**Nota importante**, cada vez que usamos este macro nos da un link a la implementación, tenganlo en cuenta"
      ]
    },
    {
      "cell_type": "markdown",
      "metadata": {
        "id": "wSaJIuNDWnpz"
      },
      "source": [
        "# Teoria de los pi\n",
        "## TDL 2021 1C - Julia "
      ]
    },
    {
      "cell_type": "markdown",
      "metadata": {
        "id": "Gxw6A9AQWoGK"
      },
      "source": [
        "## Historia"
      ]
    },
    {
      "cell_type": "markdown",
      "metadata": {
        "id": "pXe2tHk1LbBr"
      },
      "source": [
        "Julia se inició en el año 2009, por sus creadores Jeff Bezanson, Stefan Karpinski, Viral B. Shah y Alan Edelman quienes se propusieron crear un lenguaje libre que fuera rápido y de alto nivel.\n",
        "\n",
        "En el año 2012 el equipo explicó en su blog por qué fue creado Julia.\n",
        "\n",
        "La principal razón que dieron sus creadores del por qué de la creación del lenguaje a conocer es, \"*In short, because we are greedy*\" (En resumen, porque somos codiciosos), ya que al ser usuarios avanzados de distintos lenguajes (Matlab, C, Python, Ruby, etc) de programación orientados a distintas areas como por ejemplo: scientific computing, machine learning, data mining, álgebra lineal a gran escala, etc... Sabían que dichos lenguajes eran perfectos para ciertos aspectos del trabajo y pésimo para otros.\n",
        "\n",
        "A raíz de esto surgé la frase mencionada anteriormente, querían un lenguaje que abarque todos los aspectos positivos de los distintos lenguajes, tales como la velocidad de C, el dinamismo de Ruby, que sea homoicónico con verdaderas macros como Lisp, pero con notación matemática obvia y familiar como Matlab, que sea tan utilizable para la programación general como Python, tan fácil para las estadísticas como R, etc... \n",
        "\n",
        "Principalmente se buscaba algo que sea muy fácil de aprender, pero que tambien sea atractivo para aquellos programadores más serios. A pesar de todo lo que pueda a llegar abarcar Julia se busca principalmente que el lenguaje sea simple y claro a la hora de utilizarlo y comprender que es lo que se hace.\n",
        "\n",
        "https://julialang.org/blog/2012/02/why-we-created-julia/\n",
        "\n",
        "https://julialang.org/blog/2018/08/one-point-zero/\n"
      ]
    },
    {
      "cell_type": "markdown",
      "metadata": {
        "id": "MT7fAVLqWxdQ"
      },
      "source": [
        "##Primer programa en Julia "
      ]
    },
    {
      "cell_type": "code",
      "metadata": {
        "colab": {
          "base_uri": "https://localhost:8080/"
        },
        "id": "4JCyXXZ5WyhY",
        "outputId": "aab9f4ea-7f45-44eb-a50a-36e23d04c7fb"
      },
      "source": [
        "println(\"Hello World\")"
      ],
      "execution_count": 9,
      "outputs": [
        {
          "output_type": "stream",
          "text": [
            "Hello World\n"
          ],
          "name": "stdout"
        }
      ]
    },
    {
      "cell_type": "markdown",
      "metadata": {
        "id": "Mjy3Obt7WqAX"
      },
      "source": [
        "##Sintaxis"
      ]
    },
    {
      "cell_type": "markdown",
      "metadata": {
        "id": "xKmUv7wPWsRU"
      },
      "source": [
        "### Variables"
      ]
    },
    {
      "cell_type": "markdown",
      "metadata": {
        "id": "O7POthGuDXuH"
      },
      "source": [
        "#### Tipos de datos"
      ]
    },
    {
      "cell_type": "code",
      "metadata": {
        "colab": {
          "base_uri": "https://localhost:8080/"
        },
        "id": "FeIqh-5VC025",
        "outputId": "7633feaa-73dc-44fc-c633-b562c6d64612"
      },
      "source": [
        "Variable_int = 4\n",
        "println(Variable_int)\n",
        "println(typeof(Variable_int))"
      ],
      "execution_count": 5,
      "outputs": [
        {
          "output_type": "stream",
          "text": [
            "4\n",
            "Int64\n"
          ],
          "name": "stdout"
        }
      ]
    },
    {
      "cell_type": "code",
      "metadata": {
        "colab": {
          "base_uri": "https://localhost:8080/"
        },
        "id": "hS6FxN6lDjU6",
        "outputId": "71d4f31d-cf71-474b-9d72-8538be8f588a"
      },
      "source": [
        "Variable_float = 42.0\n",
        "println(Variable_float)\n",
        "println(typeof(Variable_float))"
      ],
      "execution_count": 6,
      "outputs": [
        {
          "output_type": "stream",
          "text": [
            "42.0\n",
            "Float64\n"
          ],
          "name": "stdout"
        }
      ]
    },
    {
      "cell_type": "code",
      "metadata": {
        "colab": {
          "base_uri": "https://localhost:8080/"
        },
        "id": "cVptEUDWDsnl",
        "outputId": "70cfac06-f8a6-4936-d796-77f413fd8f1b"
      },
      "source": [
        "Variable_String = \"Hola mundo\"\n",
        "println(Variable_String)\n",
        "println(typeof(Variable_String))"
      ],
      "execution_count": 7,
      "outputs": [
        {
          "output_type": "stream",
          "text": [
            "Hola mundo\n",
            "String\n"
          ],
          "name": "stdout"
        }
      ]
    },
    {
      "cell_type": "code",
      "metadata": {
        "colab": {
          "base_uri": "https://localhost:8080/"
        },
        "id": "grHgZDCVDvLE",
        "outputId": "bc317a01-5b47-4c9e-d603-5cc588d1d868"
      },
      "source": [
        "Otra_variable_string = \"42\"\n",
        "println(Otra_variable_string)\n",
        "println(typeof(Otra_variable_string))"
      ],
      "execution_count": 8,
      "outputs": [
        {
          "output_type": "stream",
          "text": [
            "42\n",
            "String\n"
          ],
          "name": "stdout"
        }
      ]
    },
    {
      "cell_type": "markdown",
      "metadata": {
        "id": "kTuH48WjTVpx"
      },
      "source": [
        "Julia es Case sensitive (sabe diferenciar entre mayúsculas y minúsculas)"
      ]
    },
    {
      "cell_type": "code",
      "metadata": {
        "id": "SnZ4Y2CUTVIf"
      },
      "source": [
        "#otra_variable_string\n",
        "# Debería romper, ya que no definimos es variable con minuscula"
      ],
      "execution_count": 71,
      "outputs": []
    },
    {
      "cell_type": "markdown",
      "metadata": {
        "id": "0Bq4n3q7L8km"
      },
      "source": [
        "#### Operadores aritmeticos"
      ]
    },
    {
      "cell_type": "code",
      "metadata": {
        "colab": {
          "base_uri": "https://localhost:8080/"
        },
        "id": "VmvyN6AtL86R",
        "outputId": "21a4a68e-d5f5-408b-9cf4-5c48bc4839dd"
      },
      "source": [
        "println(\"Suma:\")\n",
        "Suma = 4 + 4\n",
        "println(Suma)\n",
        "println(\"       \")\n",
        "\n",
        "println(\"Resta:\")\n",
        "Resta = 4 - 2\n",
        "println(Resta)\n",
        "println(\"       \")\n",
        "\n",
        "println(\"Multiplicación:\")\n",
        "Multiplicacion = 4 * 4\n",
        "println(Multiplicacion)\n",
        "println(\"       \")\n",
        "\n",
        "println(\"División:\")\n",
        "Division = 8/2\n",
        "println(Division)\n",
        "println(\"       \")\n",
        "\n",
        "println(\"Potencia:\")\n",
        "Potencia = 4^4\n",
        "println(Potencia)\n",
        "println(\"       \")\n",
        " \n",
        "println(\"Concatenación de strings:\")\n",
        "primer_str = \"auto\"\n",
        "segundo_str = \"móvil\"\n",
        " \n",
        "automovil = primer_str * segundo_str\n",
        "println(automovil)\n",
        "println(\"       \")\n",
        "\n",
        "String_spam = \"Spam\"^3\n",
        "println(\"Potencia de strings:\")\n",
        "println(String_spam)"
      ],
      "execution_count": 69,
      "outputs": [
        {
          "output_type": "stream",
          "text": [
            "Suma:\n",
            "8\n",
            "       \n",
            "Resta:\n",
            "2\n",
            "       \n",
            "Multiplicación:\n",
            "16\n",
            "       \n",
            "División:\n",
            "4.0\n",
            "       \n",
            "Potencia:\n",
            "256\n",
            "       \n",
            "Concatenación de strings:\n",
            "automóvil\n",
            "       \n",
            "Potencia de strings:\n",
            "SpamSpamSpam\n"
          ],
          "name": "stdout"
        }
      ]
    },
    {
      "cell_type": "markdown",
      "metadata": {
        "id": "ngbIySgvMSG6"
      },
      "source": [
        "Recordar que el orden de las operaciones es el siguiente:\n",
        "* Parentesis\n",
        "* Potenciación\n",
        "* Multiplicación y División\n",
        "* Suma resta etc (de izq a der)"
      ]
    },
    {
      "cell_type": "markdown",
      "metadata": {
        "id": "DE-wH3-YGP4_"
      },
      "source": [
        "#### Vectores y matrices"
      ]
    },
    {
      "cell_type": "markdown",
      "metadata": {
        "id": "qJfjdC5aGgbR"
      },
      "source": [
        "Definición de un **vector**"
      ]
    },
    {
      "cell_type": "code",
      "metadata": {
        "colab": {
          "base_uri": "https://localhost:8080/"
        },
        "id": "f5Y4c_rhGeE6",
        "outputId": "cc014051-7060-4c79-b1cf-775543fbc074"
      },
      "source": [
        "Un_vector = [1, 2, 3]\n",
        "println(Un_vector)\n",
        "println(typeof(Un_vector))"
      ],
      "execution_count": 13,
      "outputs": [
        {
          "output_type": "stream",
          "text": [
            "[1, 2, 3]\n",
            "Vector{Int64}\n"
          ],
          "name": "stdout"
        }
      ]
    },
    {
      "cell_type": "markdown",
      "metadata": {
        "id": "xJqYjxxQGsn_"
      },
      "source": [
        "Puede ser un vector de distintos tipos de datos y el vector se define como si no fuera de un tipo de dato especifico."
      ]
    },
    {
      "cell_type": "code",
      "metadata": {
        "colab": {
          "base_uri": "https://localhost:8080/"
        },
        "id": "K-86tQDRGuJe",
        "outputId": "df2cfd18-7098-49c1-88bb-35fc99460c01"
      },
      "source": [
        "Otro_vector = [1, 2.0, \"3\"]\n",
        "println(Otro_vector)\n",
        "println(typeof(Otro_vector))"
      ],
      "execution_count": 15,
      "outputs": [
        {
          "output_type": "stream",
          "text": [
            "Any[1, 2.0, \"3\"]\n",
            "Vector{Any}\n"
          ],
          "name": "stdout"
        }
      ]
    },
    {
      "cell_type": "markdown",
      "metadata": {
        "id": "szhKsFTBIcWh"
      },
      "source": [
        "Definición de **matríz 2x3** de enteros"
      ]
    },
    {
      "cell_type": "code",
      "metadata": {
        "colab": {
          "base_uri": "https://localhost:8080/"
        },
        "id": "-c3H1quiGiId",
        "outputId": "3cb8d613-408f-4ad3-bb7c-9cffca253259"
      },
      "source": [
        "Una_matrix = [1 2 3 ; 4 5 6] \n",
        "Una_matrix"
      ],
      "execution_count": 22,
      "outputs": [
        {
          "output_type": "execute_result",
          "data": {
            "text/plain": [
              "2×3 Matrix{Int64}:\n",
              " 1  2  3\n",
              " 4  5  6"
            ]
          },
          "metadata": {
            "tags": []
          },
          "execution_count": 22
        }
      ]
    },
    {
      "cell_type": "markdown",
      "metadata": {
        "id": "zuq0RpweJG9Z"
      },
      "source": [
        "**Operaciones básicas**    "
      ]
    },
    {
      "cell_type": "code",
      "metadata": {
        "colab": {
          "base_uri": "https://localhost:8080/"
        },
        "id": "1M85sc_3JGgF",
        "outputId": "6342222e-3731-4d6b-fd80-4a7bc9188e12"
      },
      "source": [
        "u = [2, 4, 5]\n",
        "v = [1, 2, 3]\n",
        "    \n",
        "println(\"Suma de vectores:\")\n",
        "println(u + v)\n",
        "println(\"Resta de vectores:\")\n",
        "println(u - v)\n",
        "println(\"Multiplicación de vectores:\")\n",
        "println(transpose(u) * v)\n",
        "println(\"División de vectores:\")\n",
        "println(u / v)"
      ],
      "execution_count": 56,
      "outputs": [
        {
          "output_type": "stream",
          "text": [
            "Suma de vectores:\n",
            "[3, 6, 8]\n",
            "Resta de vectores:\n",
            "[1, 2, 2]\n",
            "Multiplicación de vectores:\n",
            "25\n",
            "División de vectores:\n",
            "[0.14285714285714285 0.2857142857142857 0.42857142857142855; 0.2857142857142857 0.5714285714285714 0.8571428571428571; 0.3571428571428571 0.7142857142857142 1.0714285714285714]\n"
          ],
          "name": "stdout"
        }
      ]
    },
    {
      "cell_type": "markdown",
      "metadata": {
        "id": "arV_KY0FMrby"
      },
      "source": [
        "* Tener en cuenta que se suele usar como norma el punto (.) antes del operador, en algunos casos no es necesario. Por ejemplo, ' .* ' ó ' ./ '."
      ]
    },
    {
      "cell_type": "code",
      "metadata": {
        "colab": {
          "base_uri": "https://localhost:8080/"
        },
        "id": "_tM7O1imJvIm",
        "outputId": "3def37e9-7e55-4b1b-be77-233a19d1161c"
      },
      "source": [
        "A = [1 2 3 ; 4 5 6 ; 7 8 9]\n",
        "B = [1 2 3 ; 4 5 6 ; 7 8 9]\n",
        "\n",
        "println(\"Suma de Matrices:\")\n",
        "println(A + B)\n",
        "println(\"Resta de Matrices:\")\n",
        "println(A - B)\n",
        "println(\"Multiplicación de Matrices:\")\n",
        "println(A * B)\n",
        "println(\"División de Matrices:\")\n",
        "println(A ./ B)"
      ],
      "execution_count": 58,
      "outputs": [
        {
          "output_type": "stream",
          "text": [
            "Suma de Matrices:\n",
            "[2 4 6; 8 10 12; 14 16 18]\n",
            "Resta de Matrices:\n",
            "[0 0 0; 0 0 0; 0 0 0]\n",
            "Multiplicación de Matrices:\n",
            "[30 36 42; 66 81 96; 102 126 150]\n",
            "División de Matrices:\n",
            "[1.0 1.0 1.0; 1.0 1.0 1.0; 1.0 1.0 1.0]\n"
          ],
          "name": "stdout"
        }
      ]
    },
    {
      "cell_type": "markdown",
      "metadata": {
        "id": "IT1JnrMTWteI"
      },
      "source": [
        "### Estructura de datos"
      ]
    },
    {
      "cell_type": "markdown",
      "metadata": {
        "id": "3yrsTOliVPbo"
      },
      "source": [
        "despues de to la wea vamo a hacer como definir funciones, recursividad, que pasa cuando redefinis una funcion (pi)"
      ]
    },
    {
      "cell_type": "markdown",
      "metadata": {
        "id": "zed6J6WYWurp"
      },
      "source": [
        "## Semantica"
      ]
    }
  ]
}