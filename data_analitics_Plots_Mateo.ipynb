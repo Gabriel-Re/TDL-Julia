{
  "nbformat": 4,
  "nbformat_minor": 0,
  "metadata": {
    "colab": {
      "name": "data_analitics_Plots_Mateo",
      "provenance": [],
      "collapsed_sections": [
        "MT7fAVLqWxdQ"
      ]
    },
    "kernelspec": {
      "display_name": "Julia 1.6",
      "language": "julia",
      "name": "julia-1.6"
    },
    "language_info": {
      "file_extension": ".jl",
      "mimetype": "application/julia",
      "name": "julia",
      "version": "1.6.0"
    }
  },
  "cells": [
    {
      "cell_type": "markdown",
      "metadata": {
        "id": "2d4-YqXbTprT"
      },
      "source": [
        "**Antes que nada correr esta celda para poder usar julia**"
      ]
    },
    {
      "cell_type": "code",
      "metadata": {
        "id": "PMGwZ7aFJL8Y"
      },
      "source": [
        "# Installation cell\n",
        "%%capture\n",
        "%%shell\n",
        "if ! command -v julia 3>&1 > /dev/null\n",
        "then\n",
        "    wget -q 'https://julialang-s3.julialang.org/bin/linux/x64/1.6/julia-1.6.1-linux-x86_64.tar.gz' \\\n",
        "        -O /tmp/julia.tar.gz\n",
        "    tar -x -f /tmp/julia.tar.gz -C /usr/local --strip-components 1\n",
        "    rm /tmp/julia.tar.gz\n",
        "fi\n",
        "julia -e 'using Pkg; pkg\"add IJulia; precompile;\"'\n",
        "echo 'Done'"
      ],
      "execution_count": 1,
      "outputs": []
    },
    {
      "cell_type": "markdown",
      "metadata": {
        "id": "XdMpcQduyaQc"
      },
      "source": [
        "Despues de ejecutar la celda de arriba, Vamos a la barra de opciones de google colab y tocamos en **Editar** y despues en **Configuración del cuaderno** que está abajo de todo casi. Seleccionamos *Julia 1.6* en Tipo de Entorno de Ejecución. Y si queremos cambiamos el acelerador por hardware (default en GPU, les recomiendo que lo saquen). \n",
        "\n",
        "<br/>Editar y configuración\n",
        "\n",
        "> ![Colab Img](https://i.imgur.com/7XLVAMN.png)\n",
        "\n",
        "<br/>Esta es la configuración que deberian tener:\n",
        "\n",
        "> ![Colab Img](https://i.imgur.com/UasidBO.png)\n",
        "\n",
        "<br/>No se olviden de guardar.\n",
        "<br/>**Arrancamos nomas, recuerden que siempre que se reinicie el entorno o lo que sea ejecuten esto**.\n",
        "\n",
        "\n",
        "\n",
        "\n"
      ]
    },
    {
      "cell_type": "markdown",
      "metadata": {
        "id": "75E3SrtCBOiw"
      },
      "source": [
        ""
      ]
    },
    {
      "cell_type": "code",
      "metadata": {
        "colab": {
          "base_uri": "https://localhost:8080/"
        },
        "id": "iIxu4TjlJnBG",
        "outputId": "983f73bf-8f03-4520-f777-f55a2c930504"
      },
      "source": [
        "VERSION #Para ver la version de julia"
      ],
      "execution_count": 1,
      "outputs": [
        {
          "output_type": "execute_result",
          "data": {
            "text/plain": [
              "v\"1.6.1\""
            ]
          },
          "metadata": {
            "tags": []
          },
          "execution_count": 1
        }
      ]
    },
    {
      "cell_type": "markdown",
      "metadata": {
        "id": "bZ4N3lKG_enX"
      },
      "source": [
        "Data"
      ]
    },
    {
      "cell_type": "markdown",
      "metadata": {
        "id": "RkM-upqw_gue"
      },
      "source": [
        ""
      ]
    },
    {
      "cell_type": "code",
      "metadata": {
        "colab": {
          "base_uri": "https://localhost:8080/"
        },
        "id": "2lNfADNw_kZs",
        "outputId": "62fd7ff2-a4ae-4b3c-88ea-99fd14150053"
      },
      "source": [
        "println(\"Prueba\")"
      ],
      "execution_count": null,
      "outputs": [
        {
          "output_type": "stream",
          "text": [
            "Prueba\n"
          ],
          "name": "stdout"
        }
      ]
    },
    {
      "cell_type": "code",
      "metadata": {
        "id": "WlBh9aQnDk4p"
      },
      "source": [
        "import Pkg\n",
        "Pkg.add(\"CSV\")\n",
        "using CSV"
      ],
      "execution_count": 2,
      "outputs": []
    },
    {
      "cell_type": "code",
      "metadata": {
        "id": "Bfeb8RnWxUte"
      },
      "source": [
        "using Pkg\n",
        "Pkg.add(\"Plots\")\n",
        "using Plots"
      ],
      "execution_count": null,
      "outputs": []
    },
    {
      "cell_type": "markdown",
      "metadata": {
        "id": "g5GT9g6CEPCp"
      },
      "source": [
        "Leer un CSV\n"
      ]
    },
    {
      "cell_type": "code",
      "metadata": {
        "colab": {
          "base_uri": "https://localhost:8080/"
        },
        "id": "MdwXzoe8D5tn",
        "outputId": "67d27fb1-651d-4efe-dfd9-9f11abd8ae9a"
      },
      "source": [
        "csv_reader = CSV.File(\"Spotify-2000.csv\")\n",
        "println(typeof(csv_reader))"
      ],
      "execution_count": 3,
      "outputs": [
        {
          "output_type": "stream",
          "text": [
            "CSV.File{false}\n"
          ],
          "name": "stdout"
        }
      ]
    },
    {
      "cell_type": "code",
      "metadata": {
        "id": "fmFiK2yOElLR"
      },
      "source": [
        "using Pkg\n",
        "Pkg.add(\"DataFrames\")\n",
        "using DataFrames"
      ],
      "execution_count": 4,
      "outputs": []
    },
    {
      "cell_type": "markdown",
      "metadata": {
        "id": "hmmLhsRhxYNp"
      },
      "source": [
        "DF completo"
      ]
    },
    {
      "cell_type": "code",
      "metadata": {
        "colab": {
          "base_uri": "https://localhost:8080/",
          "height": 741
        },
        "id": "fCrwtALDBxhN",
        "outputId": "15518f94-499f-43d6-d112-9c31dfdee5f6"
      },
      "source": [
        "df = DataFrame(CSV.File(\"Spotify-2000.csv\"))\n"
      ],
      "execution_count": 5,
      "outputs": [
        {
          "output_type": "execute_result",
          "data": {
            "text/latex": "\\begin{tabular}{r|ccccc}\n\t& Index & Title & Artist & Top Genre & \\\\\n\t\\hline\n\t& Int64 & String & String & String & \\\\\n\t\\hline\n\t1 & 1 & Sunrise & Norah Jones & adult standards & $\\dots$ \\\\\n\t2 & 2 & Black Night & Deep Purple & album rock & $\\dots$ \\\\\n\t3 & 3 & Clint Eastwood & Gorillaz & alternative hip hop & $\\dots$ \\\\\n\t4 & 4 & The Pretender & Foo Fighters & alternative metal & $\\dots$ \\\\\n\t5 & 5 & Waitin' On A Sunny Day & Bruce Springsteen & classic rock & $\\dots$ \\\\\n\t6 & 6 & The Road Ahead (Miles Of The Unknown) & City To City & alternative pop rock & $\\dots$ \\\\\n\t7 & 7 & She Will Be Loved & Maroon 5 & pop & $\\dots$ \\\\\n\t8 & 8 & Knights of Cydonia & Muse & modern rock & $\\dots$ \\\\\n\t9 & 9 & Mr. Brightside & The Killers & modern rock & $\\dots$ \\\\\n\t10 & 10 & Without Me & Eminem & detroit hip hop & $\\dots$ \\\\\n\t11 & 11 & Love Me Tender & Elvis Presley & adult standards & $\\dots$ \\\\\n\t12 & 12 & Seven Nation Army & The White Stripes & alternative rock & $\\dots$ \\\\\n\t13 & 13 & Als Het Golft & De Dijk & dutch indie & $\\dots$ \\\\\n\t14 & 14 & I'm going home & Ten Years After & album rock & $\\dots$ \\\\\n\t15 & 15 & Fluorescent Adolescent & Arctic Monkeys & garage rock & $\\dots$ \\\\\n\t16 & 16 & Zonder Jou & Paul de Leeuw & dutch cabaret & $\\dots$ \\\\\n\t17 & 17 & Speed of Sound & Coldplay & permanent wave & $\\dots$ \\\\\n\t18 & 18 & Uninvited & Alanis Morissette & alternative rock & $\\dots$ \\\\\n\t19 & 19 & Music & John Miles & classic uk pop & $\\dots$ \\\\\n\t20 & 20 & Cry Me a River & Justin Timberlake & dance pop & $\\dots$ \\\\\n\t21 & 21 & Fix You & Coldplay & permanent wave & $\\dots$ \\\\\n\t22 & 22 & The Cave & Mumford \\& Sons & modern folk rock & $\\dots$ \\\\\n\t23 & 23 & Als De Morgen Is Gekomen & Jan Smit & dutch pop & $\\dots$ \\\\\n\t24 & 24 & Somebody Told Me & The Killers & modern rock & $\\dots$ \\\\\n\t25 & 25 & Dichterbij Dan Ooit & BLØF & dutch pop & $\\dots$ \\\\\n\t26 & 26 & Miracle & Ilse DeLange & dutch americana & $\\dots$ \\\\\n\t27 & 27 & Smokers Outside the Hospital Doors & Editors & alternative dance & $\\dots$ \\\\\n\t28 & 28 & Cleanin' Out My Closet & Eminem & detroit hip hop & $\\dots$ \\\\\n\t29 & 29 & Der Weg & Herbert Grönemeyer & german pop & $\\dots$ \\\\\n\t30 & 30 & 7 Seconds (feat. Neneh Cherry) & Youssou N'Dour & afropop & $\\dots$ \\\\\n\t$\\dots$ & $\\dots$ & $\\dots$ & $\\dots$ & $\\dots$ &  \\\\\n\\end{tabular}\n",
            "text/html": [
              "<table class=\"data-frame\"><thead><tr><th></th><th>Index</th><th>Title</th><th>Artist</th><th>Top Genre</th></tr><tr><th></th><th>Int64</th><th>String</th><th>String</th><th>String</th></tr></thead><tbody><p>1,994 rows × 15 columns (omitted printing of 11 columns)</p><tr><th>1</th><td>1</td><td>Sunrise</td><td>Norah Jones</td><td>adult standards</td></tr><tr><th>2</th><td>2</td><td>Black Night</td><td>Deep Purple</td><td>album rock</td></tr><tr><th>3</th><td>3</td><td>Clint Eastwood</td><td>Gorillaz</td><td>alternative hip hop</td></tr><tr><th>4</th><td>4</td><td>The Pretender</td><td>Foo Fighters</td><td>alternative metal</td></tr><tr><th>5</th><td>5</td><td>Waitin' On A Sunny Day</td><td>Bruce Springsteen</td><td>classic rock</td></tr><tr><th>6</th><td>6</td><td>The Road Ahead (Miles Of The Unknown)</td><td>City To City</td><td>alternative pop rock</td></tr><tr><th>7</th><td>7</td><td>She Will Be Loved</td><td>Maroon 5</td><td>pop</td></tr><tr><th>8</th><td>8</td><td>Knights of Cydonia</td><td>Muse</td><td>modern rock</td></tr><tr><th>9</th><td>9</td><td>Mr. Brightside</td><td>The Killers</td><td>modern rock</td></tr><tr><th>10</th><td>10</td><td>Without Me</td><td>Eminem</td><td>detroit hip hop</td></tr><tr><th>11</th><td>11</td><td>Love Me Tender</td><td>Elvis Presley</td><td>adult standards</td></tr><tr><th>12</th><td>12</td><td>Seven Nation Army</td><td>The White Stripes</td><td>alternative rock</td></tr><tr><th>13</th><td>13</td><td>Als Het Golft</td><td>De Dijk</td><td>dutch indie</td></tr><tr><th>14</th><td>14</td><td>I'm going home</td><td>Ten Years After</td><td>album rock</td></tr><tr><th>15</th><td>15</td><td>Fluorescent Adolescent</td><td>Arctic Monkeys</td><td>garage rock</td></tr><tr><th>16</th><td>16</td><td>Zonder Jou</td><td>Paul de Leeuw</td><td>dutch cabaret</td></tr><tr><th>17</th><td>17</td><td>Speed of Sound</td><td>Coldplay</td><td>permanent wave</td></tr><tr><th>18</th><td>18</td><td>Uninvited</td><td>Alanis Morissette</td><td>alternative rock</td></tr><tr><th>19</th><td>19</td><td>Music</td><td>John Miles</td><td>classic uk pop</td></tr><tr><th>20</th><td>20</td><td>Cry Me a River</td><td>Justin Timberlake</td><td>dance pop</td></tr><tr><th>21</th><td>21</td><td>Fix You</td><td>Coldplay</td><td>permanent wave</td></tr><tr><th>22</th><td>22</td><td>The Cave</td><td>Mumford &amp; Sons</td><td>modern folk rock</td></tr><tr><th>23</th><td>23</td><td>Als De Morgen Is Gekomen</td><td>Jan Smit</td><td>dutch pop</td></tr><tr><th>24</th><td>24</td><td>Somebody Told Me</td><td>The Killers</td><td>modern rock</td></tr><tr><th>25</th><td>25</td><td>Dichterbij Dan Ooit</td><td>BLØF</td><td>dutch pop</td></tr><tr><th>26</th><td>26</td><td>Miracle</td><td>Ilse DeLange</td><td>dutch americana</td></tr><tr><th>27</th><td>27</td><td>Smokers Outside the Hospital Doors</td><td>Editors</td><td>alternative dance</td></tr><tr><th>28</th><td>28</td><td>Cleanin' Out My Closet</td><td>Eminem</td><td>detroit hip hop</td></tr><tr><th>29</th><td>29</td><td>Der Weg</td><td>Herbert Grönemeyer</td><td>german pop</td></tr><tr><th>30</th><td>30</td><td>7 Seconds (feat. Neneh Cherry)</td><td>Youssou N'Dour</td><td>afropop</td></tr><tr><th>&vellip;</th><td>&vellip;</td><td>&vellip;</td><td>&vellip;</td><td>&vellip;</td></tr></tbody></table>"
            ],
            "text/plain": [
              "\u001b[1m1994×15 DataFrame\u001b[0m\n",
              "\u001b[1m  Row \u001b[0m│\u001b[1m Index \u001b[0m\u001b[1m Title                             \u001b[0m\u001b[1m Artist                   \u001b[0m\u001b[1m To\u001b[0m ⋯\n",
              "\u001b[1m      \u001b[0m│\u001b[90m Int64 \u001b[0m\u001b[90m String                            \u001b[0m\u001b[90m String                   \u001b[0m\u001b[90m St\u001b[0m ⋯\n",
              "──────┼─────────────────────────────────────────────────────────────────────────\n",
              "    1 │     1  Sunrise                            Norah Jones               ad ⋯\n",
              "    2 │     2  Black Night                        Deep Purple               al\n",
              "    3 │     3  Clint Eastwood                     Gorillaz                  al\n",
              "    4 │     4  The Pretender                      Foo Fighters              al\n",
              "    5 │     5  Waitin' On A Sunny Day             Bruce Springsteen         cl ⋯\n",
              "    6 │     6  The Road Ahead (Miles Of The Unk…  City To City              al\n",
              "    7 │     7  She Will Be Loved                  Maroon 5                  po\n",
              "    8 │     8  Knights of Cydonia                 Muse                      mo\n",
              "    9 │     9  Mr. Brightside                     The Killers               mo ⋯\n",
              "   10 │    10  Without Me                         Eminem                    de\n",
              "   11 │    11  Love Me Tender                     Elvis Presley             ad\n",
              "  ⋮   │   ⋮                    ⋮                             ⋮                 ⋱\n",
              " 1985 │  1985  Suite: Judy Blue Eyes - Remaster…  Crosby, Stills & Nash     al\n",
              " 1986 │  1986  Blue Suede Shoes                   Elvis Presley             ad ⋯\n",
              " 1987 │  1987  Jailhouse Rock                     Elvis Presley             ad\n",
              " 1988 │  1988  My Baby Just Cares for Me - 2013…  Nina Simone               ad\n",
              " 1989 │  1989  Summertime                         Louis Armstrong           ad\n",
              " 1990 │  1990  Heartbreak Hotel                   Elvis Presley             ad ⋯\n",
              " 1991 │  1991  Hound Dog                          Elvis Presley             ad\n",
              " 1992 │  1992  Johnny B. Goode                    Chuck Berry               bl\n",
              " 1993 │  1993  Take Five                          The Dave Brubeck Quartet  be\n",
              " 1994 │  1994  Blueberry Hill                     Fats Domino               ad ⋯\n",
              "\u001b[36m                                                12 columns and 1973 rows omitted\u001b[0m"
            ]
          },
          "metadata": {
            "tags": []
          },
          "execution_count": 5
        }
      ]
    },
    {
      "cell_type": "markdown",
      "metadata": {
        "id": "Xn7KEXmYxaUQ"
      },
      "source": [
        "Mostrar filas del primero hacia abajo, la cantidad necesaria"
      ]
    },
    {
      "cell_type": "code",
      "metadata": {
        "id": "e3kkqGFTvSCE",
        "colab": {
          "base_uri": "https://localhost:8080/",
          "height": 195
        },
        "outputId": "108f707c-64d0-49cf-813e-ddc0ba4371a3"
      },
      "source": [
        "first(df, 5)"
      ],
      "execution_count": 8,
      "outputs": [
        {
          "output_type": "execute_result",
          "data": {
            "text/latex": "\\begin{tabular}{r|ccccccc}\n\t& Index & Title & Artist & Top Genre & Year & Beats Per Minute (BPM) & \\\\\n\t\\hline\n\t& Int64 & String & String & String & Int64 & Int64 & \\\\\n\t\\hline\n\t1 & 1 & Sunrise & Norah Jones & adult standards & 2004 & 157 & $\\dots$ \\\\\n\t2 & 2 & Black Night & Deep Purple & album rock & 2000 & 135 & $\\dots$ \\\\\n\t3 & 3 & Clint Eastwood & Gorillaz & alternative hip hop & 2001 & 168 & $\\dots$ \\\\\n\t4 & 4 & The Pretender & Foo Fighters & alternative metal & 2007 & 173 & $\\dots$ \\\\\n\t5 & 5 & Waitin' On A Sunny Day & Bruce Springsteen & classic rock & 2002 & 106 & $\\dots$ \\\\\n\\end{tabular}\n",
            "text/html": [
              "<table class=\"data-frame\"><thead><tr><th></th><th>Index</th><th>Title</th><th>Artist</th><th>Top Genre</th><th>Year</th><th>Beats Per Minute (BPM)</th></tr><tr><th></th><th>Int64</th><th>String</th><th>String</th><th>String</th><th>Int64</th><th>Int64</th></tr></thead><tbody><p>5 rows × 15 columns (omitted printing of 9 columns)</p><tr><th>1</th><td>1</td><td>Sunrise</td><td>Norah Jones</td><td>adult standards</td><td>2004</td><td>157</td></tr><tr><th>2</th><td>2</td><td>Black Night</td><td>Deep Purple</td><td>album rock</td><td>2000</td><td>135</td></tr><tr><th>3</th><td>3</td><td>Clint Eastwood</td><td>Gorillaz</td><td>alternative hip hop</td><td>2001</td><td>168</td></tr><tr><th>4</th><td>4</td><td>The Pretender</td><td>Foo Fighters</td><td>alternative metal</td><td>2007</td><td>173</td></tr><tr><th>5</th><td>5</td><td>Waitin' On A Sunny Day</td><td>Bruce Springsteen</td><td>classic rock</td><td>2002</td><td>106</td></tr></tbody></table>"
            ],
            "text/plain": [
              "\u001b[1m5×15 DataFrame\u001b[0m\n",
              "\u001b[1m Row \u001b[0m│\u001b[1m Index \u001b[0m\u001b[1m Title                  \u001b[0m\u001b[1m Artist            \u001b[0m\u001b[1m Top Genre           \u001b[0m\u001b[1m \u001b[0m ⋯\n",
              "\u001b[1m     \u001b[0m│\u001b[90m Int64 \u001b[0m\u001b[90m String                 \u001b[0m\u001b[90m String            \u001b[0m\u001b[90m String              \u001b[0m\u001b[90m \u001b[0m ⋯\n",
              "─────┼──────────────────────────────────────────────────────────────────────────\n",
              "   1 │     1  Sunrise                 Norah Jones        adult standards       ⋯\n",
              "   2 │     2  Black Night             Deep Purple        album rock\n",
              "   3 │     3  Clint Eastwood          Gorillaz           alternative hip hop\n",
              "   4 │     4  The Pretender           Foo Fighters       alternative metal\n",
              "   5 │     5  Waitin' On A Sunny Day  Bruce Springsteen  classic rock          ⋯\n",
              "\u001b[36m                                                              11 columns omitted\u001b[0m"
            ]
          },
          "metadata": {
            "tags": []
          },
          "execution_count": 8
        }
      ]
    },
    {
      "cell_type": "markdown",
      "metadata": {
        "id": "tbD3z-7Jxgrc"
      },
      "source": [
        "Acceder a un elemento en especifico"
      ]
    },
    {
      "cell_type": "code",
      "metadata": {
        "colab": {
          "base_uri": "https://localhost:8080/"
        },
        "id": "y0gAK_AhxIkT",
        "outputId": "e2be62ab-181d-492d-bbec-ff81a426da59"
      },
      "source": [
        "df[2, 2]"
      ],
      "execution_count": 9,
      "outputs": [
        {
          "output_type": "execute_result",
          "data": {
            "text/plain": [
              "\"Black Night\""
            ]
          },
          "metadata": {
            "tags": []
          },
          "execution_count": 9
        }
      ]
    },
    {
      "cell_type": "markdown",
      "metadata": {
        "id": "YFVZZDF3xjvN"
      },
      "source": [
        "Columna especifica"
      ]
    },
    {
      "cell_type": "code",
      "metadata": {
        "colab": {
          "base_uri": "https://localhost:8080/"
        },
        "id": "PNd3GyAkwlTp",
        "outputId": "5e599670-5690-4158-8ce2-d83f276f9c46"
      },
      "source": [
        "df[!, :Title]"
      ],
      "execution_count": 7,
      "outputs": [
        {
          "output_type": "execute_result",
          "data": {
            "text/plain": [
              "1994-element Vector{String}:\n",
              " \"Sunrise\"\n",
              " \"Black Night\"\n",
              " \"Clint Eastwood\"\n",
              " \"The Pretender\"\n",
              " \"Waitin' On A Sunny Day\"\n",
              " \"The Road Ahead (Miles Of The Unknown)\"\n",
              " \"She Will Be Loved\"\n",
              " \"Knights of Cydonia\"\n",
              " \"Mr. Brightside\"\n",
              " \"Without Me\"\n",
              " \"Love Me Tender\"\n",
              " \"Seven Nation Army\"\n",
              " \"Als Het Golft\"\n",
              " ⋮\n",
              " \"Get Ready\"\n",
              " \"Black Magic Woman - 2018 Remaster\"\n",
              " \"Suite: Judy Blue Eyes - Remastered\"\n",
              " \"Blue Suede Shoes\"\n",
              " \"Jailhouse Rock\"\n",
              " \"My Baby Just Cares for Me - 2013 Remastered Version\"\n",
              " \"Summertime\"\n",
              " \"Heartbreak Hotel\"\n",
              " \"Hound Dog\"\n",
              " \"Johnny B. Goode\"\n",
              " \"Take Five\"\n",
              " \"Blueberry Hill\""
            ]
          },
          "metadata": {
            "tags": []
          },
          "execution_count": 7
        }
      ]
    },
    {
      "cell_type": "markdown",
      "metadata": {
        "id": "VU_jYQOwxmj3"
      },
      "source": [
        "Grafico generico de prueba"
      ]
    },
    {
      "cell_type": "code",
      "metadata": {
        "colab": {
          "base_uri": "https://localhost:8080/",
          "height": 420
        },
        "id": "WG8r_jbSK4S_",
        "outputId": "25b2270c-f578-4e8b-a227-42e9a5bdcf98"
      },
      "source": [
        "x = 1:10; y = rand(10); # These are the plotting data\n",
        "plot(x, y)"
      ],
      "execution_count": null,
      "outputs": [
        {
          "output_type": "execute_result",
          "data": {
            "image/svg+xml": "<?xml version=\"1.0\" encoding=\"utf-8\"?>\n<svg xmlns=\"http://www.w3.org/2000/svg\" xmlns:xlink=\"http://www.w3.org/1999/xlink\" width=\"600\" height=\"400\" viewBox=\"0 0 2400 1600\">\n<defs>\n  <clipPath id=\"clip870\">\n    <rect x=\"0\" y=\"0\" width=\"2400\" height=\"1600\"/>\n  </clipPath>\n</defs>\n<path clip-path=\"url(#clip870)\" d=\"\nM0 1600 L2400 1600 L2400 0 L0 0  Z\n  \" fill=\"#ffffff\" fill-rule=\"evenodd\" fill-opacity=\"1\"/>\n<defs>\n  <clipPath id=\"clip871\">\n    <rect x=\"480\" y=\"0\" width=\"1681\" height=\"1600\"/>\n  </clipPath>\n</defs>\n<path clip-path=\"url(#clip870)\" d=\"\nM156.598 1486.45 L2352.76 1486.45 L2352.76 47.2441 L156.598 47.2441  Z\n  \" fill=\"#ffffff\" fill-rule=\"evenodd\" fill-opacity=\"1\"/>\n<defs>\n  <clipPath id=\"clip872\">\n    <rect x=\"156\" y=\"47\" width=\"2197\" height=\"1440\"/>\n  </clipPath>\n</defs>\n<polyline clip-path=\"url(#clip872)\" style=\"stroke:#000000; stroke-linecap:butt; stroke-linejoin:round; stroke-width:2; stroke-opacity:0.1; fill:none\" points=\"\n  448.959,1486.45 448.959,47.2441 \n  \"/>\n<polyline clip-path=\"url(#clip872)\" style=\"stroke:#000000; stroke-linecap:butt; stroke-linejoin:round; stroke-width:2; stroke-opacity:0.1; fill:none\" points=\"\n  909.369,1486.45 909.369,47.2441 \n  \"/>\n<polyline clip-path=\"url(#clip872)\" style=\"stroke:#000000; stroke-linecap:butt; stroke-linejoin:round; stroke-width:2; stroke-opacity:0.1; fill:none\" points=\"\n  1369.78,1486.45 1369.78,47.2441 \n  \"/>\n<polyline clip-path=\"url(#clip872)\" style=\"stroke:#000000; stroke-linecap:butt; stroke-linejoin:round; stroke-width:2; stroke-opacity:0.1; fill:none\" points=\"\n  1830.19,1486.45 1830.19,47.2441 \n  \"/>\n<polyline clip-path=\"url(#clip872)\" style=\"stroke:#000000; stroke-linecap:butt; stroke-linejoin:round; stroke-width:2; stroke-opacity:0.1; fill:none\" points=\"\n  2290.6,1486.45 2290.6,47.2441 \n  \"/>\n<polyline clip-path=\"url(#clip870)\" style=\"stroke:#000000; stroke-linecap:butt; stroke-linejoin:round; stroke-width:4; stroke-opacity:1; fill:none\" points=\"\n  156.598,1486.45 2352.76,1486.45 \n  \"/>\n<polyline clip-path=\"url(#clip870)\" style=\"stroke:#000000; stroke-linecap:butt; stroke-linejoin:round; stroke-width:4; stroke-opacity:1; fill:none\" points=\"\n  448.959,1486.45 448.959,1469.18 \n  \"/>\n<polyline clip-path=\"url(#clip870)\" style=\"stroke:#000000; stroke-linecap:butt; stroke-linejoin:round; stroke-width:4; stroke-opacity:1; fill:none\" points=\"\n  909.369,1486.45 909.369,1469.18 \n  \"/>\n<polyline clip-path=\"url(#clip870)\" style=\"stroke:#000000; stroke-linecap:butt; stroke-linejoin:round; stroke-width:4; stroke-opacity:1; fill:none\" points=\"\n  1369.78,1486.45 1369.78,1469.18 \n  \"/>\n<polyline clip-path=\"url(#clip870)\" style=\"stroke:#000000; stroke-linecap:butt; stroke-linejoin:round; stroke-width:4; stroke-opacity:1; fill:none\" points=\"\n  1830.19,1486.45 1830.19,1469.18 \n  \"/>\n<polyline clip-path=\"url(#clip870)\" style=\"stroke:#000000; stroke-linecap:butt; stroke-linejoin:round; stroke-width:4; stroke-opacity:1; fill:none\" points=\"\n  2290.6,1486.45 2290.6,1469.18 \n  \"/>\n<path clip-path=\"url(#clip870)\" d=\"M443.612 1543.18 L459.931 1543.18 L459.931 1547.12 L437.987 1547.12 L437.987 1543.18 Q440.649 1540.43 445.232 1535.8 Q449.838 1531.15 451.019 1529.81 Q453.264 1527.28 454.144 1525.55 Q455.047 1523.79 455.047 1522.1 Q455.047 1519.34 453.102 1517.61 Q451.181 1515.87 448.079 1515.87 Q445.88 1515.87 443.426 1516.63 Q440.996 1517.4 438.218 1518.95 L438.218 1514.23 Q441.042 1513.09 443.496 1512.51 Q445.95 1511.93 447.987 1511.93 Q453.357 1511.93 456.551 1514.62 Q459.746 1517.31 459.746 1521.8 Q459.746 1523.93 458.936 1525.85 Q458.149 1527.74 456.042 1530.34 Q455.463 1531.01 452.362 1534.23 Q449.26 1537.42 443.612 1543.18 Z\" fill=\"#000000\" fill-rule=\"evenodd\" fill-opacity=\"1\" /><path clip-path=\"url(#clip870)\" d=\"M912.379 1516.63 L900.573 1535.08 L912.379 1535.08 L912.379 1516.63 M911.152 1512.56 L917.031 1512.56 L917.031 1535.08 L921.962 1535.08 L921.962 1538.97 L917.031 1538.97 L917.031 1547.12 L912.379 1547.12 L912.379 1538.97 L896.777 1538.97 L896.777 1534.46 L911.152 1512.56 Z\" fill=\"#000000\" fill-rule=\"evenodd\" fill-opacity=\"1\" /><path clip-path=\"url(#clip870)\" d=\"M1370.18 1527.98 Q1367.04 1527.98 1365.18 1530.13 Q1363.36 1532.28 1363.36 1536.03 Q1363.36 1539.76 1365.18 1541.93 Q1367.04 1544.09 1370.18 1544.09 Q1373.33 1544.09 1375.16 1541.93 Q1377.01 1539.76 1377.01 1536.03 Q1377.01 1532.28 1375.16 1530.13 Q1373.33 1527.98 1370.18 1527.98 M1379.47 1513.32 L1379.47 1517.58 Q1377.71 1516.75 1375.9 1516.31 Q1374.12 1515.87 1372.36 1515.87 Q1367.73 1515.87 1365.28 1519 Q1362.85 1522.12 1362.5 1528.44 Q1363.87 1526.43 1365.93 1525.36 Q1367.99 1524.27 1370.46 1524.27 Q1375.67 1524.27 1378.68 1527.44 Q1381.71 1530.59 1381.71 1536.03 Q1381.71 1541.36 1378.56 1544.57 Q1375.42 1547.79 1370.18 1547.79 Q1364.19 1547.79 1361.02 1543.21 Q1357.85 1538.6 1357.85 1529.87 Q1357.85 1521.68 1361.74 1516.82 Q1365.62 1511.93 1372.18 1511.93 Q1373.93 1511.93 1375.72 1512.28 Q1377.52 1512.63 1379.47 1513.32 Z\" fill=\"#000000\" fill-rule=\"evenodd\" fill-opacity=\"1\" /><path clip-path=\"url(#clip870)\" d=\"M1830.19 1530.71 Q1826.86 1530.71 1824.94 1532.49 Q1823.04 1534.27 1823.04 1537.4 Q1823.04 1540.52 1824.94 1542.31 Q1826.86 1544.09 1830.19 1544.09 Q1833.52 1544.09 1835.44 1542.31 Q1837.37 1540.5 1837.37 1537.4 Q1837.37 1534.27 1835.44 1532.49 Q1833.55 1530.71 1830.19 1530.71 M1825.51 1528.72 Q1822.5 1527.98 1820.82 1525.92 Q1819.15 1523.86 1819.15 1520.89 Q1819.15 1516.75 1822.09 1514.34 Q1825.05 1511.93 1830.19 1511.93 Q1835.35 1511.93 1838.29 1514.34 Q1841.23 1516.75 1841.23 1520.89 Q1841.23 1523.86 1839.54 1525.92 Q1837.88 1527.98 1834.89 1528.72 Q1838.27 1529.5 1840.14 1531.8 Q1842.04 1534.09 1842.04 1537.4 Q1842.04 1542.42 1838.96 1545.11 Q1835.91 1547.79 1830.19 1547.79 Q1824.47 1547.79 1821.39 1545.11 Q1818.34 1542.42 1818.34 1537.4 Q1818.34 1534.09 1820.24 1531.8 Q1822.13 1529.5 1825.51 1528.72 M1823.8 1521.33 Q1823.8 1524.02 1825.47 1525.52 Q1827.16 1527.03 1830.19 1527.03 Q1833.2 1527.03 1834.89 1525.52 Q1836.6 1524.02 1836.6 1521.33 Q1836.6 1518.65 1834.89 1517.14 Q1833.2 1515.64 1830.19 1515.64 Q1827.16 1515.64 1825.47 1517.14 Q1823.8 1518.65 1823.8 1521.33 Z\" fill=\"#000000\" fill-rule=\"evenodd\" fill-opacity=\"1\" /><path clip-path=\"url(#clip870)\" d=\"M2265.29 1543.18 L2272.93 1543.18 L2272.93 1516.82 L2264.62 1518.49 L2264.62 1514.23 L2272.88 1512.56 L2277.56 1512.56 L2277.56 1543.18 L2285.2 1543.18 L2285.2 1547.12 L2265.29 1547.12 L2265.29 1543.18 Z\" fill=\"#000000\" fill-rule=\"evenodd\" fill-opacity=\"1\" /><path clip-path=\"url(#clip870)\" d=\"M2304.64 1515.64 Q2301.03 1515.64 2299.2 1519.2 Q2297.39 1522.75 2297.39 1529.87 Q2297.39 1536.98 2299.2 1540.55 Q2301.03 1544.09 2304.64 1544.09 Q2308.27 1544.09 2310.08 1540.55 Q2311.91 1536.98 2311.91 1529.87 Q2311.91 1522.75 2310.08 1519.2 Q2308.27 1515.64 2304.64 1515.64 M2304.64 1511.93 Q2310.45 1511.93 2313.51 1516.54 Q2316.58 1521.12 2316.58 1529.87 Q2316.58 1538.6 2313.51 1543.21 Q2310.45 1547.79 2304.64 1547.79 Q2298.83 1547.79 2295.75 1543.21 Q2292.7 1538.6 2292.7 1529.87 Q2292.7 1521.12 2295.75 1516.54 Q2298.83 1511.93 2304.64 1511.93 Z\" fill=\"#000000\" fill-rule=\"evenodd\" fill-opacity=\"1\" /><polyline clip-path=\"url(#clip872)\" style=\"stroke:#000000; stroke-linecap:butt; stroke-linejoin:round; stroke-width:2; stroke-opacity:0.1; fill:none\" points=\"\n  156.598,1198.21 2352.76,1198.21 \n  \"/>\n<polyline clip-path=\"url(#clip872)\" style=\"stroke:#000000; stroke-linecap:butt; stroke-linejoin:round; stroke-width:2; stroke-opacity:0.1; fill:none\" points=\"\n  156.598,881.179 2352.76,881.179 \n  \"/>\n<polyline clip-path=\"url(#clip872)\" style=\"stroke:#000000; stroke-linecap:butt; stroke-linejoin:round; stroke-width:2; stroke-opacity:0.1; fill:none\" points=\"\n  156.598,564.147 2352.76,564.147 \n  \"/>\n<polyline clip-path=\"url(#clip872)\" style=\"stroke:#000000; stroke-linecap:butt; stroke-linejoin:round; stroke-width:2; stroke-opacity:0.1; fill:none\" points=\"\n  156.598,247.115 2352.76,247.115 \n  \"/>\n<polyline clip-path=\"url(#clip870)\" style=\"stroke:#000000; stroke-linecap:butt; stroke-linejoin:round; stroke-width:4; stroke-opacity:1; fill:none\" points=\"\n  156.598,1486.45 156.598,47.2441 \n  \"/>\n<polyline clip-path=\"url(#clip870)\" style=\"stroke:#000000; stroke-linecap:butt; stroke-linejoin:round; stroke-width:4; stroke-opacity:1; fill:none\" points=\"\n  156.598,1198.21 182.952,1198.21 \n  \"/>\n<polyline clip-path=\"url(#clip870)\" style=\"stroke:#000000; stroke-linecap:butt; stroke-linejoin:round; stroke-width:4; stroke-opacity:1; fill:none\" points=\"\n  156.598,881.179 182.952,881.179 \n  \"/>\n<polyline clip-path=\"url(#clip870)\" style=\"stroke:#000000; stroke-linecap:butt; stroke-linejoin:round; stroke-width:4; stroke-opacity:1; fill:none\" points=\"\n  156.598,564.147 182.952,564.147 \n  \"/>\n<polyline clip-path=\"url(#clip870)\" style=\"stroke:#000000; stroke-linecap:butt; stroke-linejoin:round; stroke-width:4; stroke-opacity:1; fill:none\" points=\"\n  156.598,247.115 182.952,247.115 \n  \"/>\n<path clip-path=\"url(#clip870)\" d=\"M65.0198 1184.01 Q61.4087 1184.01 59.58 1187.57 Q57.7745 1191.12 57.7745 1198.25 Q57.7745 1205.35 59.58 1208.92 Q61.4087 1212.46 65.0198 1212.46 Q68.6541 1212.46 70.4596 1208.92 Q72.2883 1205.35 72.2883 1198.25 Q72.2883 1191.12 70.4596 1187.57 Q68.6541 1184.01 65.0198 1184.01 M65.0198 1180.31 Q70.83 1180.31 73.8855 1184.91 Q76.9642 1189.5 76.9642 1198.25 Q76.9642 1206.97 73.8855 1211.58 Q70.83 1216.16 65.0198 1216.16 Q59.2097 1216.16 56.131 1211.58 Q53.0754 1206.97 53.0754 1198.25 Q53.0754 1189.5 56.131 1184.91 Q59.2097 1180.31 65.0198 1180.31 Z\" fill=\"#000000\" fill-rule=\"evenodd\" fill-opacity=\"1\" /><path clip-path=\"url(#clip870)\" d=\"M85.1818 1209.61 L90.066 1209.61 L90.066 1215.49 L85.1818 1215.49 L85.1818 1209.61 Z\" fill=\"#000000\" fill-rule=\"evenodd\" fill-opacity=\"1\" /><path clip-path=\"url(#clip870)\" d=\"M104.279 1211.56 L120.598 1211.56 L120.598 1215.49 L98.6539 1215.49 L98.6539 1211.56 Q101.316 1208.8 105.899 1204.17 Q110.506 1199.52 111.686 1198.18 Q113.932 1195.65 114.811 1193.92 Q115.714 1192.16 115.714 1190.47 Q115.714 1187.71 113.77 1185.98 Q111.848 1184.24 108.746 1184.24 Q106.547 1184.24 104.094 1185.01 Q101.663 1185.77 98.8854 1187.32 L98.8854 1182.6 Q101.709 1181.46 104.163 1180.89 Q106.617 1180.31 108.654 1180.31 Q114.024 1180.31 117.219 1182.99 Q120.413 1185.68 120.413 1190.17 Q120.413 1192.3 119.603 1194.22 Q118.816 1196.12 116.709 1198.71 Q116.131 1199.38 113.029 1202.6 Q109.927 1205.79 104.279 1211.56 Z\" fill=\"#000000\" fill-rule=\"evenodd\" fill-opacity=\"1\" /><path clip-path=\"url(#clip870)\" d=\"M62.9365 866.978 Q59.3254 866.978 57.4967 870.543 Q55.6912 874.084 55.6912 881.214 Q55.6912 888.32 57.4967 891.885 Q59.3254 895.427 62.9365 895.427 Q66.5707 895.427 68.3763 891.885 Q70.205 888.32 70.205 881.214 Q70.205 874.084 68.3763 870.543 Q66.5707 866.978 62.9365 866.978 M62.9365 863.274 Q68.7467 863.274 71.8022 867.881 Q74.8809 872.464 74.8809 881.214 Q74.8809 889.941 71.8022 894.547 Q68.7467 899.13 62.9365 899.13 Q57.1264 899.13 54.0477 894.547 Q50.9921 889.941 50.9921 881.214 Q50.9921 872.464 54.0477 867.881 Q57.1264 863.274 62.9365 863.274 Z\" fill=\"#000000\" fill-rule=\"evenodd\" fill-opacity=\"1\" /><path clip-path=\"url(#clip870)\" d=\"M83.0984 892.58 L87.9827 892.58 L87.9827 898.459 L83.0984 898.459 L83.0984 892.58 Z\" fill=\"#000000\" fill-rule=\"evenodd\" fill-opacity=\"1\" /><path clip-path=\"url(#clip870)\" d=\"M111.015 867.973 L99.2095 886.422 L111.015 886.422 L111.015 867.973 M109.788 863.899 L115.668 863.899 L115.668 886.422 L120.598 886.422 L120.598 890.311 L115.668 890.311 L115.668 898.459 L111.015 898.459 L111.015 890.311 L95.4132 890.311 L95.4132 885.797 L109.788 863.899 Z\" fill=\"#000000\" fill-rule=\"evenodd\" fill-opacity=\"1\" /><path clip-path=\"url(#clip870)\" d=\"M63.2606 549.946 Q59.6495 549.946 57.8208 553.51 Q56.0152 557.052 56.0152 564.182 Q56.0152 571.288 57.8208 574.853 Q59.6495 578.395 63.2606 578.395 Q66.8948 578.395 68.7004 574.853 Q70.5291 571.288 70.5291 564.182 Q70.5291 557.052 68.7004 553.51 Q66.8948 549.946 63.2606 549.946 M63.2606 546.242 Q69.0707 546.242 72.1263 550.848 Q75.205 555.432 75.205 564.182 Q75.205 572.908 72.1263 577.515 Q69.0707 582.098 63.2606 582.098 Q57.4504 582.098 54.3717 577.515 Q51.3162 572.908 51.3162 564.182 Q51.3162 555.432 54.3717 550.848 Q57.4504 546.242 63.2606 546.242 Z\" fill=\"#000000\" fill-rule=\"evenodd\" fill-opacity=\"1\" /><path clip-path=\"url(#clip870)\" d=\"M83.4225 575.547 L88.3067 575.547 L88.3067 581.427 L83.4225 581.427 L83.4225 575.547 Z\" fill=\"#000000\" fill-rule=\"evenodd\" fill-opacity=\"1\" /><path clip-path=\"url(#clip870)\" d=\"M109.071 562.284 Q105.922 562.284 104.071 564.436 Q102.242 566.589 102.242 570.339 Q102.242 574.066 104.071 576.242 Q105.922 578.395 109.071 578.395 Q112.219 578.395 114.047 576.242 Q115.899 574.066 115.899 570.339 Q115.899 566.589 114.047 564.436 Q112.219 562.284 109.071 562.284 M118.353 547.631 L118.353 551.89 Q116.594 551.057 114.788 550.617 Q113.006 550.177 111.246 550.177 Q106.617 550.177 104.163 553.302 Q101.733 556.427 101.385 562.746 Q102.751 560.733 104.811 559.668 Q106.871 558.58 109.348 558.58 Q114.557 558.58 117.566 561.751 Q120.598 564.899 120.598 570.339 Q120.598 575.663 117.45 578.881 Q114.302 582.098 109.071 582.098 Q103.075 582.098 99.9039 577.515 Q96.7326 572.908 96.7326 564.182 Q96.7326 555.987 100.621 551.126 Q104.51 546.242 111.061 546.242 Q112.82 546.242 114.603 546.589 Q116.408 546.936 118.353 547.631 Z\" fill=\"#000000\" fill-rule=\"evenodd\" fill-opacity=\"1\" /><path clip-path=\"url(#clip870)\" d=\"M63.5152 232.913 Q59.9041 232.913 58.0754 236.478 Q56.2699 240.02 56.2699 247.149 Q56.2699 254.256 58.0754 257.821 Q59.9041 261.362 63.5152 261.362 Q67.1494 261.362 68.955 257.821 Q70.7837 254.256 70.7837 247.149 Q70.7837 240.02 68.955 236.478 Q67.1494 232.913 63.5152 232.913 M63.5152 229.21 Q69.3254 229.21 72.3809 233.816 Q75.4596 238.399 75.4596 247.149 Q75.4596 255.876 72.3809 260.483 Q69.3254 265.066 63.5152 265.066 Q57.7051 265.066 54.6264 260.483 Q51.5708 255.876 51.5708 247.149 Q51.5708 238.399 54.6264 233.816 Q57.7051 229.21 63.5152 229.21 Z\" fill=\"#000000\" fill-rule=\"evenodd\" fill-opacity=\"1\" /><path clip-path=\"url(#clip870)\" d=\"M83.6771 258.515 L88.5614 258.515 L88.5614 264.395 L83.6771 264.395 L83.6771 258.515 Z\" fill=\"#000000\" fill-rule=\"evenodd\" fill-opacity=\"1\" /><path clip-path=\"url(#clip870)\" d=\"M108.746 247.983 Q105.413 247.983 103.492 249.765 Q101.594 251.548 101.594 254.673 Q101.594 257.798 103.492 259.58 Q105.413 261.362 108.746 261.362 Q112.08 261.362 114.001 259.58 Q115.922 257.774 115.922 254.673 Q115.922 251.548 114.001 249.765 Q112.103 247.983 108.746 247.983 M104.071 245.992 Q101.061 245.251 99.3715 243.191 Q97.7048 241.131 97.7048 238.168 Q97.7048 234.024 100.645 231.617 Q103.608 229.21 108.746 229.21 Q113.908 229.21 116.848 231.617 Q119.788 234.024 119.788 238.168 Q119.788 241.131 118.098 243.191 Q116.432 245.251 113.445 245.992 Q116.825 246.779 118.7 249.071 Q120.598 251.362 120.598 254.673 Q120.598 259.696 117.52 262.381 Q114.464 265.066 108.746 265.066 Q103.029 265.066 99.9502 262.381 Q96.8947 259.696 96.8947 254.673 Q96.8947 251.362 98.7928 249.071 Q100.691 246.779 104.071 245.992 M102.358 238.608 Q102.358 241.293 104.024 242.798 Q105.714 244.302 108.746 244.302 Q111.756 244.302 113.445 242.798 Q115.158 241.293 115.158 238.608 Q115.158 235.923 113.445 234.418 Q111.756 232.913 108.746 232.913 Q105.714 232.913 104.024 234.418 Q102.358 235.923 102.358 238.608 Z\" fill=\"#000000\" fill-rule=\"evenodd\" fill-opacity=\"1\" /><polyline clip-path=\"url(#clip872)\" style=\"stroke:#009af9; stroke-linecap:butt; stroke-linejoin:round; stroke-width:4; stroke-opacity:1; fill:none\" points=\"\n  218.754,373.432 448.959,1445.72 679.164,158.284 909.369,467.361 1139.57,367.35 1369.78,960.946 1599.98,137.21 1830.19,744.018 2060.4,87.9763 2290.6,161.294 \n  \n  \"/>\n<path clip-path=\"url(#clip870)\" d=\"\nM1983.1 216.178 L2279.55 216.178 L2279.55 95.2176 L1983.1 95.2176  Z\n  \" fill=\"#ffffff\" fill-rule=\"evenodd\" fill-opacity=\"1\"/>\n<polyline clip-path=\"url(#clip870)\" style=\"stroke:#000000; stroke-linecap:butt; stroke-linejoin:round; stroke-width:4; stroke-opacity:1; fill:none\" points=\"\n  1983.1,216.178 2279.55,216.178 2279.55,95.2176 1983.1,95.2176 1983.1,216.178 \n  \"/>\n<polyline clip-path=\"url(#clip870)\" style=\"stroke:#009af9; stroke-linecap:butt; stroke-linejoin:round; stroke-width:4; stroke-opacity:1; fill:none\" points=\"\n  2007.5,155.698 2153.92,155.698 \n  \"/>\n<path clip-path=\"url(#clip870)\" d=\"M2192.16 175.385 Q2190.35 180.015 2188.64 181.427 Q2186.93 182.839 2184.06 182.839 L2180.65 182.839 L2180.65 179.274 L2183.15 179.274 Q2184.91 179.274 2185.89 178.44 Q2186.86 177.607 2188.04 174.505 L2188.8 172.561 L2178.32 147.052 L2182.83 147.052 L2190.93 167.329 L2199.03 147.052 L2203.55 147.052 L2192.16 175.385 Z\" fill=\"#000000\" fill-rule=\"evenodd\" fill-opacity=\"1\" /><path clip-path=\"url(#clip870)\" d=\"M2210.84 169.042 L2218.48 169.042 L2218.48 142.677 L2210.17 144.343 L2210.17 140.084 L2218.43 138.418 L2223.11 138.418 L2223.11 169.042 L2230.75 169.042 L2230.75 172.978 L2210.84 172.978 L2210.84 169.042 Z\" fill=\"#000000\" fill-rule=\"evenodd\" fill-opacity=\"1\" /></svg>\n"
          },
          "metadata": {
            "tags": []
          },
          "execution_count": 18
        }
      ]
    }
  ]
}